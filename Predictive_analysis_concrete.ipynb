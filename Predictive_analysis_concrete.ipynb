{
  "nbformat": 4,
  "nbformat_minor": 0,
  "metadata": {
    "colab": {
      "provenance": [],
      "mount_file_id": "13Psrh0StpfU6JAsHnlSr0aY0uj95Xze1",
      "authorship_tag": "ABX9TyPlkf+gumxSYjY8TWrWJ9Tw",
      "include_colab_link": true
    },
    "kernelspec": {
      "name": "python3",
      "display_name": "Python 3"
    },
    "language_info": {
      "name": "python"
    },
    "gpuClass": "standard"
  },
  "cells": [
    {
      "cell_type": "markdown",
      "metadata": {
        "id": "view-in-github",
        "colab_type": "text"
      },
      "source": [
        "<a href=\"https://colab.research.google.com/github/sharad28/Tensile_-_compressive_strength/blob/main/Predictive_analysis_concrete.ipynb\" target=\"_parent\"><img src=\"https://colab.research.google.com/assets/colab-badge.svg\" alt=\"Open In Colab\"/></a>"
      ]
    },
    {
      "cell_type": "code",
      "source": [
        "!pip install python-docx"
      ],
      "metadata": {
        "colab": {
          "base_uri": "https://localhost:8080/"
        },
        "id": "dY_rsuo4iZZD",
        "outputId": "ac356a17-1dec-4441-a4d7-401e5a3d3a5a"
      },
      "execution_count": 2,
      "outputs": [
        {
          "output_type": "stream",
          "name": "stdout",
          "text": [
            "Looking in indexes: https://pypi.org/simple, https://us-python.pkg.dev/colab-wheels/public/simple/\n",
            "Collecting python-docx\n",
            "  Downloading python-docx-0.8.11.tar.gz (5.6 MB)\n",
            "\u001b[K     |████████████████████████████████| 5.6 MB 3.6 MB/s \n",
            "\u001b[?25hRequirement already satisfied: lxml>=2.3.2 in /usr/local/lib/python3.7/dist-packages (from python-docx) (4.9.1)\n",
            "Building wheels for collected packages: python-docx\n",
            "  Building wheel for python-docx (setup.py) ... \u001b[?25l\u001b[?25hdone\n",
            "  Created wheel for python-docx: filename=python_docx-0.8.11-py3-none-any.whl size=184507 sha256=74423918f9ceae250df77748ae2415e5722a1084ff5ff032ac9b6b2b23ff29aa\n",
            "  Stored in directory: /root/.cache/pip/wheels/f6/6f/b9/d798122a8b55b74ad30b5f52b01482169b445fbb84a11797a6\n",
            "Successfully built python-docx\n",
            "Installing collected packages: python-docx\n",
            "Successfully installed python-docx-0.8.11\n"
          ]
        }
      ]
    },
    {
      "cell_type": "code",
      "execution_count": 3,
      "metadata": {
        "id": "n-LjLLuHV1Qk"
      },
      "outputs": [],
      "source": [
        "import os \n",
        "import numpy as np\n",
        "import pandas as pd\n",
        "from docx import Document\n",
        "from pandas_profiling import ProfileReport\n",
        "import seaborn as sns\n",
        "%matplotlib inline"
      ]
    },
    {
      "cell_type": "code",
      "source": [
        "ROOT = \"/content/drive/MyDrive/FSDS_Sunny/Classical_ML_concrete\""
      ],
      "metadata": {
        "id": "k40XLfKDeDG0"
      },
      "execution_count": 4,
      "outputs": []
    },
    {
      "cell_type": "code",
      "source": [
        "%cd /content/drive/MyDrive/FSDS_Sunny/Classical_ML_concrete"
      ],
      "metadata": {
        "colab": {
          "base_uri": "https://localhost:8080/"
        },
        "id": "v29SsMEQeFJi",
        "outputId": "a4ee4bfe-d1db-4d51-8adc-7124ee632d9d"
      },
      "execution_count": 5,
      "outputs": [
        {
          "output_type": "stream",
          "name": "stdout",
          "text": [
            "/content/drive/MyDrive/FSDS_Sunny/Classical_ML_concrete\n"
          ]
        }
      ]
    },
    {
      "cell_type": "code",
      "source": [
        "class Config:\n",
        "  raw_data_file_path = \"./data/raw/1-s2.0-S2352340917300628-mmc2.docx\"\n",
        "  process_data_path = \"./data/process\"\n",
        "  process_data_file = \"strength.csv\" \n",
        "   "
      ],
      "metadata": {
        "id": "-p6ab84FeGgC"
      },
      "execution_count": 6,
      "outputs": []
    },
    {
      "cell_type": "code",
      "source": [
        "document = Document(Config.raw_data_file_path)\n",
        "table = document.tables[0]\n",
        "data = [[cell.text for cell in row.cells] for row in table.rows]\n",
        "df = pd.DataFrame(data)\n",
        "df.head()"
      ],
      "metadata": {
        "colab": {
          "base_uri": "https://localhost:8080/",
          "height": 496
        },
        "id": "TYWrfMugg0hV",
        "outputId": "4197cbb6-bd90-4bec-c0c3-6e1979fb845e"
      },
      "execution_count": 7,
      "outputs": [
        {
          "output_type": "execute_result",
          "data": {
            "text/plain": [
              "               0                                             1   \\\n",
              "0          Source  Compressive \\nstrength of \\ncement\\nfce(MPa)   \n",
              "1  Zhao et al [1]                                          46.8   \n",
              "2  Zhao et al [1]                                          46.8   \n",
              "3  Zhao et al [1]                                          46.8   \n",
              "4  Zhao et al [1]                                          46.8   \n",
              "\n",
              "                                     2                     3   \\\n",
              "0  Tensile strength of cement\\nfct(MPa)  Curing \\nage\\n (day)   \n",
              "1                                   8.0                     3   \n",
              "2                                   8.0                     3   \n",
              "3                                   8.0                     3   \n",
              "4                                   8.0                     7   \n",
              "\n",
              "                                4                                   5   \\\n",
              "0  Dmax of \\nCrushed\\n stone\\n(mm)  Stone powder content in \\nSand (%)   \n",
              "1                             31.5                                   5   \n",
              "2                             31.5                                   9   \n",
              "3                             31.5                                  13   \n",
              "4                             31.5                                   5   \n",
              "\n",
              "                              6     7                              8   \\\n",
              "0  Fineness \\nmodulus \\nof sand    W/B  Water to cement ratio\\n mw/mc   \n",
              "1                           3.34  0.56                           0.56   \n",
              "2                           3.27  0.56                           0.56   \n",
              "3                           2.77  0.56                           0.56   \n",
              "4                           3.34  0.56                           0.56   \n",
              "\n",
              "               9                10           11  \\\n",
              "0  Water\\n(kg/m3)  Sand ratio\\n(%)  Slump\\n(mm)   \n",
              "1             180               44           50   \n",
              "2             180               44           70   \n",
              "3             180               44           50   \n",
              "4             180               44           50   \n",
              "\n",
              "                                   12  \\\n",
              "0  Compressive strength\\nfcu,t\\n(MPa)   \n",
              "1                                32.5   \n",
              "2                                28.7   \n",
              "3                                28.5   \n",
              "4                                33.5   \n",
              "\n",
              "                                         13  \n",
              "0  Splitting tensile \\nstrength\\nfst,t(MPa)  \n",
              "1                                      1.18  \n",
              "2                                      1.13  \n",
              "3                                      1.56  \n",
              "4                                      1.39  "
            ],
            "text/html": [
              "\n",
              "  <div id=\"df-15728744-0cc1-41bb-9318-4709f665b4a1\">\n",
              "    <div class=\"colab-df-container\">\n",
              "      <div>\n",
              "<style scoped>\n",
              "    .dataframe tbody tr th:only-of-type {\n",
              "        vertical-align: middle;\n",
              "    }\n",
              "\n",
              "    .dataframe tbody tr th {\n",
              "        vertical-align: top;\n",
              "    }\n",
              "\n",
              "    .dataframe thead th {\n",
              "        text-align: right;\n",
              "    }\n",
              "</style>\n",
              "<table border=\"1\" class=\"dataframe\">\n",
              "  <thead>\n",
              "    <tr style=\"text-align: right;\">\n",
              "      <th></th>\n",
              "      <th>0</th>\n",
              "      <th>1</th>\n",
              "      <th>2</th>\n",
              "      <th>3</th>\n",
              "      <th>4</th>\n",
              "      <th>5</th>\n",
              "      <th>6</th>\n",
              "      <th>7</th>\n",
              "      <th>8</th>\n",
              "      <th>9</th>\n",
              "      <th>10</th>\n",
              "      <th>11</th>\n",
              "      <th>12</th>\n",
              "      <th>13</th>\n",
              "    </tr>\n",
              "  </thead>\n",
              "  <tbody>\n",
              "    <tr>\n",
              "      <th>0</th>\n",
              "      <td>Source</td>\n",
              "      <td>Compressive \\nstrength of \\ncement\\nfce(MPa)</td>\n",
              "      <td>Tensile strength of cement\\nfct(MPa)</td>\n",
              "      <td>Curing \\nage\\n (day)</td>\n",
              "      <td>Dmax of \\nCrushed\\n stone\\n(mm)</td>\n",
              "      <td>Stone powder content in \\nSand (%)</td>\n",
              "      <td>Fineness \\nmodulus \\nof sand</td>\n",
              "      <td>W/B</td>\n",
              "      <td>Water to cement ratio\\n mw/mc</td>\n",
              "      <td>Water\\n(kg/m3)</td>\n",
              "      <td>Sand ratio\\n(%)</td>\n",
              "      <td>Slump\\n(mm)</td>\n",
              "      <td>Compressive strength\\nfcu,t\\n(MPa)</td>\n",
              "      <td>Splitting tensile \\nstrength\\nfst,t(MPa)</td>\n",
              "    </tr>\n",
              "    <tr>\n",
              "      <th>1</th>\n",
              "      <td>Zhao et al [1]</td>\n",
              "      <td>46.8</td>\n",
              "      <td>8.0</td>\n",
              "      <td>3</td>\n",
              "      <td>31.5</td>\n",
              "      <td>5</td>\n",
              "      <td>3.34</td>\n",
              "      <td>0.56</td>\n",
              "      <td>0.56</td>\n",
              "      <td>180</td>\n",
              "      <td>44</td>\n",
              "      <td>50</td>\n",
              "      <td>32.5</td>\n",
              "      <td>1.18</td>\n",
              "    </tr>\n",
              "    <tr>\n",
              "      <th>2</th>\n",
              "      <td>Zhao et al [1]</td>\n",
              "      <td>46.8</td>\n",
              "      <td>8.0</td>\n",
              "      <td>3</td>\n",
              "      <td>31.5</td>\n",
              "      <td>9</td>\n",
              "      <td>3.27</td>\n",
              "      <td>0.56</td>\n",
              "      <td>0.56</td>\n",
              "      <td>180</td>\n",
              "      <td>44</td>\n",
              "      <td>70</td>\n",
              "      <td>28.7</td>\n",
              "      <td>1.13</td>\n",
              "    </tr>\n",
              "    <tr>\n",
              "      <th>3</th>\n",
              "      <td>Zhao et al [1]</td>\n",
              "      <td>46.8</td>\n",
              "      <td>8.0</td>\n",
              "      <td>3</td>\n",
              "      <td>31.5</td>\n",
              "      <td>13</td>\n",
              "      <td>2.77</td>\n",
              "      <td>0.56</td>\n",
              "      <td>0.56</td>\n",
              "      <td>180</td>\n",
              "      <td>44</td>\n",
              "      <td>50</td>\n",
              "      <td>28.5</td>\n",
              "      <td>1.56</td>\n",
              "    </tr>\n",
              "    <tr>\n",
              "      <th>4</th>\n",
              "      <td>Zhao et al [1]</td>\n",
              "      <td>46.8</td>\n",
              "      <td>8.0</td>\n",
              "      <td>7</td>\n",
              "      <td>31.5</td>\n",
              "      <td>5</td>\n",
              "      <td>3.34</td>\n",
              "      <td>0.56</td>\n",
              "      <td>0.56</td>\n",
              "      <td>180</td>\n",
              "      <td>44</td>\n",
              "      <td>50</td>\n",
              "      <td>33.5</td>\n",
              "      <td>1.39</td>\n",
              "    </tr>\n",
              "  </tbody>\n",
              "</table>\n",
              "</div>\n",
              "      <button class=\"colab-df-convert\" onclick=\"convertToInteractive('df-15728744-0cc1-41bb-9318-4709f665b4a1')\"\n",
              "              title=\"Convert this dataframe to an interactive table.\"\n",
              "              style=\"display:none;\">\n",
              "        \n",
              "  <svg xmlns=\"http://www.w3.org/2000/svg\" height=\"24px\"viewBox=\"0 0 24 24\"\n",
              "       width=\"24px\">\n",
              "    <path d=\"M0 0h24v24H0V0z\" fill=\"none\"/>\n",
              "    <path d=\"M18.56 5.44l.94 2.06.94-2.06 2.06-.94-2.06-.94-.94-2.06-.94 2.06-2.06.94zm-11 1L8.5 8.5l.94-2.06 2.06-.94-2.06-.94L8.5 2.5l-.94 2.06-2.06.94zm10 10l.94 2.06.94-2.06 2.06-.94-2.06-.94-.94-2.06-.94 2.06-2.06.94z\"/><path d=\"M17.41 7.96l-1.37-1.37c-.4-.4-.92-.59-1.43-.59-.52 0-1.04.2-1.43.59L10.3 9.45l-7.72 7.72c-.78.78-.78 2.05 0 2.83L4 21.41c.39.39.9.59 1.41.59.51 0 1.02-.2 1.41-.59l7.78-7.78 2.81-2.81c.8-.78.8-2.07 0-2.86zM5.41 20L4 18.59l7.72-7.72 1.47 1.35L5.41 20z\"/>\n",
              "  </svg>\n",
              "      </button>\n",
              "      \n",
              "  <style>\n",
              "    .colab-df-container {\n",
              "      display:flex;\n",
              "      flex-wrap:wrap;\n",
              "      gap: 12px;\n",
              "    }\n",
              "\n",
              "    .colab-df-convert {\n",
              "      background-color: #E8F0FE;\n",
              "      border: none;\n",
              "      border-radius: 50%;\n",
              "      cursor: pointer;\n",
              "      display: none;\n",
              "      fill: #1967D2;\n",
              "      height: 32px;\n",
              "      padding: 0 0 0 0;\n",
              "      width: 32px;\n",
              "    }\n",
              "\n",
              "    .colab-df-convert:hover {\n",
              "      background-color: #E2EBFA;\n",
              "      box-shadow: 0px 1px 2px rgba(60, 64, 67, 0.3), 0px 1px 3px 1px rgba(60, 64, 67, 0.15);\n",
              "      fill: #174EA6;\n",
              "    }\n",
              "\n",
              "    [theme=dark] .colab-df-convert {\n",
              "      background-color: #3B4455;\n",
              "      fill: #D2E3FC;\n",
              "    }\n",
              "\n",
              "    [theme=dark] .colab-df-convert:hover {\n",
              "      background-color: #434B5C;\n",
              "      box-shadow: 0px 1px 3px 1px rgba(0, 0, 0, 0.15);\n",
              "      filter: drop-shadow(0px 1px 2px rgba(0, 0, 0, 0.3));\n",
              "      fill: #FFFFFF;\n",
              "    }\n",
              "  </style>\n",
              "\n",
              "      <script>\n",
              "        const buttonEl =\n",
              "          document.querySelector('#df-15728744-0cc1-41bb-9318-4709f665b4a1 button.colab-df-convert');\n",
              "        buttonEl.style.display =\n",
              "          google.colab.kernel.accessAllowed ? 'block' : 'none';\n",
              "\n",
              "        async function convertToInteractive(key) {\n",
              "          const element = document.querySelector('#df-15728744-0cc1-41bb-9318-4709f665b4a1');\n",
              "          const dataTable =\n",
              "            await google.colab.kernel.invokeFunction('convertToInteractive',\n",
              "                                                     [key], {});\n",
              "          if (!dataTable) return;\n",
              "\n",
              "          const docLinkHtml = 'Like what you see? Visit the ' +\n",
              "            '<a target=\"_blank\" href=https://colab.research.google.com/notebooks/data_table.ipynb>data table notebook</a>'\n",
              "            + ' to learn more about interactive tables.';\n",
              "          element.innerHTML = '';\n",
              "          dataTable['output_type'] = 'display_data';\n",
              "          await google.colab.output.renderOutput(dataTable, element);\n",
              "          const docLink = document.createElement('div');\n",
              "          docLink.innerHTML = docLinkHtml;\n",
              "          element.appendChild(docLink);\n",
              "        }\n",
              "      </script>\n",
              "    </div>\n",
              "  </div>\n",
              "  "
            ]
          },
          "metadata": {},
          "execution_count": 7
        }
      ]
    },
    {
      "cell_type": "code",
      "source": [
        "df1 = df.rename(columns=pd.Series([i.replace('\\n',\"\") for i in df.iloc[0]]))\n",
        "df1=df1.drop(index=0)"
      ],
      "metadata": {
        "id": "XX09V1qTiMO0"
      },
      "execution_count": 8,
      "outputs": []
    },
    {
      "cell_type": "code",
      "source": [
        "df1.head()\n"
      ],
      "metadata": {
        "colab": {
          "base_uri": "https://localhost:8080/",
          "height": 426
        },
        "id": "l2KGLnPlnOEW",
        "outputId": "cf0ea2b1-ac3e-4a9a-957d-96d63d25bb56"
      },
      "execution_count": 9,
      "outputs": [
        {
          "output_type": "execute_result",
          "data": {
            "text/plain": [
              "           Source Compressive strength of cementfce(MPa)  \\\n",
              "1  Zhao et al [1]                                   46.8   \n",
              "2  Zhao et al [1]                                   46.8   \n",
              "3  Zhao et al [1]                                   46.8   \n",
              "4  Zhao et al [1]                                   46.8   \n",
              "5  Zhao et al [1]                                   46.8   \n",
              "\n",
              "  Tensile strength of cementfct(MPa) Curing age (day)  \\\n",
              "1                                8.0                3   \n",
              "2                                8.0                3   \n",
              "3                                8.0                3   \n",
              "4                                8.0                7   \n",
              "5                                8.0                7   \n",
              "\n",
              "  Dmax of Crushed stone(mm) Stone powder content in Sand (%)  \\\n",
              "1                      31.5                                5   \n",
              "2                      31.5                                9   \n",
              "3                      31.5                               13   \n",
              "4                      31.5                                5   \n",
              "5                      31.5                                9   \n",
              "\n",
              "  Fineness modulus of sand    W/B Water to cement ratio mw/mc Water(kg/m3)  \\\n",
              "1                      3.34  0.56                        0.56          180   \n",
              "2                      3.27  0.56                        0.56          180   \n",
              "3                      2.77  0.56                        0.56          180   \n",
              "4                      3.34  0.56                        0.56          180   \n",
              "5                      3.27  0.56                        0.56          180   \n",
              "\n",
              "  Sand ratio(%) Slump(mm) Compressive strengthfcu,t(MPa)  \\\n",
              "1            44        50                           32.5   \n",
              "2            44        70                           28.7   \n",
              "3            44        50                           28.5   \n",
              "4            44        50                           33.5   \n",
              "5            44        70                           34.9   \n",
              "\n",
              "  Splitting tensile strengthfst,t(MPa)  \n",
              "1                                 1.18  \n",
              "2                                 1.13  \n",
              "3                                 1.56  \n",
              "4                                 1.39  \n",
              "5                                 1.38  "
            ],
            "text/html": [
              "\n",
              "  <div id=\"df-34d84111-f249-4708-878d-87e8c87eecd1\">\n",
              "    <div class=\"colab-df-container\">\n",
              "      <div>\n",
              "<style scoped>\n",
              "    .dataframe tbody tr th:only-of-type {\n",
              "        vertical-align: middle;\n",
              "    }\n",
              "\n",
              "    .dataframe tbody tr th {\n",
              "        vertical-align: top;\n",
              "    }\n",
              "\n",
              "    .dataframe thead th {\n",
              "        text-align: right;\n",
              "    }\n",
              "</style>\n",
              "<table border=\"1\" class=\"dataframe\">\n",
              "  <thead>\n",
              "    <tr style=\"text-align: right;\">\n",
              "      <th></th>\n",
              "      <th>Source</th>\n",
              "      <th>Compressive strength of cementfce(MPa)</th>\n",
              "      <th>Tensile strength of cementfct(MPa)</th>\n",
              "      <th>Curing age (day)</th>\n",
              "      <th>Dmax of Crushed stone(mm)</th>\n",
              "      <th>Stone powder content in Sand (%)</th>\n",
              "      <th>Fineness modulus of sand</th>\n",
              "      <th>W/B</th>\n",
              "      <th>Water to cement ratio mw/mc</th>\n",
              "      <th>Water(kg/m3)</th>\n",
              "      <th>Sand ratio(%)</th>\n",
              "      <th>Slump(mm)</th>\n",
              "      <th>Compressive strengthfcu,t(MPa)</th>\n",
              "      <th>Splitting tensile strengthfst,t(MPa)</th>\n",
              "    </tr>\n",
              "  </thead>\n",
              "  <tbody>\n",
              "    <tr>\n",
              "      <th>1</th>\n",
              "      <td>Zhao et al [1]</td>\n",
              "      <td>46.8</td>\n",
              "      <td>8.0</td>\n",
              "      <td>3</td>\n",
              "      <td>31.5</td>\n",
              "      <td>5</td>\n",
              "      <td>3.34</td>\n",
              "      <td>0.56</td>\n",
              "      <td>0.56</td>\n",
              "      <td>180</td>\n",
              "      <td>44</td>\n",
              "      <td>50</td>\n",
              "      <td>32.5</td>\n",
              "      <td>1.18</td>\n",
              "    </tr>\n",
              "    <tr>\n",
              "      <th>2</th>\n",
              "      <td>Zhao et al [1]</td>\n",
              "      <td>46.8</td>\n",
              "      <td>8.0</td>\n",
              "      <td>3</td>\n",
              "      <td>31.5</td>\n",
              "      <td>9</td>\n",
              "      <td>3.27</td>\n",
              "      <td>0.56</td>\n",
              "      <td>0.56</td>\n",
              "      <td>180</td>\n",
              "      <td>44</td>\n",
              "      <td>70</td>\n",
              "      <td>28.7</td>\n",
              "      <td>1.13</td>\n",
              "    </tr>\n",
              "    <tr>\n",
              "      <th>3</th>\n",
              "      <td>Zhao et al [1]</td>\n",
              "      <td>46.8</td>\n",
              "      <td>8.0</td>\n",
              "      <td>3</td>\n",
              "      <td>31.5</td>\n",
              "      <td>13</td>\n",
              "      <td>2.77</td>\n",
              "      <td>0.56</td>\n",
              "      <td>0.56</td>\n",
              "      <td>180</td>\n",
              "      <td>44</td>\n",
              "      <td>50</td>\n",
              "      <td>28.5</td>\n",
              "      <td>1.56</td>\n",
              "    </tr>\n",
              "    <tr>\n",
              "      <th>4</th>\n",
              "      <td>Zhao et al [1]</td>\n",
              "      <td>46.8</td>\n",
              "      <td>8.0</td>\n",
              "      <td>7</td>\n",
              "      <td>31.5</td>\n",
              "      <td>5</td>\n",
              "      <td>3.34</td>\n",
              "      <td>0.56</td>\n",
              "      <td>0.56</td>\n",
              "      <td>180</td>\n",
              "      <td>44</td>\n",
              "      <td>50</td>\n",
              "      <td>33.5</td>\n",
              "      <td>1.39</td>\n",
              "    </tr>\n",
              "    <tr>\n",
              "      <th>5</th>\n",
              "      <td>Zhao et al [1]</td>\n",
              "      <td>46.8</td>\n",
              "      <td>8.0</td>\n",
              "      <td>7</td>\n",
              "      <td>31.5</td>\n",
              "      <td>9</td>\n",
              "      <td>3.27</td>\n",
              "      <td>0.56</td>\n",
              "      <td>0.56</td>\n",
              "      <td>180</td>\n",
              "      <td>44</td>\n",
              "      <td>70</td>\n",
              "      <td>34.9</td>\n",
              "      <td>1.38</td>\n",
              "    </tr>\n",
              "  </tbody>\n",
              "</table>\n",
              "</div>\n",
              "      <button class=\"colab-df-convert\" onclick=\"convertToInteractive('df-34d84111-f249-4708-878d-87e8c87eecd1')\"\n",
              "              title=\"Convert this dataframe to an interactive table.\"\n",
              "              style=\"display:none;\">\n",
              "        \n",
              "  <svg xmlns=\"http://www.w3.org/2000/svg\" height=\"24px\"viewBox=\"0 0 24 24\"\n",
              "       width=\"24px\">\n",
              "    <path d=\"M0 0h24v24H0V0z\" fill=\"none\"/>\n",
              "    <path d=\"M18.56 5.44l.94 2.06.94-2.06 2.06-.94-2.06-.94-.94-2.06-.94 2.06-2.06.94zm-11 1L8.5 8.5l.94-2.06 2.06-.94-2.06-.94L8.5 2.5l-.94 2.06-2.06.94zm10 10l.94 2.06.94-2.06 2.06-.94-2.06-.94-.94-2.06-.94 2.06-2.06.94z\"/><path d=\"M17.41 7.96l-1.37-1.37c-.4-.4-.92-.59-1.43-.59-.52 0-1.04.2-1.43.59L10.3 9.45l-7.72 7.72c-.78.78-.78 2.05 0 2.83L4 21.41c.39.39.9.59 1.41.59.51 0 1.02-.2 1.41-.59l7.78-7.78 2.81-2.81c.8-.78.8-2.07 0-2.86zM5.41 20L4 18.59l7.72-7.72 1.47 1.35L5.41 20z\"/>\n",
              "  </svg>\n",
              "      </button>\n",
              "      \n",
              "  <style>\n",
              "    .colab-df-container {\n",
              "      display:flex;\n",
              "      flex-wrap:wrap;\n",
              "      gap: 12px;\n",
              "    }\n",
              "\n",
              "    .colab-df-convert {\n",
              "      background-color: #E8F0FE;\n",
              "      border: none;\n",
              "      border-radius: 50%;\n",
              "      cursor: pointer;\n",
              "      display: none;\n",
              "      fill: #1967D2;\n",
              "      height: 32px;\n",
              "      padding: 0 0 0 0;\n",
              "      width: 32px;\n",
              "    }\n",
              "\n",
              "    .colab-df-convert:hover {\n",
              "      background-color: #E2EBFA;\n",
              "      box-shadow: 0px 1px 2px rgba(60, 64, 67, 0.3), 0px 1px 3px 1px rgba(60, 64, 67, 0.15);\n",
              "      fill: #174EA6;\n",
              "    }\n",
              "\n",
              "    [theme=dark] .colab-df-convert {\n",
              "      background-color: #3B4455;\n",
              "      fill: #D2E3FC;\n",
              "    }\n",
              "\n",
              "    [theme=dark] .colab-df-convert:hover {\n",
              "      background-color: #434B5C;\n",
              "      box-shadow: 0px 1px 3px 1px rgba(0, 0, 0, 0.15);\n",
              "      filter: drop-shadow(0px 1px 2px rgba(0, 0, 0, 0.3));\n",
              "      fill: #FFFFFF;\n",
              "    }\n",
              "  </style>\n",
              "\n",
              "      <script>\n",
              "        const buttonEl =\n",
              "          document.querySelector('#df-34d84111-f249-4708-878d-87e8c87eecd1 button.colab-df-convert');\n",
              "        buttonEl.style.display =\n",
              "          google.colab.kernel.accessAllowed ? 'block' : 'none';\n",
              "\n",
              "        async function convertToInteractive(key) {\n",
              "          const element = document.querySelector('#df-34d84111-f249-4708-878d-87e8c87eecd1');\n",
              "          const dataTable =\n",
              "            await google.colab.kernel.invokeFunction('convertToInteractive',\n",
              "                                                     [key], {});\n",
              "          if (!dataTable) return;\n",
              "\n",
              "          const docLinkHtml = 'Like what you see? Visit the ' +\n",
              "            '<a target=\"_blank\" href=https://colab.research.google.com/notebooks/data_table.ipynb>data table notebook</a>'\n",
              "            + ' to learn more about interactive tables.';\n",
              "          element.innerHTML = '';\n",
              "          dataTable['output_type'] = 'display_data';\n",
              "          await google.colab.output.renderOutput(dataTable, element);\n",
              "          const docLink = document.createElement('div');\n",
              "          docLink.innerHTML = docLinkHtml;\n",
              "          element.appendChild(docLink);\n",
              "        }\n",
              "      </script>\n",
              "    </div>\n",
              "  </div>\n",
              "  "
            ]
          },
          "metadata": {},
          "execution_count": 9
        }
      ]
    },
    {
      "cell_type": "code",
      "source": [
        "df1.info()"
      ],
      "metadata": {
        "colab": {
          "base_uri": "https://localhost:8080/"
        },
        "id": "6by0seszE0uv",
        "outputId": "976dd0af-f36e-4b28-8481-7388b3a1a25b"
      },
      "execution_count": 10,
      "outputs": [
        {
          "output_type": "stream",
          "name": "stdout",
          "text": [
            "<class 'pandas.core.frame.DataFrame'>\n",
            "Int64Index: 714 entries, 1 to 714\n",
            "Data columns (total 14 columns):\n",
            " #   Column                                  Non-Null Count  Dtype \n",
            "---  ------                                  --------------  ----- \n",
            " 0   Source                                  714 non-null    object\n",
            " 1   Compressive strength of cementfce(MPa)  714 non-null    object\n",
            " 2   Tensile strength of cementfct(MPa)      714 non-null    object\n",
            " 3   Curing age (day)                        714 non-null    object\n",
            " 4   Dmax of Crushed stone(mm)               714 non-null    object\n",
            " 5   Stone powder content in Sand (%)        714 non-null    object\n",
            " 6   Fineness modulus of sand                714 non-null    object\n",
            " 7   W/B                                     714 non-null    object\n",
            " 8   Water to cement ratio mw/mc             714 non-null    object\n",
            " 9   Water(kg/m3)                            714 non-null    object\n",
            " 10  Sand ratio(%)                           714 non-null    object\n",
            " 11  Slump(mm)                               714 non-null    object\n",
            " 12  Compressive strengthfcu,t(MPa)          714 non-null    object\n",
            " 13  Splitting tensile strengthfst,t(MPa)    714 non-null    object\n",
            "dtypes: object(14)\n",
            "memory usage: 83.7+ KB\n"
          ]
        }
      ]
    },
    {
      "cell_type": "code",
      "source": [
        "# Calculating percentage of missing values in data set\n",
        "## replacing \"-\" with np.nan i.e., null for all columns\n",
        "print(\"--\"*40)\n",
        "for i in df1.columns:\n",
        "    df1[i]=df1[i].replace('-',np.nan)\n",
        "    percent = (df1[i]).isnull().sum()/len(df1[i])*100    \n",
        "    print(f\"Number of Null value in {i} are {percent.round(1)} % \")\n",
        "    if percent.round(1)>30:\n",
        "      print(\"Have to consider to DROP as NAN > 30%\")\n",
        "      print()\n",
        "    print(\"--\"*40)\n"
      ],
      "metadata": {
        "colab": {
          "base_uri": "https://localhost:8080/"
        },
        "id": "XuSxStOH4INu",
        "outputId": "dabb0c71-243c-4c04-9b0c-f34f1d393fdc"
      },
      "execution_count": 11,
      "outputs": [
        {
          "output_type": "stream",
          "name": "stdout",
          "text": [
            "--------------------------------------------------------------------------------\n",
            "Number of Null value in Source are 0.0 % \n",
            "--------------------------------------------------------------------------------\n",
            "Number of Null value in Compressive strength of cementfce(MPa) are 34.6 % \n",
            "Have to consider to DROP as NAN > 30%\n",
            "\n",
            "--------------------------------------------------------------------------------\n",
            "Number of Null value in Tensile strength of cementfct(MPa) are 38.0 % \n",
            "Have to consider to DROP as NAN > 30%\n",
            "\n",
            "--------------------------------------------------------------------------------\n",
            "Number of Null value in Curing age (day) are 0.0 % \n",
            "--------------------------------------------------------------------------------\n",
            "Number of Null value in Dmax of Crushed stone(mm) are 8.7 % \n",
            "--------------------------------------------------------------------------------\n",
            "Number of Null value in Stone powder content in Sand (%) are 5.6 % \n",
            "--------------------------------------------------------------------------------\n",
            "Number of Null value in Fineness modulus of sand  are 16.1 % \n",
            "--------------------------------------------------------------------------------\n",
            "Number of Null value in W/B are 0.6 % \n",
            "--------------------------------------------------------------------------------\n",
            "Number of Null value in Water to cement ratio mw/mc are 1.4 % \n",
            "--------------------------------------------------------------------------------\n",
            "Number of Null value in Water(kg/m3) are 1.8 % \n",
            "--------------------------------------------------------------------------------\n",
            "Number of Null value in Sand ratio(%) are 14.8 % \n",
            "--------------------------------------------------------------------------------\n",
            "Number of Null value in Slump(mm) are 10.5 % \n",
            "--------------------------------------------------------------------------------\n",
            "Number of Null value in Compressive strengthfcu,t(MPa) are 0.0 % \n",
            "--------------------------------------------------------------------------------\n",
            "Number of Null value in Splitting tensile strengthfst,t(MPa) are 0.0 % \n",
            "--------------------------------------------------------------------------------\n"
          ]
        }
      ]
    },
    {
      "cell_type": "markdown",
      "source": [
        "### Issue with data\n",
        "* As null values are more than 30% have to drop following \n",
        "1.   'Tensile strength of cementfct(MPa)'\n",
        "2.   'Compressive strength of cementfce(MPa)',\n",
        "\n",
        "*Drop source as its not relevat to strenth parameter\n",
        "\n",
        "\n",
        "1. 'Source'\n",
        "\n",
        "\n",
        "\n",
        "\n",
        "\n"
      ],
      "metadata": {
        "id": "NbwriftC5Ao2"
      }
    },
    {
      "cell_type": "code",
      "source": [
        "sns.heatmap(df1.isnull(),yticklabels=False,cbar=False,cmap='viridis')"
      ],
      "metadata": {
        "colab": {
          "base_uri": "https://localhost:8080/",
          "height": 478
        },
        "id": "1ieHW6c26Jie",
        "outputId": "6992de9c-b68f-461a-d2ef-f52e33f65deb"
      },
      "execution_count": 12,
      "outputs": [
        {
          "output_type": "execute_result",
          "data": {
            "text/plain": [
              "<matplotlib.axes._subplots.AxesSubplot at 0x7f956e671ed0>"
            ]
          },
          "metadata": {},
          "execution_count": 12
        },
        {
          "output_type": "display_data",
          "data": {
            "text/plain": [
              "<Figure size 432x288 with 1 Axes>"
            ],
            "image/png": "[encoded data removed]"
          },
          "metadata": {
            "needs_background": "light"
          }
        }
      ]
    },
    {
      "cell_type": "code",
      "source": [
        "# df2=df1.drop(columns=['Compressive strength of cementfce(MPa)', 'Tensile strength of cementfct(MPa)' ,'Source'])\n",
        "df2=df1.drop(columns=['Source'])"
      ],
      "metadata": {
        "id": "0CPalQRpnUa0"
      },
      "execution_count": 13,
      "outputs": []
    },
    {
      "cell_type": "code",
      "source": [
        "sns.heatmap(df2.isnull(),yticklabels=False,cbar=False,cmap='viridis')"
      ],
      "metadata": {
        "colab": {
          "base_uri": "https://localhost:8080/",
          "height": 478
        },
        "id": "lSdvhsFO6Im_",
        "outputId": "418d555d-f496-48e6-b779-e0566bb84d78"
      },
      "execution_count": 14,
      "outputs": [
        {
          "output_type": "execute_result",
          "data": {
            "text/plain": [
              "<matplotlib.axes._subplots.AxesSubplot at 0x7f956e31fb10>"
            ]
          },
          "metadata": {},
          "execution_count": 14
        },
        {
          "output_type": "display_data",
          "data": {
            "text/plain": [
              "<Figure size 432x288 with 1 Axes>"
            ],
            "image/png": "[encoded data removed]"
          },
          "metadata": {
            "needs_background": "light"
          }
        }
      ]
    },
    {
      "cell_type": "code",
      "source": [
        "df2['Curing age (day)'].unique()"
      ],
      "metadata": {
        "colab": {
          "base_uri": "https://localhost:8080/"
        },
        "id": "pe9tUebRoN2T",
        "outputId": "fdc4f9de-f135-4279-97a5-99831fb53690"
      },
      "execution_count": 15,
      "outputs": [
        {
          "output_type": "execute_result",
          "data": {
            "text/plain": [
              "array(['3', '7', '14', '28', '42', '56', '84', '118', '178', '238', '298',\n",
              "       '358', '35', '70', '98', '148', '208', '268', '328', '388', '60',\n",
              "       '90', '120', '1', '180', '365'], dtype=object)"
            ]
          },
          "metadata": {},
          "execution_count": 15
        }
      ]
    },
    {
      "cell_type": "code",
      "source": [
        "try:\n",
        "    df2['Curing age (day)'] = df2['Curing age (day)'].astype(int)\n",
        "except ValueError as ve:\n",
        "    print(ve)\n",
        "# df2['Curing age (day)'].unique()"
      ],
      "metadata": {
        "id": "IuErPZDzptO1"
      },
      "execution_count": 16,
      "outputs": []
    },
    {
      "cell_type": "code",
      "source": [
        "df2['Dmax of Crushed stone(mm)'].unique()\n"
      ],
      "metadata": {
        "colab": {
          "base_uri": "https://localhost:8080/"
        },
        "id": "CYh9Wpp0qANs",
        "outputId": "3f1543c3-f20c-4657-db93-eb4317620eba"
      },
      "execution_count": 17,
      "outputs": [
        {
          "output_type": "execute_result",
          "data": {
            "text/plain": [
              "array(['31.5', '25', '26.5', '30', nan, '20', '16', '40', '80', '120',\n",
              "       '60', '12'], dtype=object)"
            ]
          },
          "metadata": {},
          "execution_count": 17
        }
      ]
    },
    {
      "cell_type": "markdown",
      "source": [
        "###Assumption 1\n",
        "all \"-\" values will be considered as NULL. "
      ],
      "metadata": {
        "id": "1eB-QTMuqObc"
      }
    },
    {
      "cell_type": "code",
      "source": [
        "# df2['Dmax of Crushed stone(mm)']=df2['Dmax of Crushed stone(mm)'].replace('-',np.nan)\n",
        "\n",
        "## already applied initailly"
      ],
      "metadata": {
        "id": "RAIMLDH3qdtE"
      },
      "execution_count": 18,
      "outputs": []
    },
    {
      "cell_type": "code",
      "source": [
        "try:\n",
        "    df2['Dmax of Crushed stone(mm)'] = df2['Dmax of Crushed stone(mm)'].astype(float)\n",
        "except ValueError as ve:\n",
        "    print(ve)\n"
      ],
      "metadata": {
        "id": "rIGPeMAIpwCE"
      },
      "execution_count": 19,
      "outputs": []
    },
    {
      "cell_type": "code",
      "source": [
        "df2['Stone powder content in Sand (%)'].unique()"
      ],
      "metadata": {
        "colab": {
          "base_uri": "https://localhost:8080/"
        },
        "id": "lQKKosjrp2-0",
        "outputId": "5b5f6c09-eced-42aa-a20e-c90cd69d819c"
      },
      "execution_count": 20,
      "outputs": [
        {
          "output_type": "execute_result",
          "data": {
            "text/plain": [
              "array(['5', '9', '13', '3', '7', '10', '16', '6.75', '7.5', '4.3', '5.8',\n",
              "       nan, '10.8', '19.2', '14.2', '7.8', '16.3', '11.3', '19.4', '7.1*',\n",
              "       '9.1*', '11.2*', '13.3*', '15.5*', '17.8*', '20.0*', '22.1*', '6*',\n",
              "       '9*', '12*', '15*', '18*', '5.4', '6.6', '0.4', '2.3', '6.3',\n",
              "       '4.2', '9.69', '0.8', '0', '15', '20', '18', '16.8', '21.7',\n",
              "       '21.8', '16.7', '18.0', '18.2', '17.4', '17.5', '20.0', '12.1*',\n",
              "       '15.0*', '18.0*', '21.0*', '13.8*', '20.8*', '25.9*', '5*', '10*',\n",
              "       '20*', '25*', '6', '12', '16*', '21*', '0*', '30*', '40*', '24*',\n",
              "       '11.2~13.0*', '13.0*', '12.4', '11.9*', '6.1*'], dtype=object)"
            ]
          },
          "metadata": {},
          "execution_count": 20
        }
      ]
    },
    {
      "cell_type": "markdown",
      "source": [
        "###Assumption 2\n",
        "* \\* values are assumed to be representative of final values\n",
        "* we have taken average wherever we see somevalues like this 11.2~13.0\n",
        "* replacing - with 0"
      ],
      "metadata": {
        "id": "B90gshfoqtZ0"
      }
    },
    {
      "cell_type": "code",
      "source": [
        "df2['Stone powder content in Sand (%)'] = df2['Stone powder content in Sand (%)'].replace('*',\"\")"
      ],
      "metadata": {
        "id": "lna3-caqqsfE"
      },
      "execution_count": 21,
      "outputs": []
    },
    {
      "cell_type": "code",
      "source": [
        "df2['Stone powder content in Sand (%)'].replace('11.2~13.0*',12.1,inplace=True)"
      ],
      "metadata": {
        "id": "u_pb4vR6rBkG"
      },
      "execution_count": 22,
      "outputs": []
    },
    {
      "cell_type": "code",
      "source": [
        "df2['Stone powder content in Sand (%)'] = (df2['Stone powder content in Sand (%)'].replace(regex='\\*',value='').replace('-',np.nan)).astype(float)"
      ],
      "metadata": {
        "id": "C_SRAFRzrzrM"
      },
      "execution_count": 23,
      "outputs": []
    },
    {
      "cell_type": "code",
      "source": [
        "df2['Stone powder content in Sand (%)'].unique()"
      ],
      "metadata": {
        "colab": {
          "base_uri": "https://localhost:8080/"
        },
        "id": "tT5grRoQrckl",
        "outputId": "c888b001-6e18-4465-fa39-f3ecc9ebb02d"
      },
      "execution_count": 24,
      "outputs": [
        {
          "output_type": "execute_result",
          "data": {
            "text/plain": [
              "array([ 5.  ,  9.  , 13.  ,  3.  ,  7.  , 10.  , 16.  ,  6.75,  7.5 ,\n",
              "        4.3 ,  5.8 ,   nan, 10.8 , 19.2 , 14.2 ,  7.8 , 16.3 , 11.3 ,\n",
              "       19.4 ,  7.1 ,  9.1 , 11.2 , 13.3 , 15.5 , 17.8 , 20.  , 22.1 ,\n",
              "        6.  , 12.  , 15.  , 18.  ,  5.4 ,  6.6 ,  0.4 ,  2.3 ,  6.3 ,\n",
              "        4.2 ,  9.69,  0.8 ,  0.  , 16.8 , 21.7 , 21.8 , 16.7 , 18.2 ,\n",
              "       17.4 , 17.5 , 12.1 , 21.  , 13.8 , 20.8 , 25.9 , 25.  , 30.  ,\n",
              "       40.  , 24.  , 12.4 , 11.9 ,  6.1 ])"
            ]
          },
          "metadata": {},
          "execution_count": 24
        }
      ]
    },
    {
      "cell_type": "code",
      "source": [
        "df2['Fineness modulus of sand '].unique()"
      ],
      "metadata": {
        "colab": {
          "base_uri": "https://localhost:8080/"
        },
        "id": "Ed_0_xTkrmmE",
        "outputId": "11fb0455-01ec-4de9-e413-a14bed8ec326"
      },
      "execution_count": 25,
      "outputs": [
        {
          "output_type": "execute_result",
          "data": {
            "text/plain": [
              "array(['3.34', '3.27', '2.77', '3.19', '3.23', '2.9', '3.0', '3.1', nan,\n",
              "       '2.86', '3.04', '2.76', '2.35', '2.2', '3.55', '3.5', '2.80',\n",
              "       '3.11', '2.94', '2.3', '2.8', '2.74', '2.85', '3.3', '2.6', '3.2',\n",
              "       '2.67', '2.88', '2.73', '2.54', '2.7', '2.44~2.68', '2.44', '2.68',\n",
              "       '2.42', '2.57', '2.92'], dtype=object)"
            ]
          },
          "metadata": {},
          "execution_count": 25
        }
      ]
    },
    {
      "cell_type": "code",
      "source": [
        "df2['Fineness modulus of sand '] = df2['Fineness modulus of sand '].replace('-',np.nan).replace('2.44~2.68',2.56).astype(float)\n",
        "df2['Fineness modulus of sand '].unique()"
      ],
      "metadata": {
        "colab": {
          "base_uri": "https://localhost:8080/"
        },
        "id": "c7ebCbZ3r7Dl",
        "outputId": "11cc3070-137d-45a5-dfd1-f1f059e99956"
      },
      "execution_count": 26,
      "outputs": [
        {
          "output_type": "execute_result",
          "data": {
            "text/plain": [
              "array([3.34, 3.27, 2.77, 3.19, 3.23, 2.9 , 3.  , 3.1 ,  nan, 2.86, 3.04,\n",
              "       2.76, 2.35, 2.2 , 3.55, 3.5 , 2.8 , 3.11, 2.94, 2.3 , 2.74, 2.85,\n",
              "       3.3 , 2.6 , 3.2 , 2.67, 2.88, 2.73, 2.54, 2.7 , 2.56, 2.44, 2.68,\n",
              "       2.42, 2.57, 2.92])"
            ]
          },
          "metadata": {},
          "execution_count": 26
        }
      ]
    },
    {
      "cell_type": "code",
      "source": [
        "df2['W/B'].unique()"
      ],
      "metadata": {
        "colab": {
          "base_uri": "https://localhost:8080/"
        },
        "id": "9un-NJfSr_R1",
        "outputId": "1c2c30bd-bdf7-46b8-8925-062d57b9ab41"
      },
      "execution_count": 27,
      "outputs": [
        {
          "output_type": "execute_result",
          "data": {
            "text/plain": [
              "array(['0.56', '0.45', '0.40', '0.47', '0.32', '0.44', '0.4', '0.55',\n",
              "       '0.36', '0.31', '0.51', '0.25', '0.42', '0.46', '0.5', nan, '0.57',\n",
              "       '0.64', '0.69', '0.59', '0.63', '0.28', '0.37', '0.34', '0.3',\n",
              "       '0.24', '0.33', '0.35', '0.30', '0.39', '0.26', '0.54', '0.48',\n",
              "       '0.53', '0.58', '0.6', '0.7', '0.38', '0.62', '0.50', '0.60',\n",
              "       '1.0', '0.43'], dtype=object)"
            ]
          },
          "metadata": {},
          "execution_count": 27
        }
      ]
    },
    {
      "cell_type": "code",
      "source": [
        "# df2['W/B'] = df2['W/B'].replace('-',np.nan).astype(float)\n",
        "\n",
        "### already applied initial"
      ],
      "metadata": {
        "id": "4RIYXiKTsC3E"
      },
      "execution_count": 28,
      "outputs": []
    },
    {
      "cell_type": "code",
      "source": [
        "# df2[df2['Water to cement ratio mw/mc']=='-']"
      ],
      "metadata": {
        "id": "OHTJv97asFTE"
      },
      "execution_count": 29,
      "outputs": []
    },
    {
      "cell_type": "markdown",
      "source": [
        "### Assumption 3\n",
        "* convert \"-\" to null values"
      ],
      "metadata": {
        "id": "wz2deSPwsPgO"
      }
    },
    {
      "cell_type": "code",
      "source": [
        "# d = df2[df2['Water to cement ratio mw/mc']=='-']\n",
        "# to_drop_index = list(d.index)\n",
        "# to_drop_index"
      ],
      "metadata": {
        "id": "ICW9Efo4sIX2"
      },
      "execution_count": 30,
      "outputs": []
    },
    {
      "cell_type": "code",
      "source": [
        "# df2.drop(index=to_drop_index,inplace=True)"
      ],
      "metadata": {
        "id": "wlO9ZbjBsgf1"
      },
      "execution_count": 31,
      "outputs": []
    },
    {
      "cell_type": "code",
      "source": [
        "df2['Water to cement ratio mw/mc'] = df2['Water to cement ratio mw/mc'].astype(float)"
      ],
      "metadata": {
        "id": "z8FOTcgwsiOF"
      },
      "execution_count": 32,
      "outputs": []
    },
    {
      "cell_type": "code",
      "source": [
        "df2['Water to cement ratio mw/mc'].unique()"
      ],
      "metadata": {
        "colab": {
          "base_uri": "https://localhost:8080/"
        },
        "id": "ZQVJbDGrskbU",
        "outputId": "289be0e2-5bc5-43f0-8b11-4ec78af5e9d7"
      },
      "execution_count": 33,
      "outputs": [
        {
          "output_type": "execute_result",
          "data": {
            "text/plain": [
              "array([0.56 , 0.45 , 0.4  , 0.47 , 0.32 , 0.44 , 0.55 , 0.36 , 0.31 ,\n",
              "       1.01 , 0.33 , 0.42 , 0.46 , 0.5  ,   nan, 0.57 , 0.64 , 0.69 ,\n",
              "       0.59 , 0.63 , 0.48 , 0.34 , 0.425, 0.428, 0.3  , 0.457, 0.43 ,\n",
              "       0.51 , 0.41 , 0.38 , 0.54 , 0.53 , 0.58 , 0.6  , 0.7  , 0.77 ,\n",
              "       0.625, 0.75 , 1.   , 0.66 , 0.92 , 0.83 , 1.11 , 1.25 , 1.43 ,\n",
              "       0.67 , 0.65 ])"
            ]
          },
          "metadata": {},
          "execution_count": 33
        }
      ]
    },
    {
      "cell_type": "code",
      "source": [
        "df2.describe()"
      ],
      "metadata": {
        "colab": {
          "base_uri": "https://localhost:8080/",
          "height": 300
        },
        "id": "OTSfPcGIsoiF",
        "outputId": "662dee26-5c2b-445a-b002-8da6f456daf3"
      },
      "execution_count": 34,
      "outputs": [
        {
          "output_type": "execute_result",
          "data": {
            "text/plain": [
              "       Curing age (day)  Dmax of Crushed stone(mm)  \\\n",
              "count        714.000000                 652.000000   \n",
              "mean          56.729692                  43.870399   \n",
              "std           76.281596                  26.238019   \n",
              "min            1.000000                  12.000000   \n",
              "25%           28.000000                  25.000000   \n",
              "50%           28.000000                  31.500000   \n",
              "75%           80.500000                  60.000000   \n",
              "max          388.000000                 120.000000   \n",
              "\n",
              "       Stone powder content in Sand (%)  Fineness modulus of sand   \\\n",
              "count                        674.000000                 599.000000   \n",
              "mean                          10.831617                   2.938247   \n",
              "std                            6.339589                   0.274516   \n",
              "min                            0.000000                   2.200000   \n",
              "25%                            6.100000                   2.770000   \n",
              "50%                           11.200000                   2.860000   \n",
              "75%                           13.000000                   3.190000   \n",
              "max                           40.000000                   3.550000   \n",
              "\n",
              "       Water to cement ratio mw/mc  \n",
              "count                   704.000000  \n",
              "mean                      0.593051  \n",
              "std                       0.241827  \n",
              "min                       0.300000  \n",
              "25%                       0.440000  \n",
              "50%                       0.500000  \n",
              "75%                       0.670000  \n",
              "max                       1.430000  "
            ],
            "text/html": [
              "\n",
              "  <div id=\"df-954e5829-6f6a-4338-b9cf-1510ff517f80\">\n",
              "    <div class=\"colab-df-container\">\n",
              "      <div>\n",
              "<style scoped>\n",
              "    .dataframe tbody tr th:only-of-type {\n",
              "        vertical-align: middle;\n",
              "    }\n",
              "\n",
              "    .dataframe tbody tr th {\n",
              "        vertical-align: top;\n",
              "    }\n",
              "\n",
              "    .dataframe thead th {\n",
              "        text-align: right;\n",
              "    }\n",
              "</style>\n",
              "<table border=\"1\" class=\"dataframe\">\n",
              "  <thead>\n",
              "    <tr style=\"text-align: right;\">\n",
              "      <th></th>\n",
              "      <th>Curing age (day)</th>\n",
              "      <th>Dmax of Crushed stone(mm)</th>\n",
              "      <th>Stone powder content in Sand (%)</th>\n",
              "      <th>Fineness modulus of sand</th>\n",
              "      <th>Water to cement ratio mw/mc</th>\n",
              "    </tr>\n",
              "  </thead>\n",
              "  <tbody>\n",
              "    <tr>\n",
              "      <th>count</th>\n",
              "      <td>714.000000</td>\n",
              "      <td>652.000000</td>\n",
              "      <td>674.000000</td>\n",
              "      <td>599.000000</td>\n",
              "      <td>704.000000</td>\n",
              "    </tr>\n",
              "    <tr>\n",
              "      <th>mean</th>\n",
              "      <td>56.729692</td>\n",
              "      <td>43.870399</td>\n",
              "      <td>10.831617</td>\n",
              "      <td>2.938247</td>\n",
              "      <td>0.593051</td>\n",
              "    </tr>\n",
              "    <tr>\n",
              "      <th>std</th>\n",
              "      <td>76.281596</td>\n",
              "      <td>26.238019</td>\n",
              "      <td>6.339589</td>\n",
              "      <td>0.274516</td>\n",
              "      <td>0.241827</td>\n",
              "    </tr>\n",
              "    <tr>\n",
              "      <th>min</th>\n",
              "      <td>1.000000</td>\n",
              "      <td>12.000000</td>\n",
              "      <td>0.000000</td>\n",
              "      <td>2.200000</td>\n",
              "      <td>0.300000</td>\n",
              "    </tr>\n",
              "    <tr>\n",
              "      <th>25%</th>\n",
              "      <td>28.000000</td>\n",
              "      <td>25.000000</td>\n",
              "      <td>6.100000</td>\n",
              "      <td>2.770000</td>\n",
              "      <td>0.440000</td>\n",
              "    </tr>\n",
              "    <tr>\n",
              "      <th>50%</th>\n",
              "      <td>28.000000</td>\n",
              "      <td>31.500000</td>\n",
              "      <td>11.200000</td>\n",
              "      <td>2.860000</td>\n",
              "      <td>0.500000</td>\n",
              "    </tr>\n",
              "    <tr>\n",
              "      <th>75%</th>\n",
              "      <td>80.500000</td>\n",
              "      <td>60.000000</td>\n",
              "      <td>13.000000</td>\n",
              "      <td>3.190000</td>\n",
              "      <td>0.670000</td>\n",
              "    </tr>\n",
              "    <tr>\n",
              "      <th>max</th>\n",
              "      <td>388.000000</td>\n",
              "      <td>120.000000</td>\n",
              "      <td>40.000000</td>\n",
              "      <td>3.550000</td>\n",
              "      <td>1.430000</td>\n",
              "    </tr>\n",
              "  </tbody>\n",
              "</table>\n",
              "</div>\n",
              "      <button class=\"colab-df-convert\" onclick=\"convertToInteractive('df-954e5829-6f6a-4338-b9cf-1510ff517f80')\"\n",
              "              title=\"Convert this dataframe to an interactive table.\"\n",
              "              style=\"display:none;\">\n",
              "        \n",
              "  <svg xmlns=\"http://www.w3.org/2000/svg\" height=\"24px\"viewBox=\"0 0 24 24\"\n",
              "       width=\"24px\">\n",
              "    <path d=\"M0 0h24v24H0V0z\" fill=\"none\"/>\n",
              "    <path d=\"M18.56 5.44l.94 2.06.94-2.06 2.06-.94-2.06-.94-.94-2.06-.94 2.06-2.06.94zm-11 1L8.5 8.5l.94-2.06 2.06-.94-2.06-.94L8.5 2.5l-.94 2.06-2.06.94zm10 10l.94 2.06.94-2.06 2.06-.94-2.06-.94-.94-2.06-.94 2.06-2.06.94z\"/><path d=\"M17.41 7.96l-1.37-1.37c-.4-.4-.92-.59-1.43-.59-.52 0-1.04.2-1.43.59L10.3 9.45l-7.72 7.72c-.78.78-.78 2.05 0 2.83L4 21.41c.39.39.9.59 1.41.59.51 0 1.02-.2 1.41-.59l7.78-7.78 2.81-2.81c.8-.78.8-2.07 0-2.86zM5.41 20L4 18.59l7.72-7.72 1.47 1.35L5.41 20z\"/>\n",
              "  </svg>\n",
              "      </button>\n",
              "      \n",
              "  <style>\n",
              "    .colab-df-container {\n",
              "      display:flex;\n",
              "      flex-wrap:wrap;\n",
              "      gap: 12px;\n",
              "    }\n",
              "\n",
              "    .colab-df-convert {\n",
              "      background-color: #E8F0FE;\n",
              "      border: none;\n",
              "      border-radius: 50%;\n",
              "      cursor: pointer;\n",
              "      display: none;\n",
              "      fill: #1967D2;\n",
              "      height: 32px;\n",
              "      padding: 0 0 0 0;\n",
              "      width: 32px;\n",
              "    }\n",
              "\n",
              "    .colab-df-convert:hover {\n",
              "      background-color: #E2EBFA;\n",
              "      box-shadow: 0px 1px 2px rgba(60, 64, 67, 0.3), 0px 1px 3px 1px rgba(60, 64, 67, 0.15);\n",
              "      fill: #174EA6;\n",
              "    }\n",
              "\n",
              "    [theme=dark] .colab-df-convert {\n",
              "      background-color: #3B4455;\n",
              "      fill: #D2E3FC;\n",
              "    }\n",
              "\n",
              "    [theme=dark] .colab-df-convert:hover {\n",
              "      background-color: #434B5C;\n",
              "      box-shadow: 0px 1px 3px 1px rgba(0, 0, 0, 0.15);\n",
              "      filter: drop-shadow(0px 1px 2px rgba(0, 0, 0, 0.3));\n",
              "      fill: #FFFFFF;\n",
              "    }\n",
              "  </style>\n",
              "\n",
              "      <script>\n",
              "        const buttonEl =\n",
              "          document.querySelector('#df-954e5829-6f6a-4338-b9cf-1510ff517f80 button.colab-df-convert');\n",
              "        buttonEl.style.display =\n",
              "          google.colab.kernel.accessAllowed ? 'block' : 'none';\n",
              "\n",
              "        async function convertToInteractive(key) {\n",
              "          const element = document.querySelector('#df-954e5829-6f6a-4338-b9cf-1510ff517f80');\n",
              "          const dataTable =\n",
              "            await google.colab.kernel.invokeFunction('convertToInteractive',\n",
              "                                                     [key], {});\n",
              "          if (!dataTable) return;\n",
              "\n",
              "          const docLinkHtml = 'Like what you see? Visit the ' +\n",
              "            '<a target=\"_blank\" href=https://colab.research.google.com/notebooks/data_table.ipynb>data table notebook</a>'\n",
              "            + ' to learn more about interactive tables.';\n",
              "          element.innerHTML = '';\n",
              "          dataTable['output_type'] = 'display_data';\n",
              "          await google.colab.output.renderOutput(dataTable, element);\n",
              "          const docLink = document.createElement('div');\n",
              "          docLink.innerHTML = docLinkHtml;\n",
              "          element.appendChild(docLink);\n",
              "        }\n",
              "      </script>\n",
              "    </div>\n",
              "  </div>\n",
              "  "
            ]
          },
          "metadata": {},
          "execution_count": 34
        }
      ]
    },
    {
      "cell_type": "code",
      "source": [
        "df2['Water(kg/m3)'].unique()"
      ],
      "metadata": {
        "colab": {
          "base_uri": "https://localhost:8080/"
        },
        "id": "QeVYj7elvmKq",
        "outputId": "da4cb1cc-9898-4476-e2ee-8264b718f960"
      },
      "execution_count": 35,
      "outputs": [
        {
          "output_type": "execute_result",
          "data": {
            "text/plain": [
              "array(['180', '185', '190', '170', '175', '160', '222', '150', nan, '178',\n",
              "       '203', '241', '196', '109', '111', '113', '116', '119', '122',\n",
              "       '124', '126', '129', '131', '133', '136', '139', '142', '144',\n",
              "       '146', '128', '130', '135', '166', '158', '153', '152', '176',\n",
              "       '168', '155', '149', '147', '145', '173', '164', '154', '120',\n",
              "       '163', '184', '206', '248', '291', '205', '134', '138', '187',\n",
              "       '188', '189', '191', '183', '186', '151', '179', '114', '110',\n",
              "       '104', '108', '115', '192', '193', '83.5', '98', '87', '89', '88',\n",
              "       '103', '102', '95', '85', '87~89', '101~103', '74~76', '70~72',\n",
              "       '81~83', '112', '117', '178.75'], dtype=object)"
            ]
          },
          "metadata": {},
          "execution_count": 35
        }
      ]
    },
    {
      "cell_type": "markdown",
      "source": [
        "### Assumption 4\n",
        "* all values with  \" - \" are converted to null"
      ],
      "metadata": {
        "id": "hRzcbgvlv7w2"
      }
    },
    {
      "cell_type": "code",
      "source": [
        "# df2[df2['Water(kg/m3)']=='-']"
      ],
      "metadata": {
        "id": "NYpjErK1wxwd"
      },
      "execution_count": 36,
      "outputs": []
    },
    {
      "cell_type": "code",
      "source": [
        "# w=df2[df2['Water(kg/m3)']=='-']\n",
        "# to_drop_indexw = list(w.index)\n",
        "# print(to_drop_index)\n",
        "# df2.drop(index=to_drop_indexw,inplace=True)"
      ],
      "metadata": {
        "id": "OuuRovPqwyPs"
      },
      "execution_count": 37,
      "outputs": []
    },
    {
      "cell_type": "code",
      "source": [
        "\n",
        "df2['Water(kg/m3)']=df2['Water(kg/m3)'].replace('87~89',88).replace('101~103',102).replace('74~76',75).replace('70~72',71).replace('81~83',82)\n",
        "df2['Water(kg/m3)'] = df2['Water(kg/m3)'].astype(float)\n",
        "df2['Water(kg/m3)'].unique()"
      ],
      "metadata": {
        "colab": {
          "base_uri": "https://localhost:8080/"
        },
        "id": "9iybbwMvw1Oy",
        "outputId": "96c14cd7-d5cc-406f-c759-91192f595217"
      },
      "execution_count": 38,
      "outputs": [
        {
          "output_type": "execute_result",
          "data": {
            "text/plain": [
              "array([180.  , 185.  , 190.  , 170.  , 175.  , 160.  , 222.  , 150.  ,\n",
              "          nan, 178.  , 203.  , 241.  , 196.  , 109.  , 111.  , 113.  ,\n",
              "       116.  , 119.  , 122.  , 124.  , 126.  , 129.  , 131.  , 133.  ,\n",
              "       136.  , 139.  , 142.  , 144.  , 146.  , 128.  , 130.  , 135.  ,\n",
              "       166.  , 158.  , 153.  , 152.  , 176.  , 168.  , 155.  , 149.  ,\n",
              "       147.  , 145.  , 173.  , 164.  , 154.  , 120.  , 163.  , 184.  ,\n",
              "       206.  , 248.  , 291.  , 205.  , 134.  , 138.  , 187.  , 188.  ,\n",
              "       189.  , 191.  , 183.  , 186.  , 151.  , 179.  , 114.  , 110.  ,\n",
              "       104.  , 108.  , 115.  , 192.  , 193.  ,  83.5 ,  98.  ,  87.  ,\n",
              "        89.  ,  88.  , 103.  , 102.  ,  95.  ,  85.  ,  75.  ,  71.  ,\n",
              "        82.  , 112.  , 117.  , 178.75])"
            ]
          },
          "metadata": {},
          "execution_count": 38
        }
      ]
    },
    {
      "cell_type": "code",
      "source": [
        "df2['Sand ratio(%)'].unique()"
      ],
      "metadata": {
        "colab": {
          "base_uri": "https://localhost:8080/"
        },
        "id": "dxDCmxDbw8Cr",
        "outputId": "1c64bcc0-61d6-4cca-8b1a-f46fca5606cc"
      },
      "execution_count": 39,
      "outputs": [
        {
          "output_type": "execute_result",
          "data": {
            "text/plain": [
              "array(['44', '36', '34', '30', '32', '42', '28', '38', '45', '41', '40',\n",
              "       '39', nan, '35', '43', '37', '33', '41.7', '38.8', '36.1', '33.5',\n",
              "       '34.5', '35.5', '48', '27', '29', '31', '26', '24', '26.5', '27.0',\n",
              "       '29.5', '30.0', '53', '54'], dtype=object)"
            ]
          },
          "metadata": {},
          "execution_count": 39
        }
      ]
    },
    {
      "cell_type": "code",
      "source": [
        "# df2['Sand ratio(%)'] = (df2['Sand ratio(%)'].replace('-',np.nan)) # already applied\n",
        "df2['Sand ratio(%)'] = df2['Sand ratio(%)'].astype(float)"
      ],
      "metadata": {
        "id": "7Bj8swb1w-ec"
      },
      "execution_count": 40,
      "outputs": []
    },
    {
      "cell_type": "code",
      "source": [
        "df2['Sand ratio(%)'].unique()"
      ],
      "metadata": {
        "colab": {
          "base_uri": "https://localhost:8080/"
        },
        "id": "wpUMe7VGxBwj",
        "outputId": "da44680a-8073-47f3-bcf2-0ca3a50b18c4"
      },
      "execution_count": 41,
      "outputs": [
        {
          "output_type": "execute_result",
          "data": {
            "text/plain": [
              "array([44. , 36. , 34. , 30. , 32. , 42. , 28. , 38. , 45. , 41. , 40. ,\n",
              "       39. ,  nan, 35. , 43. , 37. , 33. , 41.7, 38.8, 36.1, 33.5, 34.5,\n",
              "       35.5, 48. , 27. , 29. , 31. , 26. , 24. , 26.5, 29.5, 53. , 54. ])"
            ]
          },
          "metadata": {},
          "execution_count": 41
        }
      ]
    },
    {
      "cell_type": "code",
      "source": [
        "df2['Slump(mm)'].unique()\n"
      ],
      "metadata": {
        "colab": {
          "base_uri": "https://localhost:8080/"
        },
        "id": "B8loNHEnxDdP",
        "outputId": "52e98e1d-e811-4a04-f574-d9e06c65e57e"
      },
      "execution_count": 42,
      "outputs": [
        {
          "output_type": "execute_result",
          "data": {
            "text/plain": [
              "array(['50', '70', '110', '160', '45', '30', '60', '22', '16', '28', '11',\n",
              "       '17', '12', '20', '13', '35', '18', '85', '108', '75', '80', '135',\n",
              "       '100', '150', '170', '175', '19', '15', '83', '115', '125', '90',\n",
              "       '95', '25', nan, '36', '40', '43', '205', '200', '140', '240',\n",
              "       '225', '220', '180', '86', '88', '87', '171', '177', '182', '176',\n",
              "       '179', '173', '55', '185', '105', '41', '42', '33', '210', '215',\n",
              "       '202', '208', '190', '203', '130', '260', '195', '230', '120',\n",
              "       '72', '57', '58', '155', '61', '51', '52', '56', '53', '<10', '44',\n",
              "       '49', '46', '54', '47', '48', '145'], dtype=object)"
            ]
          },
          "metadata": {},
          "execution_count": 42
        }
      ]
    },
    {
      "cell_type": "code",
      "source": [
        "df2['Slump(mm)'] = (df2['Slump(mm)'].replace('<10',5).replace('-',np.nan)).astype(float)\n",
        "df2['Slump(mm)'].unique()"
      ],
      "metadata": {
        "colab": {
          "base_uri": "https://localhost:8080/"
        },
        "id": "fRromr-uxFnO",
        "outputId": "949f118c-9be9-4a73-b9be-05159a7dcf3b"
      },
      "execution_count": 43,
      "outputs": [
        {
          "output_type": "execute_result",
          "data": {
            "text/plain": [
              "array([ 50.,  70., 110., 160.,  45.,  30.,  60.,  22.,  16.,  28.,  11.,\n",
              "        17.,  12.,  20.,  13.,  35.,  18.,  85., 108.,  75.,  80., 135.,\n",
              "       100., 150., 170., 175.,  19.,  15.,  83., 115., 125.,  90.,  95.,\n",
              "        25.,  nan,  36.,  40.,  43., 205., 200., 140., 240., 225., 220.,\n",
              "       180.,  86.,  88.,  87., 171., 177., 182., 176., 179., 173.,  55.,\n",
              "       185., 105.,  41.,  42.,  33., 210., 215., 202., 208., 190., 203.,\n",
              "       130., 260., 195., 230., 120.,  72.,  57.,  58., 155.,  61.,  51.,\n",
              "        52.,  56.,  53.,   5.,  44.,  49.,  46.,  54.,  47.,  48., 145.])"
            ]
          },
          "metadata": {},
          "execution_count": 43
        }
      ]
    },
    {
      "cell_type": "code",
      "source": [
        "df2['Compressive strength of cementfce(MPa)'].unique()"
      ],
      "metadata": {
        "colab": {
          "base_uri": "https://localhost:8080/"
        },
        "id": "VHmb1vtBixr8",
        "outputId": "4f3f48a1-1167-4945-f50f-0b4df955cf7e"
      },
      "execution_count": 44,
      "outputs": [
        {
          "output_type": "execute_result",
          "data": {
            "text/plain": [
              "array(['46.8', '38.2', '47.7', '46.3', '48.2', '48.3', nan, '35.5',\n",
              "       '63.4', '55.6', '52.5', '52.7', '43.7', '55.8', '55.2', '', '52.6',\n",
              "       '44.5', '44.8', '47.6', '51.7', '60.8', '62.4', '52.9', '39.42',\n",
              "       '48.07'], dtype=object)"
            ]
          },
          "metadata": {},
          "execution_count": 44
        }
      ]
    },
    {
      "cell_type": "markdown",
      "source": [
        "### Assumption replacing empty space with Null values and coverting it"
      ],
      "metadata": {
        "id": "1G0nBWZukJNd"
      }
    },
    {
      "cell_type": "code",
      "source": [
        "df2['Compressive strength of cementfce(MPa)'] = df2['Compressive strength of cementfce(MPa)'].replace('',np.nan).astype(float)"
      ],
      "metadata": {
        "id": "N6i77CorjGMM"
      },
      "execution_count": 45,
      "outputs": []
    },
    {
      "cell_type": "code",
      "source": [
        "df2['Tensile strength of cementfct(MPa)'].unique()"
      ],
      "metadata": {
        "colab": {
          "base_uri": "https://localhost:8080/"
        },
        "id": "-9ms76ali_9-",
        "outputId": "10e5c22b-d607-4a66-ce7b-f6260efa34ec"
      },
      "execution_count": 46,
      "outputs": [
        {
          "output_type": "execute_result",
          "data": {
            "text/plain": [
              "array(['8.0', '6.9', '8.7', '8.4', '7.4', nan, '7.2', '10.2', '8.91',\n",
              "       '8.8', '9.0', '7.5', '10.8', '8.9', '', '9.4', '7.8', '7.9', '8.5',\n",
              "       '9.1'], dtype=object)"
            ]
          },
          "metadata": {},
          "execution_count": 46
        }
      ]
    },
    {
      "cell_type": "code",
      "source": [
        "df2['Tensile strength of cementfct(MPa)'] = df2['Tensile strength of cementfct(MPa)'].replace('',np.nan).astype(float)"
      ],
      "metadata": {
        "id": "Nc_b6c5yjGjO"
      },
      "execution_count": 47,
      "outputs": []
    },
    {
      "cell_type": "markdown",
      "source": [
        "### Assumption 5\n",
        "* considering * and # values as final values"
      ],
      "metadata": {
        "id": "72PdyYhKxVgc"
      }
    },
    {
      "cell_type": "code",
      "source": [
        "df2['Compressive strengthfcu,t(MPa)']= (df2['Compressive strengthfcu,t(MPa)'].replace(regex='#',value='')).astype(float)\n",
        "df2['Splitting tensile strengthfst,t(MPa)'] = (df2['Splitting tensile strengthfst,t(MPa)'].replace(regex='※',value='')).astype(float)\n",
        "df2['Splitting tensile strengthfst,t(MPa)'].unique()"
      ],
      "metadata": {
        "colab": {
          "base_uri": "https://localhost:8080/"
        },
        "id": "_RCTXK7nxJMM",
        "outputId": "c94091c2-5927-4b62-9273-f082802e72c0"
      },
      "execution_count": 48,
      "outputs": [
        {
          "output_type": "execute_result",
          "data": {
            "text/plain": [
              "array([1.18, 1.13, 1.56, 1.39, 1.38, 1.42, 2.62, 3.05, 2.31, 3.02, 3.75,\n",
              "       3.01, 3.31, 3.82, 3.43, 3.73, 3.99, 3.68, 4.42, 4.21, 4.48, 4.37,\n",
              "       4.03, 4.41, 4.68, 4.22, 3.92, 4.12, 4.36, 4.05, 4.23, 4.32, 2.67,\n",
              "       2.61, 2.71, 2.81, 2.95, 3.06, 3.46, 3.19, 3.37, 3.49, 3.34, 3.54,\n",
              "       3.67, 3.56, 3.96, 3.81, 3.76, 3.86, 3.78, 4.27, 4.47, 4.31, 4.52,\n",
              "       4.61, 4.38, 4.69, 4.45, 4.07, 4.29, 4.26, 4.09, 4.24, 4.19, 4.25,\n",
              "       4.04, 4.35, 4.43, 4.11, 4.3 , 2.96, 2.64, 2.39, 3.08, 3.39, 3.11,\n",
              "       3.41, 3.45, 3.52, 3.94, 3.79, 3.97, 4.02, 4.33, 4.55, 4.59, 4.18,\n",
              "       4.51, 4.34, 3.16, 3.44, 3.57, 3.6 , 3.58, 4.  , 4.1 , 3.9 , 4.2 ,\n",
              "       3.91, 3.42, 2.86, 2.76, 3.51, 2.45, 3.95, 5.45, 3.32, 3.14, 3.65,\n",
              "       3.88, 4.08, 4.57, 5.16, 5.32, 3.2 , 3.3 , 3.47, 3.18, 5.24, 4.53,\n",
              "       3.62, 3.77, 2.87, 5.41, 6.37, 6.5 , 6.65, 3.04, 2.75, 2.6 , 2.42,\n",
              "       3.24, 4.98, 4.5 , 1.63, 1.77, 1.84, 1.72, 1.97, 2.05, 2.11, 2.65,\n",
              "       2.18, 2.19, 6.2 , 6.4 , 5.4 , 5.6 , 0.6 , 1.35, 2.24, 3.64, 1.98,\n",
              "       2.23, 2.41, 2.47, 2.68, 2.54, 2.37, 2.01, 2.36, 2.56, 2.52, 1.95,\n",
              "       2.25, 2.09, 2.29, 3.13, 2.88, 3.03, 3.21, 3.07, 1.6 , 2.4 , 3.8 ,\n",
              "       4.4 , 2.03, 1.93, 2.74, 2.59, 1.69, 2.43, 1.52, 1.8 , 3.53, 4.15,\n",
              "       4.82, 5.03, 5.07, 5.14, 4.65, 4.89, 4.99, 5.05, 5.17, 4.49, 4.78,\n",
              "       4.92, 5.18, 5.39, 4.73, 5.48, 3.98, 4.97, 5.15, 5.19, 5.22, 5.23,\n",
              "       4.76, 4.96, 5.11, 5.25, 6.  , 6.7 , 5.8 , 6.9 , 5.5 , 5.9 , 4.58,\n",
              "       3.25, 3.85, 4.6 , 4.28, 4.14, 4.13, 3.7 , 1.28, 1.68, 1.34, 1.82,\n",
              "       1.48, 1.96, 1.64, 2.15, 1.81, 2.17, 3.35, 5.36, 5.75, 5.65, 6.01,\n",
              "       2.97, 5.33, 5.85, 2.73, 3.72, 2.26, 1.89, 1.7 , 1.59, 1.36, 2.69,\n",
              "       2.91, 2.83, 2.  , 2.04, 1.99, 2.5 , 2.57, 2.49, 1.87, 1.74, 2.1 ,\n",
              "       4.01, 4.17, 2.92, 1.22, 1.94, 1.83, 2.14, 2.78, 1.08, 1.47, 0.62,\n",
              "       0.71, 0.8 , 0.99, 1.11, 3.23, 2.9 , 3.15, 1.9 , 1.62, 1.86, 1.58,\n",
              "       0.98, 1.23, 1.33, 1.61, 1.57, 1.53, 1.5 , 2.84, 3.26, 0.56, 0.68,\n",
              "       0.72, 1.2 , 1.21, 1.31, 0.95, 1.12, 1.41, 1.73, 1.78, 1.88, 2.08,\n",
              "       1.51, 1.65, 1.76, 2.44, 1.43, 1.03, 0.79, 0.61, 0.9 , 0.65, 1.46,\n",
              "       2.2 , 2.12, 1.71, 1.1 , 2.33, 3.  , 0.47, 0.46, 0.84, 0.57, 0.96,\n",
              "       0.86, 0.64, 0.52, 0.35, 0.55, 0.54, 1.4 , 1.26, 1.09, 1.02, 1.45,\n",
              "       1.92, 1.06, 1.16, 2.13, 2.21, 1.44, 1.54, 2.48, 2.27, 2.34, 3.12,\n",
              "       2.22, 3.61])"
            ]
          },
          "metadata": {},
          "execution_count": 48
        }
      ]
    },
    {
      "cell_type": "markdown",
      "source": [
        "### Multivariant analysis by heatmap"
      ],
      "metadata": {
        "id": "AcREJ2EuxwhF"
      }
    },
    {
      "cell_type": "code",
      "source": [
        "import seaborn as sns\n",
        "import matplotlib.pyplot as plt\n",
        "\n",
        "%matplotlib inline"
      ],
      "metadata": {
        "id": "1Dfl7qI6xqQN"
      },
      "execution_count": 49,
      "outputs": []
    },
    {
      "cell_type": "code",
      "source": [
        "correlation = df2.corr(method='pearson')\n",
        "correlation.columns"
      ],
      "metadata": {
        "colab": {
          "base_uri": "https://localhost:8080/"
        },
        "id": "vM9u7ajvyK50",
        "outputId": "2f176327-2824-413f-b287-6f12008fab58"
      },
      "execution_count": 50,
      "outputs": [
        {
          "output_type": "execute_result",
          "data": {
            "text/plain": [
              "Index(['Compressive strength of cementfce(MPa)',\n",
              "       'Tensile strength of cementfct(MPa)', 'Curing age (day)',\n",
              "       'Dmax of Crushed stone(mm)', 'Stone powder content in Sand (%)',\n",
              "       'Fineness modulus of sand ', 'Water to cement ratio mw/mc',\n",
              "       'Water(kg/m3)', 'Sand ratio(%)', 'Slump(mm)',\n",
              "       'Compressive strengthfcu,t(MPa)',\n",
              "       'Splitting tensile strengthfst,t(MPa)'],\n",
              "      dtype='object')"
            ]
          },
          "metadata": {},
          "execution_count": 50
        }
      ]
    },
    {
      "cell_type": "code",
      "source": [
        "plt.figure(figsize=(16,10))\n",
        "sns.heatmap(correlation,xticklabels=correlation.columns,yticklabels=correlation.columns,annot=True)\n"
      ],
      "metadata": {
        "colab": {
          "base_uri": "https://localhost:8080/",
          "height": 809
        },
        "id": "yReV4VgGx4e8",
        "outputId": "a081a7cd-388a-4dbe-e9ba-6a58abe40573"
      },
      "execution_count": 51,
      "outputs": [
        {
          "output_type": "execute_result",
          "data": {
            "text/plain": [
              "<matplotlib.axes._subplots.AxesSubplot at 0x7f956e67a3d0>"
            ]
          },
          "metadata": {},
          "execution_count": 51
        },
        {
          "output_type": "display_data",
          "data": {
            "text/plain": [
              "<Figure size 1152x720 with 2 Axes>"
            ],
            "image/png": "[encoded data removed]"
          },
          "metadata": {
            "needs_background": "light"
          }
        }
      ]
    },
    {
      "cell_type": "markdown",
      "source": [
        "#Observation\n",
        "* Compressive strength is highly related to tensile strength\n",
        "* water to binder and water to cement ration have very high negative relation. i.e., increase in there two will decrease the strength parameters\n",
        "* fineness modules of sand have very low influnce on strength"
      ],
      "metadata": {
        "id": "gdObyoIVz2nU"
      }
    },
    {
      "cell_type": "code",
      "source": [
        "sns.heatmap(df2.isnull(),yticklabels=False,cbar=False,cmap='viridis')"
      ],
      "metadata": {
        "colab": {
          "base_uri": "https://localhost:8080/",
          "height": 478
        },
        "id": "2QTYlsG-MtOw",
        "outputId": "4af724f4-a0b2-4b8e-f469-53ed181abfa5"
      },
      "execution_count": 52,
      "outputs": [
        {
          "output_type": "execute_result",
          "data": {
            "text/plain": [
              "<matplotlib.axes._subplots.AxesSubplot at 0x7f956b560950>"
            ]
          },
          "metadata": {},
          "execution_count": 52
        },
        {
          "output_type": "display_data",
          "data": {
            "text/plain": [
              "<Figure size 432x288 with 1 Axes>"
            ],
            "image/png": "[encoded data removed]"
          },
          "metadata": {
            "needs_background": "light"
          }
        }
      ]
    },
    {
      "cell_type": "markdown",
      "source": [
        "# Conversion of raw file to preprossed data\n"
      ],
      "metadata": {
        "id": "gCy0bwXp17ik"
      }
    },
    {
      "cell_type": "code",
      "source": [
        "file_path = os.path.join(Config.process_data_path,Config.process_data_file)\n",
        "os.makedirs(Config.process_data_path,exist_ok=True)\n",
        "df2.to_csv(file_path,index=False) #saving file in file path"
      ],
      "metadata": {
        "id": "v4r7ixLJ16_s"
      },
      "execution_count": 53,
      "outputs": []
    },
    {
      "cell_type": "markdown",
      "source": [
        "# Reading preprossed file from store"
      ],
      "metadata": {
        "id": "IRkZmUkOI7jD"
      }
    },
    {
      "cell_type": "code",
      "source": [
        "df2 = pd.read_csv(file_path,index_col=False)\n",
        "try:\n",
        "  df2 = df2.drop('Unnamed: 0',axis=1) # its a indexing column, and its not required\n",
        "except Exception as e:\n",
        "  print(e)\n",
        "  pass\n",
        "df2.head()"
      ],
      "metadata": {
        "colab": {
          "base_uri": "https://localhost:8080/",
          "height": 337
        },
        "id": "qOVDqbzAAorR",
        "outputId": "419e129d-a9bd-4b13-ddc9-de4866740ccc"
      },
      "execution_count": 54,
      "outputs": [
        {
          "output_type": "stream",
          "name": "stdout",
          "text": [
            "\"['Unnamed: 0'] not found in axis\"\n"
          ]
        },
        {
          "output_type": "execute_result",
          "data": {
            "text/plain": [
              "   Compressive strength of cementfce(MPa)  Tensile strength of cementfct(MPa)  \\\n",
              "0                                    46.8                                 8.0   \n",
              "1                                    46.8                                 8.0   \n",
              "2                                    46.8                                 8.0   \n",
              "3                                    46.8                                 8.0   \n",
              "4                                    46.8                                 8.0   \n",
              "\n",
              "   Curing age (day)  Dmax of Crushed stone(mm)  \\\n",
              "0                 3                       31.5   \n",
              "1                 3                       31.5   \n",
              "2                 3                       31.5   \n",
              "3                 7                       31.5   \n",
              "4                 7                       31.5   \n",
              "\n",
              "   Stone powder content in Sand (%)  Fineness modulus of sand    W/B  \\\n",
              "0                               5.0                       3.34  0.56   \n",
              "1                               9.0                       3.27  0.56   \n",
              "2                              13.0                       2.77  0.56   \n",
              "3                               5.0                       3.34  0.56   \n",
              "4                               9.0                       3.27  0.56   \n",
              "\n",
              "   Water to cement ratio mw/mc  Water(kg/m3)  Sand ratio(%)  Slump(mm)  \\\n",
              "0                         0.56         180.0           44.0       50.0   \n",
              "1                         0.56         180.0           44.0       70.0   \n",
              "2                         0.56         180.0           44.0       50.0   \n",
              "3                         0.56         180.0           44.0       50.0   \n",
              "4                         0.56         180.0           44.0       70.0   \n",
              "\n",
              "   Compressive strengthfcu,t(MPa)  Splitting tensile strengthfst,t(MPa)  \n",
              "0                            32.5                                  1.18  \n",
              "1                            28.7                                  1.13  \n",
              "2                            28.5                                  1.56  \n",
              "3                            33.5                                  1.39  \n",
              "4                            34.9                                  1.38  "
            ],
            "text/html": [
              "\n",
              "  <div id=\"df-6b6c8732-84f6-4ef9-8271-7e7667176c58\">\n",
              "    <div class=\"colab-df-container\">\n",
              "      <div>\n",
              "<style scoped>\n",
              "    .dataframe tbody tr th:only-of-type {\n",
              "        vertical-align: middle;\n",
              "    }\n",
              "\n",
              "    .dataframe tbody tr th {\n",
              "        vertical-align: top;\n",
              "    }\n",
              "\n",
              "    .dataframe thead th {\n",
              "        text-align: right;\n",
              "    }\n",
              "</style>\n",
              "<table border=\"1\" class=\"dataframe\">\n",
              "  <thead>\n",
              "    <tr style=\"text-align: right;\">\n",
              "      <th></th>\n",
              "      <th>Compressive strength of cementfce(MPa)</th>\n",
              "      <th>Tensile strength of cementfct(MPa)</th>\n",
              "      <th>Curing age (day)</th>\n",
              "      <th>Dmax of Crushed stone(mm)</th>\n",
              "      <th>Stone powder content in Sand (%)</th>\n",
              "      <th>Fineness modulus of sand</th>\n",
              "      <th>W/B</th>\n",
              "      <th>Water to cement ratio mw/mc</th>\n",
              "      <th>Water(kg/m3)</th>\n",
              "      <th>Sand ratio(%)</th>\n",
              "      <th>Slump(mm)</th>\n",
              "      <th>Compressive strengthfcu,t(MPa)</th>\n",
              "      <th>Splitting tensile strengthfst,t(MPa)</th>\n",
              "    </tr>\n",
              "  </thead>\n",
              "  <tbody>\n",
              "    <tr>\n",
              "      <th>0</th>\n",
              "      <td>46.8</td>\n",
              "      <td>8.0</td>\n",
              "      <td>3</td>\n",
              "      <td>31.5</td>\n",
              "      <td>5.0</td>\n",
              "      <td>3.34</td>\n",
              "      <td>0.56</td>\n",
              "      <td>0.56</td>\n",
              "      <td>180.0</td>\n",
              "      <td>44.0</td>\n",
              "      <td>50.0</td>\n",
              "      <td>32.5</td>\n",
              "      <td>1.18</td>\n",
              "    </tr>\n",
              "    <tr>\n",
              "      <th>1</th>\n",
              "      <td>46.8</td>\n",
              "      <td>8.0</td>\n",
              "      <td>3</td>\n",
              "      <td>31.5</td>\n",
              "      <td>9.0</td>\n",
              "      <td>3.27</td>\n",
              "      <td>0.56</td>\n",
              "      <td>0.56</td>\n",
              "      <td>180.0</td>\n",
              "      <td>44.0</td>\n",
              "      <td>70.0</td>\n",
              "      <td>28.7</td>\n",
              "      <td>1.13</td>\n",
              "    </tr>\n",
              "    <tr>\n",
              "      <th>2</th>\n",
              "      <td>46.8</td>\n",
              "      <td>8.0</td>\n",
              "      <td>3</td>\n",
              "      <td>31.5</td>\n",
              "      <td>13.0</td>\n",
              "      <td>2.77</td>\n",
              "      <td>0.56</td>\n",
              "      <td>0.56</td>\n",
              "      <td>180.0</td>\n",
              "      <td>44.0</td>\n",
              "      <td>50.0</td>\n",
              "      <td>28.5</td>\n",
              "      <td>1.56</td>\n",
              "    </tr>\n",
              "    <tr>\n",
              "      <th>3</th>\n",
              "      <td>46.8</td>\n",
              "      <td>8.0</td>\n",
              "      <td>7</td>\n",
              "      <td>31.5</td>\n",
              "      <td>5.0</td>\n",
              "      <td>3.34</td>\n",
              "      <td>0.56</td>\n",
              "      <td>0.56</td>\n",
              "      <td>180.0</td>\n",
              "      <td>44.0</td>\n",
              "      <td>50.0</td>\n",
              "      <td>33.5</td>\n",
              "      <td>1.39</td>\n",
              "    </tr>\n",
              "    <tr>\n",
              "      <th>4</th>\n",
              "      <td>46.8</td>\n",
              "      <td>8.0</td>\n",
              "      <td>7</td>\n",
              "      <td>31.5</td>\n",
              "      <td>9.0</td>\n",
              "      <td>3.27</td>\n",
              "      <td>0.56</td>\n",
              "      <td>0.56</td>\n",
              "      <td>180.0</td>\n",
              "      <td>44.0</td>\n",
              "      <td>70.0</td>\n",
              "      <td>34.9</td>\n",
              "      <td>1.38</td>\n",
              "    </tr>\n",
              "  </tbody>\n",
              "</table>\n",
              "</div>\n",
              "      <button class=\"colab-df-convert\" onclick=\"convertToInteractive('df-6b6c8732-84f6-4ef9-8271-7e7667176c58')\"\n",
              "              title=\"Convert this dataframe to an interactive table.\"\n",
              "              style=\"display:none;\">\n",
              "        \n",
              "  <svg xmlns=\"http://www.w3.org/2000/svg\" height=\"24px\"viewBox=\"0 0 24 24\"\n",
              "       width=\"24px\">\n",
              "    <path d=\"M0 0h24v24H0V0z\" fill=\"none\"/>\n",
              "    <path d=\"M18.56 5.44l.94 2.06.94-2.06 2.06-.94-2.06-.94-.94-2.06-.94 2.06-2.06.94zm-11 1L8.5 8.5l.94-2.06 2.06-.94-2.06-.94L8.5 2.5l-.94 2.06-2.06.94zm10 10l.94 2.06.94-2.06 2.06-.94-2.06-.94-.94-2.06-.94 2.06-2.06.94z\"/><path d=\"M17.41 7.96l-1.37-1.37c-.4-.4-.92-.59-1.43-.59-.52 0-1.04.2-1.43.59L10.3 9.45l-7.72 7.72c-.78.78-.78 2.05 0 2.83L4 21.41c.39.39.9.59 1.41.59.51 0 1.02-.2 1.41-.59l7.78-7.78 2.81-2.81c.8-.78.8-2.07 0-2.86zM5.41 20L4 18.59l7.72-7.72 1.47 1.35L5.41 20z\"/>\n",
              "  </svg>\n",
              "      </button>\n",
              "      \n",
              "  <style>\n",
              "    .colab-df-container {\n",
              "      display:flex;\n",
              "      flex-wrap:wrap;\n",
              "      gap: 12px;\n",
              "    }\n",
              "\n",
              "    .colab-df-convert {\n",
              "      background-color: #E8F0FE;\n",
              "      border: none;\n",
              "      border-radius: 50%;\n",
              "      cursor: pointer;\n",
              "      display: none;\n",
              "      fill: #1967D2;\n",
              "      height: 32px;\n",
              "      padding: 0 0 0 0;\n",
              "      width: 32px;\n",
              "    }\n",
              "\n",
              "    .colab-df-convert:hover {\n",
              "      background-color: #E2EBFA;\n",
              "      box-shadow: 0px 1px 2px rgba(60, 64, 67, 0.3), 0px 1px 3px 1px rgba(60, 64, 67, 0.15);\n",
              "      fill: #174EA6;\n",
              "    }\n",
              "\n",
              "    [theme=dark] .colab-df-convert {\n",
              "      background-color: #3B4455;\n",
              "      fill: #D2E3FC;\n",
              "    }\n",
              "\n",
              "    [theme=dark] .colab-df-convert:hover {\n",
              "      background-color: #434B5C;\n",
              "      box-shadow: 0px 1px 3px 1px rgba(0, 0, 0, 0.15);\n",
              "      filter: drop-shadow(0px 1px 2px rgba(0, 0, 0, 0.3));\n",
              "      fill: #FFFFFF;\n",
              "    }\n",
              "  </style>\n",
              "\n",
              "      <script>\n",
              "        const buttonEl =\n",
              "          document.querySelector('#df-6b6c8732-84f6-4ef9-8271-7e7667176c58 button.colab-df-convert');\n",
              "        buttonEl.style.display =\n",
              "          google.colab.kernel.accessAllowed ? 'block' : 'none';\n",
              "\n",
              "        async function convertToInteractive(key) {\n",
              "          const element = document.querySelector('#df-6b6c8732-84f6-4ef9-8271-7e7667176c58');\n",
              "          const dataTable =\n",
              "            await google.colab.kernel.invokeFunction('convertToInteractive',\n",
              "                                                     [key], {});\n",
              "          if (!dataTable) return;\n",
              "\n",
              "          const docLinkHtml = 'Like what you see? Visit the ' +\n",
              "            '<a target=\"_blank\" href=https://colab.research.google.com/notebooks/data_table.ipynb>data table notebook</a>'\n",
              "            + ' to learn more about interactive tables.';\n",
              "          element.innerHTML = '';\n",
              "          dataTable['output_type'] = 'display_data';\n",
              "          await google.colab.output.renderOutput(dataTable, element);\n",
              "          const docLink = document.createElement('div');\n",
              "          docLink.innerHTML = docLinkHtml;\n",
              "          element.appendChild(docLink);\n",
              "        }\n",
              "      </script>\n",
              "    </div>\n",
              "  </div>\n",
              "  "
            ]
          },
          "metadata": {},
          "execution_count": 54
        }
      ]
    },
    {
      "cell_type": "markdown",
      "source": [
        "# Using KNN for imputation of null value\n",
        "Imputation using only feature data , we had drop the target data"
      ],
      "metadata": {
        "id": "aX1cO-P1M0tS"
      }
    },
    {
      "cell_type": "code",
      "source": [
        "from sklearn.pipeline import Pipeline\n",
        "from matplotlib import pyplot\n",
        "from sklearn.model_selection import cross_val_score\n",
        "from sklearn.model_selection import RepeatedStratifiedKFold\n",
        "import xgboost as xg\n",
        "from sklearn.ensemble import RandomForestRegressor\n",
        "from sklearn.metrics import mean_squared_error as MSE\n",
        "from numpy import mean\n",
        "from numpy import std\n",
        "from sklearn.impute import KNNImputer\n",
        "import warnings\n",
        "warnings.filterwarnings('ignore')"
      ],
      "metadata": {
        "id": "Ht9NrOF2YSqA"
      },
      "execution_count": 55,
      "outputs": []
    },
    {
      "cell_type": "code",
      "source": [
        "df2.columns"
      ],
      "metadata": {
        "colab": {
          "base_uri": "https://localhost:8080/"
        },
        "id": "LOaS_Mupa2YF",
        "outputId": "8de8e702-a32d-4931-f9d1-8ca0584b3aae"
      },
      "execution_count": 56,
      "outputs": [
        {
          "output_type": "execute_result",
          "data": {
            "text/plain": [
              "Index(['Compressive strength of cementfce(MPa)',\n",
              "       'Tensile strength of cementfct(MPa)', 'Curing age (day)',\n",
              "       'Dmax of Crushed stone(mm)', 'Stone powder content in Sand (%)',\n",
              "       'Fineness modulus of sand ', 'W/B', 'Water to cement ratio mw/mc',\n",
              "       'Water(kg/m3)', 'Sand ratio(%)', 'Slump(mm)',\n",
              "       'Compressive strengthfcu,t(MPa)',\n",
              "       'Splitting tensile strengthfst,t(MPa)'],\n",
              "      dtype='object')"
            ]
          },
          "metadata": {},
          "execution_count": 56
        }
      ]
    },
    {
      "cell_type": "code",
      "source": [
        "X = df2.drop(['Compressive strengthfcu,t(MPa)',\n",
        "       'Splitting tensile strengthfst,t(MPa)'],axis=1)\n",
        "y = df2[['Compressive strengthfcu,t(MPa)',\n",
        "       'Splitting tensile strengthfst,t(MPa)']]\n",
        "y1 = df2['Compressive strengthfcu,t(MPa)']\n",
        "y2 = df2['Splitting tensile strengthfst,t(MPa)']"
      ],
      "metadata": {
        "id": "6W8-cUPkWWxc"
      },
      "execution_count": 57,
      "outputs": []
    },
    {
      "cell_type": "markdown",
      "source": [
        "#Testing for Compressive strength prediction"
      ],
      "metadata": {
        "id": "yRXL0xw0YLTb"
      }
    },
    {
      "cell_type": "code",
      "source": [
        "warnings.filterwarnings('ignore')\n",
        "# evaluate each strategy on the dataset\n",
        "results = list()\n",
        "strategies = [str(i) for i in [1,3,5,10,15,18,21]]\n",
        "for s in strategies:\n",
        "\t# create the modeling pipeline\n",
        "  imputer =  KNNImputer(n_neighbors=int(s))\n",
        "  model = xg.XGBRegressor(max_depth=9,min_child_weight=5,learning_rate=0.09,reg = 'squarederror',verbosity = 0)\n",
        "  # model = RandomForestRegressor()\n",
        "  pipeline = Pipeline(steps=[('i',imputer), ('m', model)])\n",
        "\t# evaluate the model\n",
        "  cv = RepeatedStratifiedKFold(n_splits=2, n_repeats=3, random_state=1)\n",
        "  scores = cross_val_score(pipeline, X.to_numpy(), y1,scoring='r2')\n",
        "\t# store results\n",
        "  print\n",
        "  results.append(scores)\n",
        "  print('>%s %.3f (%.3f)' % (s, mean(scores), std(scores)))\n",
        "# plot model performance for comparison\n",
        "pyplot.boxplot(results, labels=strategies, showmeans=True)\n",
        "pyplot.show()\n"
      ],
      "metadata": {
        "colab": {
          "base_uri": "https://localhost:8080/",
          "height": 387
        },
        "id": "4O18IuZ_Yl5F",
        "outputId": "9844d948-b469-407e-b549-1496d76350cf"
      },
      "execution_count": 58,
      "outputs": [
        {
          "output_type": "stream",
          "name": "stdout",
          "text": [
            ">1 0.452 (0.396)\n",
            ">3 0.563 (0.237)\n",
            ">5 0.559 (0.240)\n",
            ">10 0.484 (0.375)\n",
            ">15 0.462 (0.465)\n",
            ">18 0.480 (0.427)\n",
            ">21 0.506 (0.405)\n"
          ]
        },
        {
          "output_type": "display_data",
          "data": {
            "text/plain": [
              "<Figure size 432x288 with 1 Axes>"
            ],
            "image/png": "[encoded data removed]"
          },
          "metadata": {
            "needs_background": "light"
          }
        }
      ]
    },
    {
      "cell_type": "markdown",
      "source": [
        "#Testing for tensile strength prediction"
      ],
      "metadata": {
        "id": "gV_mkd3XYRLj"
      }
    },
    {
      "cell_type": "code",
      "source": [
        "warnings.filterwarnings('ignore')\n",
        "# evaluate each strategy on the dataset\n",
        "results = list()\n",
        "strategies = [str(i) for i in [1,3,5,10,15,18,21]]\n",
        "for s in strategies:\n",
        "\t# create the modeling pipeline\n",
        "  imputer =  KNNImputer(n_neighbors=int(s))\n",
        "  model = xg.XGBRegressor(max_depth=9,min_child_weight=5,learning_rate=0.09,reg = 'squarederror',verbosity = 0,)\n",
        "  # model = RandomForestRegressor()\n",
        "  pipeline = Pipeline(steps=[('i',imputer), ('m', model)])\n",
        "\t# evaluate the model\n",
        "  cv = RepeatedStratifiedKFold(n_splits=2, n_repeats=3, random_state=1)\n",
        "  scores = cross_val_score(pipeline, X.to_numpy(), y2,scoring='r2') # y2 represent tensile strength\n",
        "\t# store results\n",
        "  print\n",
        "  results.append(scores)\n",
        "  print('>%s %.3f (%.3f)' % (s, mean(scores), std(scores)))\n",
        "# plot model performance for comparison\n",
        "pyplot.boxplot(results, labels=strategies, showmeans=True)\n",
        "pyplot.show()\n"
      ],
      "metadata": {
        "colab": {
          "base_uri": "https://localhost:8080/",
          "height": 387
        },
        "id": "hlPXiubxYQ5_",
        "outputId": "28da854a-aa75-44dc-a382-d7a00bb7edf1"
      },
      "execution_count": 59,
      "outputs": [
        {
          "output_type": "stream",
          "name": "stdout",
          "text": [
            ">1 0.403 (0.370)\n",
            ">3 0.507 (0.232)\n",
            ">5 0.448 (0.246)\n",
            ">10 0.299 (0.586)\n",
            ">15 0.416 (0.376)\n",
            ">18 0.370 (0.459)\n",
            ">21 0.348 (0.492)\n"
          ]
        },
        {
          "output_type": "display_data",
          "data": {
            "text/plain": [
              "<Figure size 432x288 with 1 Axes>"
            ],
            "image/png": "[encoded data removed]"
          },
          "metadata": {
            "needs_background": "light"
          }
        }
      ]
    },
    {
      "cell_type": "markdown",
      "source": [
        "# following are the observation w.r.t KNN imputer\n",
        "* In both cases score is low for K=10\n",
        "* applying imputer KNN with k = 10"
      ],
      "metadata": {
        "id": "mioW2EVTZEwa"
      }
    },
    {
      "cell_type": "code",
      "source": [
        "n_neighbors=10\n",
        "print(X.shape)\n",
        "print(X.isnull().sum())\n",
        "columns = X.columns\n",
        "imputer = KNNImputer(n_neighbors=n_neighbors)\n",
        "X = imputer.fit_transform(X,y)\n",
        "X = pd.DataFrame(X,columns=columns)\n",
        "print(X.shape)\n",
        "print(X.isnull().sum())"
      ],
      "metadata": {
        "colab": {
          "base_uri": "https://localhost:8080/"
        },
        "id": "a-kE-Rxed7vU",
        "outputId": "debaf043-8b84-4c28-a837-ebdfcb668a10"
      },
      "execution_count": 60,
      "outputs": [
        {
          "output_type": "stream",
          "name": "stdout",
          "text": [
            "(714, 11)\n",
            "Compressive strength of cementfce(MPa)    251\n",
            "Tensile strength of cementfct(MPa)        275\n",
            "Curing age (day)                            0\n",
            "Dmax of Crushed stone(mm)                  62\n",
            "Stone powder content in Sand (%)           40\n",
            "Fineness modulus of sand                  115\n",
            "W/B                                         4\n",
            "Water to cement ratio mw/mc                10\n",
            "Water(kg/m3)                               13\n",
            "Sand ratio(%)                             106\n",
            "Slump(mm)                                  75\n",
            "dtype: int64\n",
            "(714, 11)\n",
            "Compressive strength of cementfce(MPa)    0\n",
            "Tensile strength of cementfct(MPa)        0\n",
            "Curing age (day)                          0\n",
            "Dmax of Crushed stone(mm)                 0\n",
            "Stone powder content in Sand (%)          0\n",
            "Fineness modulus of sand                  0\n",
            "W/B                                       0\n",
            "Water to cement ratio mw/mc               0\n",
            "Water(kg/m3)                              0\n",
            "Sand ratio(%)                             0\n",
            "Slump(mm)                                 0\n",
            "dtype: int64\n"
          ]
        }
      ]
    },
    {
      "cell_type": "markdown",
      "source": [
        "#Gread serach CV on xgboost"
      ],
      "metadata": {
        "id": "NvOo0VI2QarO"
      }
    },
    {
      "cell_type": "code",
      "source": [
        "from xgboost import XGBRegressor\n",
        "from sklearn.model_selection import GridSearchCV\n",
        "from sklearn.model_selection import train_test_split\n",
        "from sklearn.multioutput import MultiOutputRegressor"
      ],
      "metadata": {
        "id": "IBlNW7_eQaPS"
      },
      "execution_count": 73,
      "outputs": []
    },
    {
      "cell_type": "markdown",
      "source": [
        "## Gread Serach CV for compressive strength"
      ],
      "metadata": {
        "id": "UXMFQaTGTiAl"
      }
    },
    {
      "cell_type": "code",
      "source": [
        "x_train, x_test, y_train, y_test = train_test_split(X,y1,test_size=0.2,random_state=28,shuffle=True)"
      ],
      "metadata": {
        "id": "O4eE30ouRxWe"
      },
      "execution_count": 88,
      "outputs": []
    },
    {
      "cell_type": "code",
      "source": [
        "params ={\"learning_rate\" : [ 0.5, 0.1, 0.01, 0.001 ],\n",
        "  \"max_depth\": [ 3, 5, 10, 20 ],\n",
        "  \"n_estimators\" : [ 10, 50, 100, 200 ]\n",
        "}\n",
        "xgr = XGBRegressor(objective='reg:squarederror')\n",
        "grid = GridSearchCV(xgr,params,verbose=3,cv=5,scoring=[\"r2\",\"neg_mean_squared_error\"],refit=\"neg_mean_squared_error\")\n",
        "grid.fit(x_train,y_train)"
      ],
      "metadata": {
        "colab": {
          "base_uri": "https://localhost:8080/"
        },
        "id": "Vb762rWIhN5Q",
        "outputId": "af55e013-2f4e-4708-9b31-45d4f54a43a4"
      },
      "execution_count": 89,
      "outputs": [
        {
          "output_type": "stream",
          "name": "stdout",
          "text": [
            "Fitting 5 folds for each of 64 candidates, totalling 320 fits\n",
            "[CV 1/5] END learning_rate=0.5, max_depth=3, n_estimators=10; neg_mean_squared_error: (test=-34.043) r2: (test=0.937) total time=   0.0s\n",
            "[CV 2/5] END learning_rate=0.5, max_depth=3, n_estimators=10; neg_mean_squared_error: (test=-23.900) r2: (test=0.947) total time=   0.0s\n",
            "[CV 3/5] END learning_rate=0.5, max_depth=3, n_estimators=10; neg_mean_squared_error: (test=-25.171) r2: (test=0.935) total time=   0.0s\n",
            "[CV 4/5] END learning_rate=0.5, max_depth=3, n_estimators=10; neg_mean_squared_error: (test=-22.783) r2: (test=0.953) total time=   0.0s\n",
            "[CV 5/5] END learning_rate=0.5, max_depth=3, n_estimators=10; neg_mean_squared_error: (test=-35.248) r2: (test=0.926) total time=   0.0s\n",
            "[CV 1/5] END learning_rate=0.5, max_depth=3, n_estimators=50; neg_mean_squared_error: (test=-24.129) r2: (test=0.956) total time=   0.0s\n",
            "[CV 2/5] END learning_rate=0.5, max_depth=3, n_estimators=50; neg_mean_squared_error: (test=-12.750) r2: (test=0.972) total time=   0.0s\n",
            "[CV 3/5] END learning_rate=0.5, max_depth=3, n_estimators=50; neg_mean_squared_error: (test=-19.666) r2: (test=0.949) total time=   0.0s\n",
            "[CV 4/5] END learning_rate=0.5, max_depth=3, n_estimators=50; neg_mean_squared_error: (test=-17.477) r2: (test=0.964) total time=   0.0s\n",
            "[CV 5/5] END learning_rate=0.5, max_depth=3, n_estimators=50; neg_mean_squared_error: (test=-23.161) r2: (test=0.951) total time=   0.0s\n",
            "[CV 1/5] END learning_rate=0.5, max_depth=3, n_estimators=100; neg_mean_squared_error: (test=-22.564) r2: (test=0.958) total time=   0.0s\n",
            "[CV 2/5] END learning_rate=0.5, max_depth=3, n_estimators=100; neg_mean_squared_error: (test=-12.409) r2: (test=0.972) total time=   0.0s\n",
            "[CV 3/5] END learning_rate=0.5, max_depth=3, n_estimators=100; neg_mean_squared_error: (test=-18.165) r2: (test=0.953) total time=   0.0s\n",
            "[CV 4/5] END learning_rate=0.5, max_depth=3, n_estimators=100; neg_mean_squared_error: (test=-17.862) r2: (test=0.963) total time=   0.0s\n",
            "[CV 5/5] END learning_rate=0.5, max_depth=3, n_estimators=100; neg_mean_squared_error: (test=-22.289) r2: (test=0.953) total time=   0.0s\n",
            "[CV 1/5] END learning_rate=0.5, max_depth=3, n_estimators=200; neg_mean_squared_error: (test=-22.599) r2: (test=0.958) total time=   0.1s\n",
            "[CV 2/5] END learning_rate=0.5, max_depth=3, n_estimators=200; neg_mean_squared_error: (test=-12.459) r2: (test=0.972) total time=   0.1s\n",
            "[CV 3/5] END learning_rate=0.5, max_depth=3, n_estimators=200; neg_mean_squared_error: (test=-17.051) r2: (test=0.956) total time=   0.1s\n",
            "[CV 4/5] END learning_rate=0.5, max_depth=3, n_estimators=200; neg_mean_squared_error: (test=-17.977) r2: (test=0.963) total time=   0.1s\n",
            "[CV 5/5] END learning_rate=0.5, max_depth=3, n_estimators=200; neg_mean_squared_error: (test=-22.626) r2: (test=0.952) total time=   0.1s\n",
            "[CV 1/5] END learning_rate=0.5, max_depth=5, n_estimators=10; neg_mean_squared_error: (test=-19.588) r2: (test=0.964) total time=   0.0s\n",
            "[CV 2/5] END learning_rate=0.5, max_depth=5, n_estimators=10; neg_mean_squared_error: (test=-16.844) r2: (test=0.963) total time=   0.0s\n",
            "[CV 3/5] END learning_rate=0.5, max_depth=5, n_estimators=10; neg_mean_squared_error: (test=-18.274) r2: (test=0.953) total time=   0.0s\n",
            "[CV 4/5] END learning_rate=0.5, max_depth=5, n_estimators=10; neg_mean_squared_error: (test=-25.989) r2: (test=0.947) total time=   0.0s\n",
            "[CV 5/5] END learning_rate=0.5, max_depth=5, n_estimators=10; neg_mean_squared_error: (test=-32.584) r2: (test=0.931) total time=   0.0s\n",
            "[CV 1/5] END learning_rate=0.5, max_depth=5, n_estimators=50; neg_mean_squared_error: (test=-16.545) r2: (test=0.970) total time=   0.0s\n",
            "[CV 2/5] END learning_rate=0.5, max_depth=5, n_estimators=50; neg_mean_squared_error: (test=-12.937) r2: (test=0.971) total time=   0.0s\n",
            "[CV 3/5] END learning_rate=0.5, max_depth=5, n_estimators=50; neg_mean_squared_error: (test=-15.947) r2: (test=0.959) total time=   0.0s\n",
            "[CV 4/5] END learning_rate=0.5, max_depth=5, n_estimators=50; neg_mean_squared_error: (test=-23.214) r2: (test=0.952) total time=   0.0s\n",
            "[CV 5/5] END learning_rate=0.5, max_depth=5, n_estimators=50; neg_mean_squared_error: (test=-29.758) r2: (test=0.937) total time=   0.0s\n",
            "[CV 1/5] END learning_rate=0.5, max_depth=5, n_estimators=100; neg_mean_squared_error: (test=-16.518) r2: (test=0.970) total time=   0.1s\n",
            "[CV 2/5] END learning_rate=0.5, max_depth=5, n_estimators=100; neg_mean_squared_error: (test=-12.727) r2: (test=0.972) total time=   0.1s\n",
            "[CV 3/5] END learning_rate=0.5, max_depth=5, n_estimators=100; neg_mean_squared_error: (test=-16.274) r2: (test=0.958) total time=   0.1s\n",
            "[CV 4/5] END learning_rate=0.5, max_depth=5, n_estimators=100; neg_mean_squared_error: (test=-23.224) r2: (test=0.952) total time=   0.1s\n",
            "[CV 5/5] END learning_rate=0.5, max_depth=5, n_estimators=100; neg_mean_squared_error: (test=-29.408) r2: (test=0.938) total time=   0.1s\n",
            "[CV 1/5] END learning_rate=0.5, max_depth=5, n_estimators=200; neg_mean_squared_error: (test=-16.485) r2: (test=0.970) total time=   0.1s\n",
            "[CV 2/5] END learning_rate=0.5, max_depth=5, n_estimators=200; neg_mean_squared_error: (test=-12.548) r2: (test=0.972) total time=   0.1s\n",
            "[CV 3/5] END learning_rate=0.5, max_depth=5, n_estimators=200; neg_mean_squared_error: (test=-16.531) r2: (test=0.957) total time=   0.1s\n",
            "[CV 4/5] END learning_rate=0.5, max_depth=5, n_estimators=200; neg_mean_squared_error: (test=-23.108) r2: (test=0.952) total time=   0.1s\n",
            "[CV 5/5] END learning_rate=0.5, max_depth=5, n_estimators=200; neg_mean_squared_error: (test=-29.241) r2: (test=0.938) total time=   0.1s\n",
            "[CV 1/5] END learning_rate=0.5, max_depth=10, n_estimators=10; neg_mean_squared_error: (test=-16.362) r2: (test=0.970) total time=   0.0s\n",
            "[CV 2/5] END learning_rate=0.5, max_depth=10, n_estimators=10; neg_mean_squared_error: (test=-15.200) r2: (test=0.966) total time=   0.0s\n",
            "[CV 3/5] END learning_rate=0.5, max_depth=10, n_estimators=10; neg_mean_squared_error: (test=-15.371) r2: (test=0.960) total time=   0.0s\n",
            "[CV 4/5] END learning_rate=0.5, max_depth=10, n_estimators=10; neg_mean_squared_error: (test=-21.996) r2: (test=0.955) total time=   0.0s\n",
            "[CV 5/5] END learning_rate=0.5, max_depth=10, n_estimators=10; neg_mean_squared_error: (test=-42.926) r2: (test=0.909) total time=   0.0s\n",
            "[CV 1/5] END learning_rate=0.5, max_depth=10, n_estimators=50; neg_mean_squared_error: (test=-16.181) r2: (test=0.970) total time=   0.1s\n",
            "[CV 2/5] END learning_rate=0.5, max_depth=10, n_estimators=50; neg_mean_squared_error: (test=-13.878) r2: (test=0.969) total time=   0.1s\n",
            "[CV 3/5] END learning_rate=0.5, max_depth=10, n_estimators=50; neg_mean_squared_error: (test=-15.100) r2: (test=0.961) total time=   0.1s\n",
            "[CV 4/5] END learning_rate=0.5, max_depth=10, n_estimators=50; neg_mean_squared_error: (test=-21.799) r2: (test=0.955) total time=   0.1s\n",
            "[CV 5/5] END learning_rate=0.5, max_depth=10, n_estimators=50; neg_mean_squared_error: (test=-42.266) r2: (test=0.911) total time=   0.1s\n",
            "[CV 1/5] END learning_rate=0.5, max_depth=10, n_estimators=100; neg_mean_squared_error: (test=-16.180) r2: (test=0.970) total time=   0.1s\n",
            "[CV 2/5] END learning_rate=0.5, max_depth=10, n_estimators=100; neg_mean_squared_error: (test=-13.884) r2: (test=0.969) total time=   0.1s\n",
            "[CV 3/5] END learning_rate=0.5, max_depth=10, n_estimators=100; neg_mean_squared_error: (test=-15.101) r2: (test=0.961) total time=   0.1s\n",
            "[CV 4/5] END learning_rate=0.5, max_depth=10, n_estimators=100; neg_mean_squared_error: (test=-21.799) r2: (test=0.955) total time=   0.1s\n",
            "[CV 5/5] END learning_rate=0.5, max_depth=10, n_estimators=100; neg_mean_squared_error: (test=-42.263) r2: (test=0.911) total time=   0.1s\n",
            "[CV 1/5] END learning_rate=0.5, max_depth=10, n_estimators=200; neg_mean_squared_error: (test=-16.180) r2: (test=0.970) total time=   0.1s\n",
            "[CV 2/5] END learning_rate=0.5, max_depth=10, n_estimators=200; neg_mean_squared_error: (test=-13.884) r2: (test=0.969) total time=   0.1s\n",
            "[CV 3/5] END learning_rate=0.5, max_depth=10, n_estimators=200; neg_mean_squared_error: (test=-15.101) r2: (test=0.961) total time=   0.1s\n",
            "[CV 4/5] END learning_rate=0.5, max_depth=10, n_estimators=200; neg_mean_squared_error: (test=-21.799) r2: (test=0.955) total time=   0.1s\n",
            "[CV 5/5] END learning_rate=0.5, max_depth=10, n_estimators=200; neg_mean_squared_error: (test=-42.263) r2: (test=0.911) total time=   0.1s\n",
            "[CV 1/5] END learning_rate=0.5, max_depth=20, n_estimators=10; neg_mean_squared_error: (test=-18.694) r2: (test=0.966) total time=   0.0s\n",
            "[CV 2/5] END learning_rate=0.5, max_depth=20, n_estimators=10; neg_mean_squared_error: (test=-13.901) r2: (test=0.969) total time=   0.0s\n",
            "[CV 3/5] END learning_rate=0.5, max_depth=20, n_estimators=10; neg_mean_squared_error: (test=-16.588) r2: (test=0.957) total time=   0.0s\n",
            "[CV 4/5] END learning_rate=0.5, max_depth=20, n_estimators=10; neg_mean_squared_error: (test=-23.003) r2: (test=0.953) total time=   0.0s\n",
            "[CV 5/5] END learning_rate=0.5, max_depth=20, n_estimators=10; neg_mean_squared_error: (test=-42.812) r2: (test=0.910) total time=   0.0s\n",
            "[CV 1/5] END learning_rate=0.5, max_depth=20, n_estimators=50; neg_mean_squared_error: (test=-18.399) r2: (test=0.966) total time=   0.1s\n",
            "[CV 2/5] END learning_rate=0.5, max_depth=20, n_estimators=50; neg_mean_squared_error: (test=-13.509) r2: (test=0.970) total time=   0.1s\n",
            "[CV 3/5] END learning_rate=0.5, max_depth=20, n_estimators=50; neg_mean_squared_error: (test=-15.810) r2: (test=0.959) total time=   0.1s\n",
            "[CV 4/5] END learning_rate=0.5, max_depth=20, n_estimators=50; neg_mean_squared_error: (test=-22.871) r2: (test=0.953) total time=   0.1s\n",
            "[CV 5/5] END learning_rate=0.5, max_depth=20, n_estimators=50; neg_mean_squared_error: (test=-42.995) r2: (test=0.909) total time=   0.1s\n",
            "[CV 1/5] END learning_rate=0.5, max_depth=20, n_estimators=100; neg_mean_squared_error: (test=-18.399) r2: (test=0.966) total time=   0.1s\n",
            "[CV 2/5] END learning_rate=0.5, max_depth=20, n_estimators=100; neg_mean_squared_error: (test=-13.509) r2: (test=0.970) total time=   0.1s\n",
            "[CV 3/5] END learning_rate=0.5, max_depth=20, n_estimators=100; neg_mean_squared_error: (test=-15.810) r2: (test=0.959) total time=   0.1s\n",
            "[CV 4/5] END learning_rate=0.5, max_depth=20, n_estimators=100; neg_mean_squared_error: (test=-22.871) r2: (test=0.953) total time=   0.1s\n",
            "[CV 5/5] END learning_rate=0.5, max_depth=20, n_estimators=100; neg_mean_squared_error: (test=-42.995) r2: (test=0.909) total time=   0.1s\n",
            "[CV 1/5] END learning_rate=0.5, max_depth=20, n_estimators=200; neg_mean_squared_error: (test=-18.399) r2: (test=0.966) total time=   0.1s\n",
            "[CV 2/5] END learning_rate=0.5, max_depth=20, n_estimators=200; neg_mean_squared_error: (test=-13.509) r2: (test=0.970) total time=   0.1s\n",
            "[CV 3/5] END learning_rate=0.5, max_depth=20, n_estimators=200; neg_mean_squared_error: (test=-15.810) r2: (test=0.959) total time=   0.1s\n",
            "[CV 4/5] END learning_rate=0.5, max_depth=20, n_estimators=200; neg_mean_squared_error: (test=-22.871) r2: (test=0.953) total time=   0.1s\n",
            "[CV 5/5] END learning_rate=0.5, max_depth=20, n_estimators=200; neg_mean_squared_error: (test=-42.995) r2: (test=0.909) total time=   0.1s\n",
            "[CV 1/5] END learning_rate=0.1, max_depth=3, n_estimators=10; neg_mean_squared_error: (test=-384.280) r2: (test=0.293) total time=   0.0s\n",
            "[CV 2/5] END learning_rate=0.1, max_depth=3, n_estimators=10; neg_mean_squared_error: (test=-306.521) r2: (test=0.319) total time=   0.0s\n",
            "[CV 3/5] END learning_rate=0.1, max_depth=3, n_estimators=10; neg_mean_squared_error: (test=-348.037) r2: (test=0.101) total time=   0.0s\n",
            "[CV 4/5] END learning_rate=0.1, max_depth=3, n_estimators=10; neg_mean_squared_error: (test=-333.456) r2: (test=0.314) total time=   0.0s\n",
            "[CV 5/5] END learning_rate=0.1, max_depth=3, n_estimators=10; neg_mean_squared_error: (test=-396.024) r2: (test=0.164) total time=   0.0s\n",
            "[CV 1/5] END learning_rate=0.1, max_depth=3, n_estimators=50; neg_mean_squared_error: (test=-27.019) r2: (test=0.950) total time=   0.0s\n",
            "[CV 2/5] END learning_rate=0.1, max_depth=3, n_estimators=50; neg_mean_squared_error: (test=-21.109) r2: (test=0.953) total time=   0.0s\n",
            "[CV 3/5] END learning_rate=0.1, max_depth=3, n_estimators=50; neg_mean_squared_error: (test=-20.907) r2: (test=0.946) total time=   0.0s\n",
            "[CV 4/5] END learning_rate=0.1, max_depth=3, n_estimators=50; neg_mean_squared_error: (test=-20.516) r2: (test=0.958) total time=   0.0s\n",
            "[CV 5/5] END learning_rate=0.1, max_depth=3, n_estimators=50; neg_mean_squared_error: (test=-35.323) r2: (test=0.925) total time=   0.0s\n",
            "[CV 1/5] END learning_rate=0.1, max_depth=3, n_estimators=100; neg_mean_squared_error: (test=-21.716) r2: (test=0.960) total time=   0.0s\n",
            "[CV 2/5] END learning_rate=0.1, max_depth=3, n_estimators=100; neg_mean_squared_error: (test=-16.644) r2: (test=0.963) total time=   0.0s\n",
            "[CV 3/5] END learning_rate=0.1, max_depth=3, n_estimators=100; neg_mean_squared_error: (test=-17.210) r2: (test=0.956) total time=   0.0s\n",
            "[CV 4/5] END learning_rate=0.1, max_depth=3, n_estimators=100; neg_mean_squared_error: (test=-17.270) r2: (test=0.964) total time=   0.0s\n",
            "[CV 5/5] END learning_rate=0.1, max_depth=3, n_estimators=100; neg_mean_squared_error: (test=-27.180) r2: (test=0.943) total time=   0.0s\n",
            "[CV 1/5] END learning_rate=0.1, max_depth=3, n_estimators=200; neg_mean_squared_error: (test=-18.805) r2: (test=0.965) total time=   0.1s\n",
            "[CV 2/5] END learning_rate=0.1, max_depth=3, n_estimators=200; neg_mean_squared_error: (test=-13.886) r2: (test=0.969) total time=   0.1s\n",
            "[CV 3/5] END learning_rate=0.1, max_depth=3, n_estimators=200; neg_mean_squared_error: (test=-14.649) r2: (test=0.962) total time=   0.1s\n",
            "[CV 4/5] END learning_rate=0.1, max_depth=3, n_estimators=200; neg_mean_squared_error: (test=-16.429) r2: (test=0.966) total time=   0.1s\n",
            "[CV 5/5] END learning_rate=0.1, max_depth=3, n_estimators=200; neg_mean_squared_error: (test=-24.349) r2: (test=0.949) total time=   0.1s\n",
            "[CV 1/5] END learning_rate=0.1, max_depth=5, n_estimators=10; neg_mean_squared_error: (test=-365.208) r2: (test=0.328) total time=   0.0s\n",
            "[CV 2/5] END learning_rate=0.1, max_depth=5, n_estimators=10; neg_mean_squared_error: (test=-282.525) r2: (test=0.372) total time=   0.0s\n",
            "[CV 3/5] END learning_rate=0.1, max_depth=5, n_estimators=10; neg_mean_squared_error: (test=-325.376) r2: (test=0.159) total time=   0.0s\n",
            "[CV 4/5] END learning_rate=0.1, max_depth=5, n_estimators=10; neg_mean_squared_error: (test=-329.007) r2: (test=0.323) total time=   0.0s\n",
            "[CV 5/5] END learning_rate=0.1, max_depth=5, n_estimators=10; neg_mean_squared_error: (test=-376.385) r2: (test=0.205) total time=   0.0s\n",
            "[CV 1/5] END learning_rate=0.1, max_depth=5, n_estimators=50; neg_mean_squared_error: (test=-15.250) r2: (test=0.972) total time=   0.0s\n",
            "[CV 2/5] END learning_rate=0.1, max_depth=5, n_estimators=50; neg_mean_squared_error: (test=-15.493) r2: (test=0.966) total time=   0.0s\n",
            "[CV 3/5] END learning_rate=0.1, max_depth=5, n_estimators=50; neg_mean_squared_error: (test=-13.620) r2: (test=0.965) total time=   0.0s\n",
            "[CV 4/5] END learning_rate=0.1, max_depth=5, n_estimators=50; neg_mean_squared_error: (test=-19.137) r2: (test=0.961) total time=   0.0s\n",
            "[CV 5/5] END learning_rate=0.1, max_depth=5, n_estimators=50; neg_mean_squared_error: (test=-34.982) r2: (test=0.926) total time=   0.0s\n",
            "[CV 1/5] END learning_rate=0.1, max_depth=5, n_estimators=100; neg_mean_squared_error: (test=-13.670) r2: (test=0.975) total time=   0.1s\n",
            "[CV 2/5] END learning_rate=0.1, max_depth=5, n_estimators=100; neg_mean_squared_error: (test=-13.530) r2: (test=0.970) total time=   0.1s\n",
            "[CV 3/5] END learning_rate=0.1, max_depth=5, n_estimators=100; neg_mean_squared_error: (test=-12.718) r2: (test=0.967) total time=   0.1s\n",
            "[CV 4/5] END learning_rate=0.1, max_depth=5, n_estimators=100; neg_mean_squared_error: (test=-18.153) r2: (test=0.963) total time=   0.1s\n",
            "[CV 5/5] END learning_rate=0.1, max_depth=5, n_estimators=100; neg_mean_squared_error: (test=-31.685) r2: (test=0.933) total time=   0.1s\n",
            "[CV 1/5] END learning_rate=0.1, max_depth=5, n_estimators=200; neg_mean_squared_error: (test=-12.338) r2: (test=0.977) total time=   0.1s\n",
            "[CV 2/5] END learning_rate=0.1, max_depth=5, n_estimators=200; neg_mean_squared_error: (test=-12.692) r2: (test=0.972) total time=   0.1s\n",
            "[CV 3/5] END learning_rate=0.1, max_depth=5, n_estimators=200; neg_mean_squared_error: (test=-11.914) r2: (test=0.969) total time=   0.1s\n",
            "[CV 4/5] END learning_rate=0.1, max_depth=5, n_estimators=200; neg_mean_squared_error: (test=-18.312) r2: (test=0.962) total time=   0.1s\n",
            "[CV 5/5] END learning_rate=0.1, max_depth=5, n_estimators=200; neg_mean_squared_error: (test=-30.829) r2: (test=0.935) total time=   0.1s\n",
            "[CV 1/5] END learning_rate=0.1, max_depth=10, n_estimators=10; neg_mean_squared_error: (test=-366.300) r2: (test=0.326) total time=   0.0s\n",
            "[CV 2/5] END learning_rate=0.1, max_depth=10, n_estimators=10; neg_mean_squared_error: (test=-282.512) r2: (test=0.372) total time=   0.0s\n",
            "[CV 3/5] END learning_rate=0.1, max_depth=10, n_estimators=10; neg_mean_squared_error: (test=-324.720) r2: (test=0.161) total time=   0.0s\n",
            "[CV 4/5] END learning_rate=0.1, max_depth=10, n_estimators=10; neg_mean_squared_error: (test=-327.514) r2: (test=0.326) total time=   0.0s\n",
            "[CV 5/5] END learning_rate=0.1, max_depth=10, n_estimators=10; neg_mean_squared_error: (test=-374.651) r2: (test=0.209) total time=   0.0s\n",
            "[CV 1/5] END learning_rate=0.1, max_depth=10, n_estimators=50; neg_mean_squared_error: (test=-11.248) r2: (test=0.979) total time=   0.1s\n",
            "[CV 2/5] END learning_rate=0.1, max_depth=10, n_estimators=50; neg_mean_squared_error: (test=-15.529) r2: (test=0.965) total time=   0.1s\n",
            "[CV 3/5] END learning_rate=0.1, max_depth=10, n_estimators=50; neg_mean_squared_error: (test=-12.511) r2: (test=0.968) total time=   0.1s\n",
            "[CV 4/5] END learning_rate=0.1, max_depth=10, n_estimators=50; neg_mean_squared_error: (test=-19.499) r2: (test=0.960) total time=   0.1s\n",
            "[CV 5/5] END learning_rate=0.1, max_depth=10, n_estimators=50; neg_mean_squared_error: (test=-29.783) r2: (test=0.937) total time=   0.1s\n",
            "[CV 1/5] END learning_rate=0.1, max_depth=10, n_estimators=100; neg_mean_squared_error: (test=-10.572) r2: (test=0.981) total time=   0.1s\n",
            "[CV 2/5] END learning_rate=0.1, max_depth=10, n_estimators=100; neg_mean_squared_error: (test=-13.853) r2: (test=0.969) total time=   0.1s\n",
            "[CV 3/5] END learning_rate=0.1, max_depth=10, n_estimators=100; neg_mean_squared_error: (test=-11.973) r2: (test=0.969) total time=   0.1s\n",
            "[CV 4/5] END learning_rate=0.1, max_depth=10, n_estimators=100; neg_mean_squared_error: (test=-19.182) r2: (test=0.961) total time=   0.1s\n",
            "[CV 5/5] END learning_rate=0.1, max_depth=10, n_estimators=100; neg_mean_squared_error: (test=-26.503) r2: (test=0.944) total time=   0.1s\n",
            "[CV 1/5] END learning_rate=0.1, max_depth=10, n_estimators=200; neg_mean_squared_error: (test=-10.587) r2: (test=0.981) total time=   0.2s\n",
            "[CV 2/5] END learning_rate=0.1, max_depth=10, n_estimators=200; neg_mean_squared_error: (test=-13.726) r2: (test=0.969) total time=   0.2s\n",
            "[CV 3/5] END learning_rate=0.1, max_depth=10, n_estimators=200; neg_mean_squared_error: (test=-11.923) r2: (test=0.969) total time=   0.2s\n",
            "[CV 4/5] END learning_rate=0.1, max_depth=10, n_estimators=200; neg_mean_squared_error: (test=-19.256) r2: (test=0.960) total time=   0.3s\n",
            "[CV 5/5] END learning_rate=0.1, max_depth=10, n_estimators=200; neg_mean_squared_error: (test=-27.821) r2: (test=0.941) total time=   0.3s\n",
            "[CV 1/5] END learning_rate=0.1, max_depth=20, n_estimators=10; neg_mean_squared_error: (test=-366.300) r2: (test=0.326) total time=   0.0s\n",
            "[CV 2/5] END learning_rate=0.1, max_depth=20, n_estimators=10; neg_mean_squared_error: (test=-282.512) r2: (test=0.372) total time=   0.0s\n",
            "[CV 3/5] END learning_rate=0.1, max_depth=20, n_estimators=10; neg_mean_squared_error: (test=-324.720) r2: (test=0.161) total time=   0.0s\n",
            "[CV 4/5] END learning_rate=0.1, max_depth=20, n_estimators=10; neg_mean_squared_error: (test=-327.514) r2: (test=0.326) total time=   0.0s\n",
            "[CV 5/5] END learning_rate=0.1, max_depth=20, n_estimators=10; neg_mean_squared_error: (test=-374.651) r2: (test=0.209) total time=   0.0s\n",
            "[CV 1/5] END learning_rate=0.1, max_depth=20, n_estimators=50; neg_mean_squared_error: (test=-10.845) r2: (test=0.980) total time=   0.1s\n",
            "[CV 2/5] END learning_rate=0.1, max_depth=20, n_estimators=50; neg_mean_squared_error: (test=-14.639) r2: (test=0.967) total time=   0.1s\n",
            "[CV 3/5] END learning_rate=0.1, max_depth=20, n_estimators=50; neg_mean_squared_error: (test=-13.192) r2: (test=0.966) total time=   0.1s\n",
            "[CV 4/5] END learning_rate=0.1, max_depth=20, n_estimators=50; neg_mean_squared_error: (test=-19.815) r2: (test=0.959) total time=   0.1s\n",
            "[CV 5/5] END learning_rate=0.1, max_depth=20, n_estimators=50; neg_mean_squared_error: (test=-30.520) r2: (test=0.936) total time=   0.1s\n",
            "[CV 1/5] END learning_rate=0.1, max_depth=20, n_estimators=100; neg_mean_squared_error: (test=-10.387) r2: (test=0.981) total time=   0.2s\n",
            "[CV 2/5] END learning_rate=0.1, max_depth=20, n_estimators=100; neg_mean_squared_error: (test=-13.023) r2: (test=0.971) total time=   0.2s\n",
            "[CV 3/5] END learning_rate=0.1, max_depth=20, n_estimators=100; neg_mean_squared_error: (test=-12.930) r2: (test=0.967) total time=   0.5s\n",
            "[CV 4/5] END learning_rate=0.1, max_depth=20, n_estimators=100; neg_mean_squared_error: (test=-19.805) r2: (test=0.959) total time=   0.4s\n",
            "[CV 5/5] END learning_rate=0.1, max_depth=20, n_estimators=100; neg_mean_squared_error: (test=-27.254) r2: (test=0.942) total time=   0.4s\n",
            "[CV 1/5] END learning_rate=0.1, max_depth=20, n_estimators=200; neg_mean_squared_error: (test=-10.385) r2: (test=0.981) total time=   0.4s\n",
            "[CV 2/5] END learning_rate=0.1, max_depth=20, n_estimators=200; neg_mean_squared_error: (test=-12.951) r2: (test=0.971) total time=   0.4s\n",
            "[CV 3/5] END learning_rate=0.1, max_depth=20, n_estimators=200; neg_mean_squared_error: (test=-12.943) r2: (test=0.967) total time=   0.4s\n",
            "[CV 4/5] END learning_rate=0.1, max_depth=20, n_estimators=200; neg_mean_squared_error: (test=-19.821) r2: (test=0.959) total time=   0.4s\n",
            "[CV 5/5] END learning_rate=0.1, max_depth=20, n_estimators=200; neg_mean_squared_error: (test=-27.121) r2: (test=0.943) total time=   0.4s\n",
            "[CV 1/5] END learning_rate=0.01, max_depth=3, n_estimators=10; neg_mean_squared_error: (test=-2020.771) r2: (test=-2.718) total time=   0.0s\n",
            "[CV 2/5] END learning_rate=0.01, max_depth=3, n_estimators=10; neg_mean_squared_error: (test=-1667.495) r2: (test=-2.706) total time=   0.0s\n",
            "[CV 3/5] END learning_rate=0.01, max_depth=3, n_estimators=10; neg_mean_squared_error: (test=-1879.855) r2: (test=-3.857) total time=   0.0s\n",
            "[CV 4/5] END learning_rate=0.01, max_depth=3, n_estimators=10; neg_mean_squared_error: (test=-1810.305) r2: (test=-2.726) total time=   0.0s\n",
            "[CV 5/5] END learning_rate=0.01, max_depth=3, n_estimators=10; neg_mean_squared_error: (test=-1873.028) r2: (test=-2.954) total time=   0.0s\n",
            "[CV 1/5] END learning_rate=0.01, max_depth=3, n_estimators=50; neg_mean_squared_error: (test=-970.295) r2: (test=-0.785) total time=   0.0s\n",
            "[CV 2/5] END learning_rate=0.01, max_depth=3, n_estimators=50; neg_mean_squared_error: (test=-788.120) r2: (test=-0.751) total time=   0.0s\n",
            "[CV 3/5] END learning_rate=0.01, max_depth=3, n_estimators=50; neg_mean_squared_error: (test=-895.335) r2: (test=-1.313) total time=   0.0s\n",
            "[CV 4/5] END learning_rate=0.01, max_depth=3, n_estimators=50; neg_mean_squared_error: (test=-869.193) r2: (test=-0.789) total time=   0.0s\n",
            "[CV 5/5] END learning_rate=0.01, max_depth=3, n_estimators=50; neg_mean_squared_error: (test=-943.173) r2: (test=-0.991) total time=   0.0s\n",
            "[CV 1/5] END learning_rate=0.01, max_depth=3, n_estimators=100; neg_mean_squared_error: (test=-412.837) r2: (test=0.240) total time=   0.0s\n",
            "[CV 2/5] END learning_rate=0.01, max_depth=3, n_estimators=100; neg_mean_squared_error: (test=-330.099) r2: (test=0.266) total time=   0.0s\n",
            "[CV 3/5] END learning_rate=0.01, max_depth=3, n_estimators=100; neg_mean_squared_error: (test=-374.865) r2: (test=0.031) total time=   0.0s\n",
            "[CV 4/5] END learning_rate=0.01, max_depth=3, n_estimators=100; neg_mean_squared_error: (test=-358.249) r2: (test=0.263) total time=   0.0s\n",
            "[CV 5/5] END learning_rate=0.01, max_depth=3, n_estimators=100; neg_mean_squared_error: (test=-420.788) r2: (test=0.112) total time=   0.0s\n",
            "[CV 1/5] END learning_rate=0.01, max_depth=3, n_estimators=200; neg_mean_squared_error: (test=-97.385) r2: (test=0.821) total time=   0.1s\n",
            "[CV 2/5] END learning_rate=0.01, max_depth=3, n_estimators=200; neg_mean_squared_error: (test=-78.423) r2: (test=0.826) total time=   0.1s\n",
            "[CV 3/5] END learning_rate=0.01, max_depth=3, n_estimators=200; neg_mean_squared_error: (test=-83.865) r2: (test=0.783) total time=   0.1s\n",
            "[CV 4/5] END learning_rate=0.01, max_depth=3, n_estimators=200; neg_mean_squared_error: (test=-77.492) r2: (test=0.841) total time=   0.1s\n",
            "[CV 5/5] END learning_rate=0.01, max_depth=3, n_estimators=200; neg_mean_squared_error: (test=-116.650) r2: (test=0.754) total time=   0.1s\n",
            "[CV 1/5] END learning_rate=0.01, max_depth=5, n_estimators=10; neg_mean_squared_error: (test=-2018.240) r2: (test=-2.713) total time=   0.0s\n",
            "[CV 2/5] END learning_rate=0.01, max_depth=5, n_estimators=10; neg_mean_squared_error: (test=-1660.931) r2: (test=-2.691) total time=   0.0s\n",
            "[CV 3/5] END learning_rate=0.01, max_depth=5, n_estimators=10; neg_mean_squared_error: (test=-1881.056) r2: (test=-3.860) total time=   0.0s\n",
            "[CV 4/5] END learning_rate=0.01, max_depth=5, n_estimators=10; neg_mean_squared_error: (test=-1809.067) r2: (test=-2.723) total time=   0.0s\n",
            "[CV 5/5] END learning_rate=0.01, max_depth=5, n_estimators=10; neg_mean_squared_error: (test=-1866.244) r2: (test=-2.940) total time=   0.0s\n",
            "[CV 1/5] END learning_rate=0.01, max_depth=5, n_estimators=50; neg_mean_squared_error: (test=-964.381) r2: (test=-0.774) total time=   0.0s\n",
            "[CV 2/5] END learning_rate=0.01, max_depth=5, n_estimators=50; neg_mean_squared_error: (test=-767.949) r2: (test=-0.707) total time=   0.0s\n",
            "[CV 3/5] END learning_rate=0.01, max_depth=5, n_estimators=50; neg_mean_squared_error: (test=-880.487) r2: (test=-1.275) total time=   0.0s\n",
            "[CV 4/5] END learning_rate=0.01, max_depth=5, n_estimators=50; neg_mean_squared_error: (test=-868.692) r2: (test=-0.788) total time=   0.0s\n",
            "[CV 5/5] END learning_rate=0.01, max_depth=5, n_estimators=50; neg_mean_squared_error: (test=-925.260) r2: (test=-0.953) total time=   0.0s\n",
            "[CV 1/5] END learning_rate=0.01, max_depth=5, n_estimators=100; neg_mean_squared_error: (test=-395.863) r2: (test=0.272) total time=   0.1s\n",
            "[CV 2/5] END learning_rate=0.01, max_depth=5, n_estimators=100; neg_mean_squared_error: (test=-307.194) r2: (test=0.317) total time=   0.1s\n",
            "[CV 3/5] END learning_rate=0.01, max_depth=5, n_estimators=100; neg_mean_squared_error: (test=-355.485) r2: (test=0.082) total time=   0.1s\n",
            "[CV 4/5] END learning_rate=0.01, max_depth=5, n_estimators=100; neg_mean_squared_error: (test=-355.112) r2: (test=0.269) total time=   0.1s\n",
            "[CV 5/5] END learning_rate=0.01, max_depth=5, n_estimators=100; neg_mean_squared_error: (test=-408.746) r2: (test=0.137) total time=   0.1s\n",
            "[CV 1/5] END learning_rate=0.01, max_depth=5, n_estimators=200; neg_mean_squared_error: (test=-76.905) r2: (test=0.859) total time=   0.1s\n",
            "[CV 2/5] END learning_rate=0.01, max_depth=5, n_estimators=200; neg_mean_squared_error: (test=-63.145) r2: (test=0.860) total time=   0.1s\n",
            "[CV 3/5] END learning_rate=0.01, max_depth=5, n_estimators=200; neg_mean_squared_error: (test=-68.261) r2: (test=0.824) total time=   0.1s\n",
            "[CV 4/5] END learning_rate=0.01, max_depth=5, n_estimators=200; neg_mean_squared_error: (test=-73.351) r2: (test=0.849) total time=   0.1s\n",
            "[CV 5/5] END learning_rate=0.01, max_depth=5, n_estimators=200; neg_mean_squared_error: (test=-105.952) r2: (test=0.776) total time=   0.1s\n",
            "[CV 1/5] END learning_rate=0.01, max_depth=10, n_estimators=10; neg_mean_squared_error: (test=-2018.190) r2: (test=-2.713) total time=   0.0s\n",
            "[CV 2/5] END learning_rate=0.01, max_depth=10, n_estimators=10; neg_mean_squared_error: (test=-1660.757) r2: (test=-2.691) total time=   0.0s\n",
            "[CV 3/5] END learning_rate=0.01, max_depth=10, n_estimators=10; neg_mean_squared_error: (test=-1881.310) r2: (test=-3.861) total time=   0.0s\n",
            "[CV 4/5] END learning_rate=0.01, max_depth=10, n_estimators=10; neg_mean_squared_error: (test=-1809.067) r2: (test=-2.723) total time=   0.0s\n",
            "[CV 5/5] END learning_rate=0.01, max_depth=10, n_estimators=10; neg_mean_squared_error: (test=-1866.240) r2: (test=-2.940) total time=   0.0s\n",
            "[CV 1/5] END learning_rate=0.01, max_depth=10, n_estimators=50; neg_mean_squared_error: (test=-965.156) r2: (test=-0.776) total time=   0.0s\n",
            "[CV 2/5] END learning_rate=0.01, max_depth=10, n_estimators=50; neg_mean_squared_error: (test=-768.560) r2: (test=-0.708) total time=   0.0s\n",
            "[CV 3/5] END learning_rate=0.01, max_depth=10, n_estimators=50; neg_mean_squared_error: (test=-880.132) r2: (test=-1.274) total time=   0.0s\n",
            "[CV 4/5] END learning_rate=0.01, max_depth=10, n_estimators=50; neg_mean_squared_error: (test=-868.211) r2: (test=-0.787) total time=   0.0s\n",
            "[CV 5/5] END learning_rate=0.01, max_depth=10, n_estimators=50; neg_mean_squared_error: (test=-926.479) r2: (test=-0.956) total time=   0.0s\n",
            "[CV 1/5] END learning_rate=0.01, max_depth=10, n_estimators=100; neg_mean_squared_error: (test=-394.707) r2: (test=0.274) total time=   0.1s\n",
            "[CV 2/5] END learning_rate=0.01, max_depth=10, n_estimators=100; neg_mean_squared_error: (test=-310.722) r2: (test=0.310) total time=   0.1s\n",
            "[CV 3/5] END learning_rate=0.01, max_depth=10, n_estimators=100; neg_mean_squared_error: (test=-352.267) r2: (test=0.090) total time=   0.1s\n",
            "[CV 4/5] END learning_rate=0.01, max_depth=10, n_estimators=100; neg_mean_squared_error: (test=-352.831) r2: (test=0.274) total time=   0.1s\n",
            "[CV 5/5] END learning_rate=0.01, max_depth=10, n_estimators=100; neg_mean_squared_error: (test=-415.407) r2: (test=0.123) total time=   0.1s\n",
            "[CV 1/5] END learning_rate=0.01, max_depth=10, n_estimators=200; neg_mean_squared_error: (test=-75.989) r2: (test=0.860) total time=   0.2s\n",
            "[CV 2/5] END learning_rate=0.01, max_depth=10, n_estimators=200; neg_mean_squared_error: (test=-66.768) r2: (test=0.852) total time=   0.2s\n",
            "[CV 3/5] END learning_rate=0.01, max_depth=10, n_estimators=200; neg_mean_squared_error: (test=-67.032) r2: (test=0.827) total time=   0.2s\n",
            "[CV 4/5] END learning_rate=0.01, max_depth=10, n_estimators=200; neg_mean_squared_error: (test=-74.086) r2: (test=0.848) total time=   0.2s\n",
            "[CV 5/5] END learning_rate=0.01, max_depth=10, n_estimators=200; neg_mean_squared_error: (test=-112.544) r2: (test=0.762) total time=   0.2s\n",
            "[CV 1/5] END learning_rate=0.01, max_depth=20, n_estimators=10; neg_mean_squared_error: (test=-2018.190) r2: (test=-2.713) total time=   0.0s\n",
            "[CV 2/5] END learning_rate=0.01, max_depth=20, n_estimators=10; neg_mean_squared_error: (test=-1660.757) r2: (test=-2.691) total time=   0.0s\n",
            "[CV 3/5] END learning_rate=0.01, max_depth=20, n_estimators=10; neg_mean_squared_error: (test=-1881.310) r2: (test=-3.861) total time=   0.0s\n",
            "[CV 4/5] END learning_rate=0.01, max_depth=20, n_estimators=10; neg_mean_squared_error: (test=-1809.067) r2: (test=-2.723) total time=   0.0s\n",
            "[CV 5/5] END learning_rate=0.01, max_depth=20, n_estimators=10; neg_mean_squared_error: (test=-1866.240) r2: (test=-2.940) total time=   0.0s\n",
            "[CV 1/5] END learning_rate=0.01, max_depth=20, n_estimators=50; neg_mean_squared_error: (test=-965.156) r2: (test=-0.776) total time=   0.0s\n",
            "[CV 2/5] END learning_rate=0.01, max_depth=20, n_estimators=50; neg_mean_squared_error: (test=-768.560) r2: (test=-0.708) total time=   0.0s\n",
            "[CV 3/5] END learning_rate=0.01, max_depth=20, n_estimators=50; neg_mean_squared_error: (test=-880.132) r2: (test=-1.274) total time=   0.0s\n",
            "[CV 4/5] END learning_rate=0.01, max_depth=20, n_estimators=50; neg_mean_squared_error: (test=-868.211) r2: (test=-0.787) total time=   0.0s\n",
            "[CV 5/5] END learning_rate=0.01, max_depth=20, n_estimators=50; neg_mean_squared_error: (test=-926.479) r2: (test=-0.956) total time=   0.0s\n",
            "[CV 1/5] END learning_rate=0.01, max_depth=20, n_estimators=100; neg_mean_squared_error: (test=-394.707) r2: (test=0.274) total time=   0.1s\n",
            "[CV 2/5] END learning_rate=0.01, max_depth=20, n_estimators=100; neg_mean_squared_error: (test=-310.722) r2: (test=0.310) total time=   0.1s\n",
            "[CV 3/5] END learning_rate=0.01, max_depth=20, n_estimators=100; neg_mean_squared_error: (test=-352.267) r2: (test=0.090) total time=   0.1s\n",
            "[CV 4/5] END learning_rate=0.01, max_depth=20, n_estimators=100; neg_mean_squared_error: (test=-352.831) r2: (test=0.274) total time=   0.1s\n",
            "[CV 5/5] END learning_rate=0.01, max_depth=20, n_estimators=100; neg_mean_squared_error: (test=-415.407) r2: (test=0.123) total time=   0.1s\n",
            "[CV 1/5] END learning_rate=0.01, max_depth=20, n_estimators=200; neg_mean_squared_error: (test=-75.991) r2: (test=0.860) total time=   0.2s\n",
            "[CV 2/5] END learning_rate=0.01, max_depth=20, n_estimators=200; neg_mean_squared_error: (test=-66.801) r2: (test=0.852) total time=   0.2s\n",
            "[CV 3/5] END learning_rate=0.01, max_depth=20, n_estimators=200; neg_mean_squared_error: (test=-67.039) r2: (test=0.827) total time=   0.2s\n",
            "[CV 4/5] END learning_rate=0.01, max_depth=20, n_estimators=200; neg_mean_squared_error: (test=-74.111) r2: (test=0.847) total time=   0.2s\n",
            "[CV 5/5] END learning_rate=0.01, max_depth=20, n_estimators=200; neg_mean_squared_error: (test=-112.775) r2: (test=0.762) total time=   0.2s\n",
            "[CV 1/5] END learning_rate=0.001, max_depth=3, n_estimators=10; neg_mean_squared_error: (test=-2389.068) r2: (test=-3.396) total time=   0.0s\n",
            "[CV 2/5] END learning_rate=0.001, max_depth=3, n_estimators=10; neg_mean_squared_error: (test=-1983.158) r2: (test=-3.407) total time=   0.0s\n",
            "[CV 3/5] END learning_rate=0.001, max_depth=3, n_estimators=10; neg_mean_squared_error: (test=-2235.621) r2: (test=-4.776) total time=   0.0s\n",
            "[CV 4/5] END learning_rate=0.001, max_depth=3, n_estimators=10; neg_mean_squared_error: (test=-2136.859) r2: (test=-3.398) total time=   0.0s\n",
            "[CV 5/5] END learning_rate=0.001, max_depth=3, n_estimators=10; neg_mean_squared_error: (test=-2199.004) r2: (test=-3.642) total time=   0.0s\n",
            "[CV 1/5] END learning_rate=0.001, max_depth=3, n_estimators=50; neg_mean_squared_error: (test=-2218.610) r2: (test=-3.082) total time=   0.0s\n",
            "[CV 2/5] END learning_rate=0.001, max_depth=3, n_estimators=50; neg_mean_squared_error: (test=-1836.075) r2: (test=-3.080) total time=   0.0s\n",
            "[CV 3/5] END learning_rate=0.001, max_depth=3, n_estimators=50; neg_mean_squared_error: (test=-2070.637) r2: (test=-4.350) total time=   0.0s\n",
            "[CV 4/5] END learning_rate=0.001, max_depth=3, n_estimators=50; neg_mean_squared_error: (test=-1985.516) r2: (test=-3.086) total time=   0.0s\n",
            "[CV 5/5] END learning_rate=0.001, max_depth=3, n_estimators=50; neg_mean_squared_error: (test=-2047.249) r2: (test=-3.322) total time=   0.0s\n",
            "[CV 1/5] END learning_rate=0.001, max_depth=3, n_estimators=100; neg_mean_squared_error: (test=-2022.593) r2: (test=-2.721) total time=   0.0s\n",
            "[CV 2/5] END learning_rate=0.001, max_depth=3, n_estimators=100; neg_mean_squared_error: (test=-1668.844) r2: (test=-2.709) total time=   0.0s\n",
            "[CV 3/5] END learning_rate=0.001, max_depth=3, n_estimators=100; neg_mean_squared_error: (test=-1881.475) r2: (test=-3.861) total time=   0.0s\n",
            "[CV 4/5] END learning_rate=0.001, max_depth=3, n_estimators=100; neg_mean_squared_error: (test=-1811.884) r2: (test=-2.729) total time=   0.0s\n",
            "[CV 5/5] END learning_rate=0.001, max_depth=3, n_estimators=100; neg_mean_squared_error: (test=-1874.979) r2: (test=-2.958) total time=   0.0s\n",
            "[CV 1/5] END learning_rate=0.001, max_depth=3, n_estimators=200; neg_mean_squared_error: (test=-1679.217) r2: (test=-2.090) total time=   0.1s\n",
            "[CV 2/5] END learning_rate=0.001, max_depth=3, n_estimators=200; neg_mean_squared_error: (test=-1380.238) r2: (test=-2.067) total time=   0.1s\n",
            "[CV 3/5] END learning_rate=0.001, max_depth=3, n_estimators=200; neg_mean_squared_error: (test=-1559.754) r2: (test=-3.030) total time=   0.1s\n",
            "[CV 4/5] END learning_rate=0.001, max_depth=3, n_estimators=200; neg_mean_squared_error: (test=-1510.466) r2: (test=-2.109) total time=   0.1s\n",
            "[CV 5/5] END learning_rate=0.001, max_depth=3, n_estimators=200; neg_mean_squared_error: (test=-1575.267) r2: (test=-2.325) total time=   0.1s\n",
            "[CV 1/5] END learning_rate=0.001, max_depth=5, n_estimators=10; neg_mean_squared_error: (test=-2388.581) r2: (test=-3.395) total time=   0.0s\n",
            "[CV 2/5] END learning_rate=0.001, max_depth=5, n_estimators=10; neg_mean_squared_error: (test=-1982.590) r2: (test=-3.406) total time=   0.0s\n",
            "[CV 3/5] END learning_rate=0.001, max_depth=5, n_estimators=10; neg_mean_squared_error: (test=-2235.948) r2: (test=-4.777) total time=   0.0s\n",
            "[CV 4/5] END learning_rate=0.001, max_depth=5, n_estimators=10; neg_mean_squared_error: (test=-2136.708) r2: (test=-3.397) total time=   0.0s\n",
            "[CV 5/5] END learning_rate=0.001, max_depth=5, n_estimators=10; neg_mean_squared_error: (test=-2198.220) r2: (test=-3.640) total time=   0.0s\n",
            "[CV 1/5] END learning_rate=0.001, max_depth=5, n_estimators=50; neg_mean_squared_error: (test=-2216.754) r2: (test=-3.079) total time=   0.0s\n",
            "[CV 2/5] END learning_rate=0.001, max_depth=5, n_estimators=50; neg_mean_squared_error: (test=-1833.213) r2: (test=-3.074) total time=   0.0s\n",
            "[CV 3/5] END learning_rate=0.001, max_depth=5, n_estimators=50; neg_mean_squared_error: (test=-2071.780) r2: (test=-4.353) total time=   0.0s\n",
            "[CV 4/5] END learning_rate=0.001, max_depth=5, n_estimators=50; neg_mean_squared_error: (test=-1984.558) r2: (test=-3.084) total time=   0.0s\n",
            "[CV 5/5] END learning_rate=0.001, max_depth=5, n_estimators=50; neg_mean_squared_error: (test=-2044.003) r2: (test=-3.315) total time=   0.0s\n",
            "[CV 1/5] END learning_rate=0.001, max_depth=5, n_estimators=100; neg_mean_squared_error: (test=-2019.728) r2: (test=-2.716) total time=   0.1s\n",
            "[CV 2/5] END learning_rate=0.001, max_depth=5, n_estimators=100; neg_mean_squared_error: (test=-1662.645) r2: (test=-2.695) total time=   0.1s\n",
            "[CV 3/5] END learning_rate=0.001, max_depth=5, n_estimators=100; neg_mean_squared_error: (test=-1882.322) r2: (test=-3.863) total time=   0.1s\n",
            "[CV 4/5] END learning_rate=0.001, max_depth=5, n_estimators=100; neg_mean_squared_error: (test=-1810.534) r2: (test=-2.726) total time=   0.1s\n",
            "[CV 5/5] END learning_rate=0.001, max_depth=5, n_estimators=100; neg_mean_squared_error: (test=-1868.323) r2: (test=-2.944) total time=   0.1s\n",
            "[CV 1/5] END learning_rate=0.001, max_depth=5, n_estimators=200; neg_mean_squared_error: (test=-1675.838) r2: (test=-2.083) total time=   0.1s\n",
            "[CV 2/5] END learning_rate=0.001, max_depth=5, n_estimators=200; neg_mean_squared_error: (test=-1367.645) r2: (test=-2.039) total time=   0.1s\n",
            "[CV 3/5] END learning_rate=0.001, max_depth=5, n_estimators=200; neg_mean_squared_error: (test=-1553.780) r2: (test=-3.014) total time=   0.1s\n",
            "[CV 4/5] END learning_rate=0.001, max_depth=5, n_estimators=200; neg_mean_squared_error: (test=-1505.318) r2: (test=-2.098) total time=   0.1s\n",
            "[CV 5/5] END learning_rate=0.001, max_depth=5, n_estimators=200; neg_mean_squared_error: (test=-1562.724) r2: (test=-2.299) total time=   0.1s\n",
            "[CV 1/5] END learning_rate=0.001, max_depth=10, n_estimators=10; neg_mean_squared_error: (test=-2388.581) r2: (test=-3.395) total time=   0.0s\n",
            "[CV 2/5] END learning_rate=0.001, max_depth=10, n_estimators=10; neg_mean_squared_error: (test=-1982.567) r2: (test=-3.406) total time=   0.0s\n",
            "[CV 3/5] END learning_rate=0.001, max_depth=10, n_estimators=10; neg_mean_squared_error: (test=-2235.948) r2: (test=-4.777) total time=   0.0s\n",
            "[CV 4/5] END learning_rate=0.001, max_depth=10, n_estimators=10; neg_mean_squared_error: (test=-2136.708) r2: (test=-3.397) total time=   0.0s\n",
            "[CV 5/5] END learning_rate=0.001, max_depth=10, n_estimators=10; neg_mean_squared_error: (test=-2198.227) r2: (test=-3.640) total time=   0.0s\n",
            "[CV 1/5] END learning_rate=0.001, max_depth=10, n_estimators=50; neg_mean_squared_error: (test=-2216.719) r2: (test=-3.078) total time=   0.0s\n",
            "[CV 2/5] END learning_rate=0.001, max_depth=10, n_estimators=50; neg_mean_squared_error: (test=-1833.105) r2: (test=-3.074) total time=   0.0s\n",
            "[CV 3/5] END learning_rate=0.001, max_depth=10, n_estimators=50; neg_mean_squared_error: (test=-2071.780) r2: (test=-4.353) total time=   0.0s\n",
            "[CV 4/5] END learning_rate=0.001, max_depth=10, n_estimators=50; neg_mean_squared_error: (test=-1984.558) r2: (test=-3.084) total time=   0.0s\n",
            "[CV 5/5] END learning_rate=0.001, max_depth=10, n_estimators=50; neg_mean_squared_error: (test=-2043.957) r2: (test=-3.315) total time=   0.0s\n",
            "[CV 1/5] END learning_rate=0.001, max_depth=10, n_estimators=100; neg_mean_squared_error: (test=-2019.678) r2: (test=-2.716) total time=   0.1s\n",
            "[CV 2/5] END learning_rate=0.001, max_depth=10, n_estimators=100; neg_mean_squared_error: (test=-1662.464) r2: (test=-2.694) total time=   0.1s\n",
            "[CV 3/5] END learning_rate=0.001, max_depth=10, n_estimators=100; neg_mean_squared_error: (test=-1882.610) r2: (test=-3.864) total time=   0.1s\n",
            "[CV 4/5] END learning_rate=0.001, max_depth=10, n_estimators=100; neg_mean_squared_error: (test=-1810.535) r2: (test=-2.726) total time=   0.1s\n",
            "[CV 5/5] END learning_rate=0.001, max_depth=10, n_estimators=100; neg_mean_squared_error: (test=-1868.299) r2: (test=-2.944) total time=   0.1s\n",
            "[CV 1/5] END learning_rate=0.001, max_depth=10, n_estimators=200; neg_mean_squared_error: (test=-1675.788) r2: (test=-2.083) total time=   0.1s\n",
            "[CV 2/5] END learning_rate=0.001, max_depth=10, n_estimators=200; neg_mean_squared_error: (test=-1367.367) r2: (test=-2.039) total time=   0.1s\n",
            "[CV 3/5] END learning_rate=0.001, max_depth=10, n_estimators=200; neg_mean_squared_error: (test=-1554.198) r2: (test=-3.015) total time=   0.1s\n",
            "[CV 4/5] END learning_rate=0.001, max_depth=10, n_estimators=200; neg_mean_squared_error: (test=-1505.202) r2: (test=-2.098) total time=   0.1s\n",
            "[CV 5/5] END learning_rate=0.001, max_depth=10, n_estimators=200; neg_mean_squared_error: (test=-1563.024) r2: (test=-2.300) total time=   0.1s\n",
            "[CV 1/5] END learning_rate=0.001, max_depth=20, n_estimators=10; neg_mean_squared_error: (test=-2388.581) r2: (test=-3.395) total time=   0.0s\n",
            "[CV 2/5] END learning_rate=0.001, max_depth=20, n_estimators=10; neg_mean_squared_error: (test=-1982.567) r2: (test=-3.406) total time=   0.0s\n",
            "[CV 3/5] END learning_rate=0.001, max_depth=20, n_estimators=10; neg_mean_squared_error: (test=-2235.948) r2: (test=-4.777) total time=   0.0s\n",
            "[CV 4/5] END learning_rate=0.001, max_depth=20, n_estimators=10; neg_mean_squared_error: (test=-2136.708) r2: (test=-3.397) total time=   0.0s\n",
            "[CV 5/5] END learning_rate=0.001, max_depth=20, n_estimators=10; neg_mean_squared_error: (test=-2198.227) r2: (test=-3.640) total time=   0.0s\n",
            "[CV 1/5] END learning_rate=0.001, max_depth=20, n_estimators=50; neg_mean_squared_error: (test=-2216.719) r2: (test=-3.078) total time=   0.0s\n",
            "[CV 2/5] END learning_rate=0.001, max_depth=20, n_estimators=50; neg_mean_squared_error: (test=-1833.105) r2: (test=-3.074) total time=   0.0s\n",
            "[CV 3/5] END learning_rate=0.001, max_depth=20, n_estimators=50; neg_mean_squared_error: (test=-2071.780) r2: (test=-4.353) total time=   0.0s\n",
            "[CV 4/5] END learning_rate=0.001, max_depth=20, n_estimators=50; neg_mean_squared_error: (test=-1984.558) r2: (test=-3.084) total time=   0.0s\n",
            "[CV 5/5] END learning_rate=0.001, max_depth=20, n_estimators=50; neg_mean_squared_error: (test=-2043.957) r2: (test=-3.315) total time=   0.0s\n",
            "[CV 1/5] END learning_rate=0.001, max_depth=20, n_estimators=100; neg_mean_squared_error: (test=-2019.678) r2: (test=-2.716) total time=   0.1s\n",
            "[CV 2/5] END learning_rate=0.001, max_depth=20, n_estimators=100; neg_mean_squared_error: (test=-1662.464) r2: (test=-2.694) total time=   0.1s\n",
            "[CV 3/5] END learning_rate=0.001, max_depth=20, n_estimators=100; neg_mean_squared_error: (test=-1882.610) r2: (test=-3.864) total time=   0.1s\n",
            "[CV 4/5] END learning_rate=0.001, max_depth=20, n_estimators=100; neg_mean_squared_error: (test=-1810.535) r2: (test=-2.726) total time=   0.1s\n",
            "[CV 5/5] END learning_rate=0.001, max_depth=20, n_estimators=100; neg_mean_squared_error: (test=-1868.299) r2: (test=-2.944) total time=   0.1s\n",
            "[CV 1/5] END learning_rate=0.001, max_depth=20, n_estimators=200; neg_mean_squared_error: (test=-1675.788) r2: (test=-2.083) total time=   0.1s\n",
            "[CV 2/5] END learning_rate=0.001, max_depth=20, n_estimators=200; neg_mean_squared_error: (test=-1367.367) r2: (test=-2.039) total time=   0.1s\n",
            "[CV 3/5] END learning_rate=0.001, max_depth=20, n_estimators=200; neg_mean_squared_error: (test=-1554.198) r2: (test=-3.015) total time=   0.1s\n",
            "[CV 4/5] END learning_rate=0.001, max_depth=20, n_estimators=200; neg_mean_squared_error: (test=-1505.202) r2: (test=-2.098) total time=   0.1s\n",
            "[CV 5/5] END learning_rate=0.001, max_depth=20, n_estimators=200; neg_mean_squared_error: (test=-1563.024) r2: (test=-2.300) total time=   0.2s\n"
          ]
        },
        {
          "output_type": "execute_result",
          "data": {
            "text/plain": [
              "GridSearchCV(cv=5, estimator=XGBRegressor(objective='reg:squarederror'),\n",
              "             param_grid={'learning_rate': [0.5, 0.1, 0.01, 0.001],\n",
              "                         'max_depth': [3, 5, 10, 20],\n",
              "                         'n_estimators': [10, 50, 100, 200]},\n",
              "             refit='neg_mean_squared_error',\n",
              "             scoring=['r2', 'neg_mean_squared_error'], verbose=3)"
            ]
          },
          "metadata": {},
          "execution_count": 89
        }
      ]
    },
    {
      "cell_type": "code",
      "source": [
        "from sklearn.metrics import mean_squared_error, r2_score\n",
        "y_test_pred  = grid.predict(x_test)\n",
        "rmse = round(np.sqrt(mean_squared_error(y_test,y_test_pred)),2)\n",
        "r2 = round(r2_score(y_test,y_test_pred),2)\n",
        "print(f\"RMSE : {rmse} & r2 :{r2}\")"
      ],
      "metadata": {
        "colab": {
          "base_uri": "https://localhost:8080/"
        },
        "id": "s2YdGGs-RCUq",
        "outputId": "4af93150-3a17-4a4d-f8fd-30b89cc64032"
      },
      "execution_count": 90,
      "outputs": [
        {
          "output_type": "stream",
          "name": "stdout",
          "text": [
            "RMSE : 3.61 & r2 :0.97\n"
          ]
        }
      ]
    },
    {
      "cell_type": "code",
      "source": [
        "grid.best_estimator_"
      ],
      "metadata": {
        "colab": {
          "base_uri": "https://localhost:8080/"
        },
        "id": "lrYqKdtnWVtD",
        "outputId": "3480bdb9-8cf5-4fa0-f39c-afae9b0fd4d3"
      },
      "execution_count": 91,
      "outputs": [
        {
          "output_type": "execute_result",
          "data": {
            "text/plain": [
              "XGBRegressor(max_depth=10, objective='reg:squarederror')"
            ]
          },
          "metadata": {},
          "execution_count": 91
        }
      ]
    },
    {
      "cell_type": "markdown",
      "source": [
        "## Gread Serach CV for Tensile strength"
      ],
      "metadata": {
        "id": "PzypNuuBV3wa"
      }
    },
    {
      "cell_type": "code",
      "source": [
        "x_train, x_test, y_train, y_test = train_test_split(X,y2,test_size=0.2,random_state=28,shuffle=True)"
      ],
      "metadata": {
        "id": "uQkDnoqDWBra"
      },
      "execution_count": 92,
      "outputs": []
    },
    {
      "cell_type": "code",
      "source": [
        "params ={\"learning_rate\" : [ 0.5, 0.1, 0.01, 0.001 ],\n",
        "  \"max_depth\": [ 3, 5, 10, 20 ],\n",
        "  \"n_estimators\" : [ 10, 50, 100, 200 ]\n",
        "}\n",
        "xgr = XGBRegressor(objective='reg:squarederror')\n",
        "grid = GridSearchCV(xgr,params,verbose=3,cv=5,scoring=[\"r2\",\"neg_mean_squared_error\"],refit=\"neg_mean_squared_error\")\n",
        "grid.fit(x_train,y_train)"
      ],
      "metadata": {
        "colab": {
          "base_uri": "https://localhost:8080/"
        },
        "id": "e8qLEoSjVjgs",
        "outputId": "00a572c8-099d-4853-f1ed-f4f8647c01e8"
      },
      "execution_count": 93,
      "outputs": [
        {
          "output_type": "stream",
          "name": "stdout",
          "text": [
            "Fitting 5 folds for each of 64 candidates, totalling 320 fits\n",
            "[CV 1/5] END learning_rate=0.5, max_depth=3, n_estimators=10; neg_mean_squared_error: (test=-0.186) r2: (test=0.910) total time=   0.0s\n",
            "[CV 2/5] END learning_rate=0.5, max_depth=3, n_estimators=10; neg_mean_squared_error: (test=-0.162) r2: (test=0.910) total time=   0.0s\n",
            "[CV 3/5] END learning_rate=0.5, max_depth=3, n_estimators=10; neg_mean_squared_error: (test=-0.202) r2: (test=0.864) total time=   0.0s\n",
            "[CV 4/5] END learning_rate=0.5, max_depth=3, n_estimators=10; neg_mean_squared_error: (test=-0.198) r2: (test=0.893) total time=   0.0s\n",
            "[CV 5/5] END learning_rate=0.5, max_depth=3, n_estimators=10; neg_mean_squared_error: (test=-0.155) r2: (test=0.911) total time=   0.0s\n",
            "[CV 1/5] END learning_rate=0.5, max_depth=3, n_estimators=50; neg_mean_squared_error: (test=-0.170) r2: (test=0.918) total time=   0.0s\n",
            "[CV 2/5] END learning_rate=0.5, max_depth=3, n_estimators=50; neg_mean_squared_error: (test=-0.131) r2: (test=0.928) total time=   0.0s\n",
            "[CV 3/5] END learning_rate=0.5, max_depth=3, n_estimators=50; neg_mean_squared_error: (test=-0.179) r2: (test=0.879) total time=   0.0s\n",
            "[CV 4/5] END learning_rate=0.5, max_depth=3, n_estimators=50; neg_mean_squared_error: (test=-0.135) r2: (test=0.927) total time=   0.0s\n",
            "[CV 5/5] END learning_rate=0.5, max_depth=3, n_estimators=50; neg_mean_squared_error: (test=-0.138) r2: (test=0.920) total time=   0.0s\n",
            "[CV 1/5] END learning_rate=0.5, max_depth=3, n_estimators=100; neg_mean_squared_error: (test=-0.163) r2: (test=0.921) total time=   0.0s\n",
            "[CV 2/5] END learning_rate=0.5, max_depth=3, n_estimators=100; neg_mean_squared_error: (test=-0.129) r2: (test=0.929) total time=   0.0s\n",
            "[CV 3/5] END learning_rate=0.5, max_depth=3, n_estimators=100; neg_mean_squared_error: (test=-0.165) r2: (test=0.888) total time=   0.0s\n",
            "[CV 4/5] END learning_rate=0.5, max_depth=3, n_estimators=100; neg_mean_squared_error: (test=-0.133) r2: (test=0.928) total time=   0.0s\n",
            "[CV 5/5] END learning_rate=0.5, max_depth=3, n_estimators=100; neg_mean_squared_error: (test=-0.152) r2: (test=0.912) total time=   0.0s\n",
            "[CV 1/5] END learning_rate=0.5, max_depth=3, n_estimators=200; neg_mean_squared_error: (test=-0.161) r2: (test=0.922) total time=   0.1s\n",
            "[CV 2/5] END learning_rate=0.5, max_depth=3, n_estimators=200; neg_mean_squared_error: (test=-0.128) r2: (test=0.929) total time=   0.1s\n",
            "[CV 3/5] END learning_rate=0.5, max_depth=3, n_estimators=200; neg_mean_squared_error: (test=-0.167) r2: (test=0.888) total time=   0.1s\n",
            "[CV 4/5] END learning_rate=0.5, max_depth=3, n_estimators=200; neg_mean_squared_error: (test=-0.140) r2: (test=0.924) total time=   0.1s\n",
            "[CV 5/5] END learning_rate=0.5, max_depth=3, n_estimators=200; neg_mean_squared_error: (test=-0.154) r2: (test=0.911) total time=   0.1s\n",
            "[CV 1/5] END learning_rate=0.5, max_depth=5, n_estimators=10; neg_mean_squared_error: (test=-0.124) r2: (test=0.940) total time=   0.0s\n",
            "[CV 2/5] END learning_rate=0.5, max_depth=5, n_estimators=10; neg_mean_squared_error: (test=-0.136) r2: (test=0.925) total time=   0.0s\n",
            "[CV 3/5] END learning_rate=0.5, max_depth=5, n_estimators=10; neg_mean_squared_error: (test=-0.207) r2: (test=0.860) total time=   0.0s\n",
            "[CV 4/5] END learning_rate=0.5, max_depth=5, n_estimators=10; neg_mean_squared_error: (test=-0.181) r2: (test=0.902) total time=   0.0s\n",
            "[CV 5/5] END learning_rate=0.5, max_depth=5, n_estimators=10; neg_mean_squared_error: (test=-0.123) r2: (test=0.929) total time=   0.0s\n",
            "[CV 1/5] END learning_rate=0.5, max_depth=5, n_estimators=50; neg_mean_squared_error: (test=-0.133) r2: (test=0.936) total time=   0.0s\n",
            "[CV 2/5] END learning_rate=0.5, max_depth=5, n_estimators=50; neg_mean_squared_error: (test=-0.101) r2: (test=0.944) total time=   0.0s\n",
            "[CV 3/5] END learning_rate=0.5, max_depth=5, n_estimators=50; neg_mean_squared_error: (test=-0.200) r2: (test=0.865) total time=   0.0s\n",
            "[CV 4/5] END learning_rate=0.5, max_depth=5, n_estimators=50; neg_mean_squared_error: (test=-0.146) r2: (test=0.921) total time=   0.0s\n",
            "[CV 5/5] END learning_rate=0.5, max_depth=5, n_estimators=50; neg_mean_squared_error: (test=-0.125) r2: (test=0.928) total time=   0.0s\n",
            "[CV 1/5] END learning_rate=0.5, max_depth=5, n_estimators=100; neg_mean_squared_error: (test=-0.134) r2: (test=0.935) total time=   0.1s\n",
            "[CV 2/5] END learning_rate=0.5, max_depth=5, n_estimators=100; neg_mean_squared_error: (test=-0.105) r2: (test=0.942) total time=   0.1s\n",
            "[CV 3/5] END learning_rate=0.5, max_depth=5, n_estimators=100; neg_mean_squared_error: (test=-0.199) r2: (test=0.866) total time=   0.1s\n",
            "[CV 4/5] END learning_rate=0.5, max_depth=5, n_estimators=100; neg_mean_squared_error: (test=-0.149) r2: (test=0.919) total time=   0.1s\n",
            "[CV 5/5] END learning_rate=0.5, max_depth=5, n_estimators=100; neg_mean_squared_error: (test=-0.127) r2: (test=0.927) total time=   0.1s\n",
            "[CV 1/5] END learning_rate=0.5, max_depth=5, n_estimators=200; neg_mean_squared_error: (test=-0.135) r2: (test=0.935) total time=   0.1s\n",
            "[CV 2/5] END learning_rate=0.5, max_depth=5, n_estimators=200; neg_mean_squared_error: (test=-0.107) r2: (test=0.941) total time=   0.1s\n",
            "[CV 3/5] END learning_rate=0.5, max_depth=5, n_estimators=200; neg_mean_squared_error: (test=-0.198) r2: (test=0.866) total time=   0.1s\n",
            "[CV 4/5] END learning_rate=0.5, max_depth=5, n_estimators=200; neg_mean_squared_error: (test=-0.150) r2: (test=0.919) total time=   0.1s\n",
            "[CV 5/5] END learning_rate=0.5, max_depth=5, n_estimators=200; neg_mean_squared_error: (test=-0.126) r2: (test=0.927) total time=   0.1s\n",
            "[CV 1/5] END learning_rate=0.5, max_depth=10, n_estimators=10; neg_mean_squared_error: (test=-0.135) r2: (test=0.935) total time=   0.0s\n",
            "[CV 2/5] END learning_rate=0.5, max_depth=10, n_estimators=10; neg_mean_squared_error: (test=-0.096) r2: (test=0.947) total time=   0.0s\n",
            "[CV 3/5] END learning_rate=0.5, max_depth=10, n_estimators=10; neg_mean_squared_error: (test=-0.162) r2: (test=0.891) total time=   0.0s\n",
            "[CV 4/5] END learning_rate=0.5, max_depth=10, n_estimators=10; neg_mean_squared_error: (test=-0.129) r2: (test=0.930) total time=   0.0s\n",
            "[CV 5/5] END learning_rate=0.5, max_depth=10, n_estimators=10; neg_mean_squared_error: (test=-0.113) r2: (test=0.935) total time=   0.0s\n",
            "[CV 1/5] END learning_rate=0.5, max_depth=10, n_estimators=50; neg_mean_squared_error: (test=-0.148) r2: (test=0.928) total time=   0.1s\n",
            "[CV 2/5] END learning_rate=0.5, max_depth=10, n_estimators=50; neg_mean_squared_error: (test=-0.092) r2: (test=0.949) total time=   0.1s\n",
            "[CV 3/5] END learning_rate=0.5, max_depth=10, n_estimators=50; neg_mean_squared_error: (test=-0.165) r2: (test=0.889) total time=   0.1s\n",
            "[CV 4/5] END learning_rate=0.5, max_depth=10, n_estimators=50; neg_mean_squared_error: (test=-0.125) r2: (test=0.932) total time=   0.1s\n",
            "[CV 5/5] END learning_rate=0.5, max_depth=10, n_estimators=50; neg_mean_squared_error: (test=-0.111) r2: (test=0.936) total time=   0.1s\n",
            "[CV 1/5] END learning_rate=0.5, max_depth=10, n_estimators=100; neg_mean_squared_error: (test=-0.148) r2: (test=0.928) total time=   0.1s\n",
            "[CV 2/5] END learning_rate=0.5, max_depth=10, n_estimators=100; neg_mean_squared_error: (test=-0.092) r2: (test=0.949) total time=   0.1s\n",
            "[CV 3/5] END learning_rate=0.5, max_depth=10, n_estimators=100; neg_mean_squared_error: (test=-0.165) r2: (test=0.889) total time=   0.1s\n",
            "[CV 4/5] END learning_rate=0.5, max_depth=10, n_estimators=100; neg_mean_squared_error: (test=-0.125) r2: (test=0.932) total time=   0.1s\n",
            "[CV 5/5] END learning_rate=0.5, max_depth=10, n_estimators=100; neg_mean_squared_error: (test=-0.111) r2: (test=0.936) total time=   0.1s\n",
            "[CV 1/5] END learning_rate=0.5, max_depth=10, n_estimators=200; neg_mean_squared_error: (test=-0.148) r2: (test=0.928) total time=   0.1s\n",
            "[CV 2/5] END learning_rate=0.5, max_depth=10, n_estimators=200; neg_mean_squared_error: (test=-0.092) r2: (test=0.949) total time=   0.1s\n",
            "[CV 3/5] END learning_rate=0.5, max_depth=10, n_estimators=200; neg_mean_squared_error: (test=-0.165) r2: (test=0.889) total time=   0.1s\n",
            "[CV 4/5] END learning_rate=0.5, max_depth=10, n_estimators=200; neg_mean_squared_error: (test=-0.125) r2: (test=0.932) total time=   0.1s\n",
            "[CV 5/5] END learning_rate=0.5, max_depth=10, n_estimators=200; neg_mean_squared_error: (test=-0.111) r2: (test=0.936) total time=   0.1s\n",
            "[CV 1/5] END learning_rate=0.5, max_depth=20, n_estimators=10; neg_mean_squared_error: (test=-0.141) r2: (test=0.932) total time=   0.0s\n",
            "[CV 2/5] END learning_rate=0.5, max_depth=20, n_estimators=10; neg_mean_squared_error: (test=-0.107) r2: (test=0.941) total time=   0.0s\n",
            "[CV 3/5] END learning_rate=0.5, max_depth=20, n_estimators=10; neg_mean_squared_error: (test=-0.168) r2: (test=0.887) total time=   0.0s\n",
            "[CV 4/5] END learning_rate=0.5, max_depth=20, n_estimators=10; neg_mean_squared_error: (test=-0.165) r2: (test=0.911) total time=   0.0s\n",
            "[CV 5/5] END learning_rate=0.5, max_depth=20, n_estimators=10; neg_mean_squared_error: (test=-0.151) r2: (test=0.913) total time=   0.0s\n",
            "[CV 1/5] END learning_rate=0.5, max_depth=20, n_estimators=50; neg_mean_squared_error: (test=-0.147) r2: (test=0.929) total time=   0.1s\n",
            "[CV 2/5] END learning_rate=0.5, max_depth=20, n_estimators=50; neg_mean_squared_error: (test=-0.105) r2: (test=0.942) total time=   0.1s\n",
            "[CV 3/5] END learning_rate=0.5, max_depth=20, n_estimators=50; neg_mean_squared_error: (test=-0.169) r2: (test=0.886) total time=   0.1s\n",
            "[CV 4/5] END learning_rate=0.5, max_depth=20, n_estimators=50; neg_mean_squared_error: (test=-0.165) r2: (test=0.911) total time=   0.1s\n",
            "[CV 5/5] END learning_rate=0.5, max_depth=20, n_estimators=50; neg_mean_squared_error: (test=-0.151) r2: (test=0.913) total time=   0.1s\n",
            "[CV 1/5] END learning_rate=0.5, max_depth=20, n_estimators=100; neg_mean_squared_error: (test=-0.147) r2: (test=0.929) total time=   0.1s\n",
            "[CV 2/5] END learning_rate=0.5, max_depth=20, n_estimators=100; neg_mean_squared_error: (test=-0.105) r2: (test=0.942) total time=   0.1s\n",
            "[CV 3/5] END learning_rate=0.5, max_depth=20, n_estimators=100; neg_mean_squared_error: (test=-0.169) r2: (test=0.886) total time=   0.1s\n",
            "[CV 4/5] END learning_rate=0.5, max_depth=20, n_estimators=100; neg_mean_squared_error: (test=-0.165) r2: (test=0.911) total time=   0.1s\n",
            "[CV 5/5] END learning_rate=0.5, max_depth=20, n_estimators=100; neg_mean_squared_error: (test=-0.151) r2: (test=0.913) total time=   0.1s\n",
            "[CV 1/5] END learning_rate=0.5, max_depth=20, n_estimators=200; neg_mean_squared_error: (test=-0.147) r2: (test=0.929) total time=   0.1s\n",
            "[CV 2/5] END learning_rate=0.5, max_depth=20, n_estimators=200; neg_mean_squared_error: (test=-0.105) r2: (test=0.942) total time=   0.1s\n",
            "[CV 3/5] END learning_rate=0.5, max_depth=20, n_estimators=200; neg_mean_squared_error: (test=-0.169) r2: (test=0.886) total time=   0.1s\n",
            "[CV 4/5] END learning_rate=0.5, max_depth=20, n_estimators=200; neg_mean_squared_error: (test=-0.165) r2: (test=0.911) total time=   0.1s\n",
            "[CV 5/5] END learning_rate=0.5, max_depth=20, n_estimators=200; neg_mean_squared_error: (test=-0.151) r2: (test=0.913) total time=   0.1s\n",
            "[CV 1/5] END learning_rate=0.1, max_depth=3, n_estimators=10; neg_mean_squared_error: (test=-1.423) r2: (test=0.311) total time=   0.0s\n",
            "[CV 2/5] END learning_rate=0.1, max_depth=3, n_estimators=10; neg_mean_squared_error: (test=-1.269) r2: (test=0.297) total time=   0.0s\n",
            "[CV 3/5] END learning_rate=0.1, max_depth=3, n_estimators=10; neg_mean_squared_error: (test=-1.298) r2: (test=0.124) total time=   0.0s\n",
            "[CV 4/5] END learning_rate=0.1, max_depth=3, n_estimators=10; neg_mean_squared_error: (test=-1.367) r2: (test=0.260) total time=   0.0s\n",
            "[CV 5/5] END learning_rate=0.1, max_depth=3, n_estimators=10; neg_mean_squared_error: (test=-1.283) r2: (test=0.260) total time=   0.0s\n",
            "[CV 1/5] END learning_rate=0.1, max_depth=3, n_estimators=50; neg_mean_squared_error: (test=-0.142) r2: (test=0.931) total time=   0.0s\n",
            "[CV 2/5] END learning_rate=0.1, max_depth=3, n_estimators=50; neg_mean_squared_error: (test=-0.170) r2: (test=0.906) total time=   0.0s\n",
            "[CV 3/5] END learning_rate=0.1, max_depth=3, n_estimators=50; neg_mean_squared_error: (test=-0.197) r2: (test=0.867) total time=   0.0s\n",
            "[CV 4/5] END learning_rate=0.1, max_depth=3, n_estimators=50; neg_mean_squared_error: (test=-0.161) r2: (test=0.913) total time=   0.0s\n",
            "[CV 5/5] END learning_rate=0.1, max_depth=3, n_estimators=50; neg_mean_squared_error: (test=-0.126) r2: (test=0.927) total time=   0.0s\n",
            "[CV 1/5] END learning_rate=0.1, max_depth=3, n_estimators=100; neg_mean_squared_error: (test=-0.131) r2: (test=0.937) total time=   0.0s\n",
            "[CV 2/5] END learning_rate=0.1, max_depth=3, n_estimators=100; neg_mean_squared_error: (test=-0.135) r2: (test=0.925) total time=   0.0s\n",
            "[CV 3/5] END learning_rate=0.1, max_depth=3, n_estimators=100; neg_mean_squared_error: (test=-0.198) r2: (test=0.867) total time=   0.0s\n",
            "[CV 4/5] END learning_rate=0.1, max_depth=3, n_estimators=100; neg_mean_squared_error: (test=-0.137) r2: (test=0.926) total time=   0.0s\n",
            "[CV 5/5] END learning_rate=0.1, max_depth=3, n_estimators=100; neg_mean_squared_error: (test=-0.108) r2: (test=0.937) total time=   0.0s\n",
            "[CV 1/5] END learning_rate=0.1, max_depth=3, n_estimators=200; neg_mean_squared_error: (test=-0.132) r2: (test=0.936) total time=   0.1s\n",
            "[CV 2/5] END learning_rate=0.1, max_depth=3, n_estimators=200; neg_mean_squared_error: (test=-0.108) r2: (test=0.940) total time=   0.1s\n",
            "[CV 3/5] END learning_rate=0.1, max_depth=3, n_estimators=200; neg_mean_squared_error: (test=-0.185) r2: (test=0.875) total time=   0.1s\n",
            "[CV 4/5] END learning_rate=0.1, max_depth=3, n_estimators=200; neg_mean_squared_error: (test=-0.114) r2: (test=0.938) total time=   0.1s\n",
            "[CV 5/5] END learning_rate=0.1, max_depth=3, n_estimators=200; neg_mean_squared_error: (test=-0.099) r2: (test=0.943) total time=   0.1s\n",
            "[CV 1/5] END learning_rate=0.1, max_depth=5, n_estimators=10; neg_mean_squared_error: (test=-1.281) r2: (test=0.380) total time=   0.0s\n",
            "[CV 2/5] END learning_rate=0.1, max_depth=5, n_estimators=10; neg_mean_squared_error: (test=-1.230) r2: (test=0.318) total time=   0.0s\n",
            "[CV 3/5] END learning_rate=0.1, max_depth=5, n_estimators=10; neg_mean_squared_error: (test=-1.196) r2: (test=0.193) total time=   0.0s\n",
            "[CV 4/5] END learning_rate=0.1, max_depth=5, n_estimators=10; neg_mean_squared_error: (test=-1.342) r2: (test=0.273) total time=   0.0s\n",
            "[CV 5/5] END learning_rate=0.1, max_depth=5, n_estimators=10; neg_mean_squared_error: (test=-1.185) r2: (test=0.317) total time=   0.0s\n",
            "[CV 1/5] END learning_rate=0.1, max_depth=5, n_estimators=50; neg_mean_squared_error: (test=-0.114) r2: (test=0.945) total time=   0.0s\n",
            "[CV 2/5] END learning_rate=0.1, max_depth=5, n_estimators=50; neg_mean_squared_error: (test=-0.140) r2: (test=0.922) total time=   0.0s\n",
            "[CV 3/5] END learning_rate=0.1, max_depth=5, n_estimators=50; neg_mean_squared_error: (test=-0.148) r2: (test=0.900) total time=   0.0s\n",
            "[CV 4/5] END learning_rate=0.1, max_depth=5, n_estimators=50; neg_mean_squared_error: (test=-0.133) r2: (test=0.928) total time=   0.0s\n",
            "[CV 5/5] END learning_rate=0.1, max_depth=5, n_estimators=50; neg_mean_squared_error: (test=-0.130) r2: (test=0.925) total time=   0.0s\n",
            "[CV 1/5] END learning_rate=0.1, max_depth=5, n_estimators=100; neg_mean_squared_error: (test=-0.125) r2: (test=0.940) total time=   0.1s\n",
            "[CV 2/5] END learning_rate=0.1, max_depth=5, n_estimators=100; neg_mean_squared_error: (test=-0.120) r2: (test=0.934) total time=   0.1s\n",
            "[CV 3/5] END learning_rate=0.1, max_depth=5, n_estimators=100; neg_mean_squared_error: (test=-0.143) r2: (test=0.904) total time=   0.1s\n",
            "[CV 4/5] END learning_rate=0.1, max_depth=5, n_estimators=100; neg_mean_squared_error: (test=-0.123) r2: (test=0.934) total time=   0.1s\n",
            "[CV 5/5] END learning_rate=0.1, max_depth=5, n_estimators=100; neg_mean_squared_error: (test=-0.123) r2: (test=0.929) total time=   0.1s\n",
            "[CV 1/5] END learning_rate=0.1, max_depth=5, n_estimators=200; neg_mean_squared_error: (test=-0.125) r2: (test=0.940) total time=   0.1s\n",
            "[CV 2/5] END learning_rate=0.1, max_depth=5, n_estimators=200; neg_mean_squared_error: (test=-0.115) r2: (test=0.937) total time=   0.1s\n",
            "[CV 3/5] END learning_rate=0.1, max_depth=5, n_estimators=200; neg_mean_squared_error: (test=-0.141) r2: (test=0.905) total time=   0.1s\n",
            "[CV 4/5] END learning_rate=0.1, max_depth=5, n_estimators=200; neg_mean_squared_error: (test=-0.121) r2: (test=0.934) total time=   0.1s\n",
            "[CV 5/5] END learning_rate=0.1, max_depth=5, n_estimators=200; neg_mean_squared_error: (test=-0.123) r2: (test=0.929) total time=   0.1s\n",
            "[CV 1/5] END learning_rate=0.1, max_depth=10, n_estimators=10; neg_mean_squared_error: (test=-1.290) r2: (test=0.376) total time=   0.0s\n",
            "[CV 2/5] END learning_rate=0.1, max_depth=10, n_estimators=10; neg_mean_squared_error: (test=-1.201) r2: (test=0.335) total time=   0.0s\n",
            "[CV 3/5] END learning_rate=0.1, max_depth=10, n_estimators=10; neg_mean_squared_error: (test=-1.179) r2: (test=0.205) total time=   0.0s\n",
            "[CV 4/5] END learning_rate=0.1, max_depth=10, n_estimators=10; neg_mean_squared_error: (test=-1.358) r2: (test=0.265) total time=   0.0s\n",
            "[CV 5/5] END learning_rate=0.1, max_depth=10, n_estimators=10; neg_mean_squared_error: (test=-1.133) r2: (test=0.347) total time=   0.0s\n",
            "[CV 1/5] END learning_rate=0.1, max_depth=10, n_estimators=50; neg_mean_squared_error: (test=-0.135) r2: (test=0.935) total time=   0.1s\n",
            "[CV 2/5] END learning_rate=0.1, max_depth=10, n_estimators=50; neg_mean_squared_error: (test=-0.112) r2: (test=0.938) total time=   0.1s\n",
            "[CV 3/5] END learning_rate=0.1, max_depth=10, n_estimators=50; neg_mean_squared_error: (test=-0.137) r2: (test=0.907) total time=   0.1s\n",
            "[CV 4/5] END learning_rate=0.1, max_depth=10, n_estimators=50; neg_mean_squared_error: (test=-0.149) r2: (test=0.920) total time=   0.1s\n",
            "[CV 5/5] END learning_rate=0.1, max_depth=10, n_estimators=50; neg_mean_squared_error: (test=-0.145) r2: (test=0.917) total time=   0.1s\n",
            "[CV 1/5] END learning_rate=0.1, max_depth=10, n_estimators=100; neg_mean_squared_error: (test=-0.150) r2: (test=0.927) total time=   0.1s\n",
            "[CV 2/5] END learning_rate=0.1, max_depth=10, n_estimators=100; neg_mean_squared_error: (test=-0.107) r2: (test=0.941) total time=   0.1s\n",
            "[CV 3/5] END learning_rate=0.1, max_depth=10, n_estimators=100; neg_mean_squared_error: (test=-0.137) r2: (test=0.908) total time=   0.1s\n",
            "[CV 4/5] END learning_rate=0.1, max_depth=10, n_estimators=100; neg_mean_squared_error: (test=-0.138) r2: (test=0.925) total time=   0.1s\n",
            "[CV 5/5] END learning_rate=0.1, max_depth=10, n_estimators=100; neg_mean_squared_error: (test=-0.141) r2: (test=0.919) total time=   0.1s\n",
            "[CV 1/5] END learning_rate=0.1, max_depth=10, n_estimators=200; neg_mean_squared_error: (test=-0.153) r2: (test=0.926) total time=   0.3s\n",
            "[CV 2/5] END learning_rate=0.1, max_depth=10, n_estimators=200; neg_mean_squared_error: (test=-0.107) r2: (test=0.941) total time=   0.3s\n",
            "[CV 3/5] END learning_rate=0.1, max_depth=10, n_estimators=200; neg_mean_squared_error: (test=-0.137) r2: (test=0.907) total time=   0.2s\n",
            "[CV 4/5] END learning_rate=0.1, max_depth=10, n_estimators=200; neg_mean_squared_error: (test=-0.137) r2: (test=0.926) total time=   0.2s\n",
            "[CV 5/5] END learning_rate=0.1, max_depth=10, n_estimators=200; neg_mean_squared_error: (test=-0.141) r2: (test=0.919) total time=   0.3s\n",
            "[CV 1/5] END learning_rate=0.1, max_depth=20, n_estimators=10; neg_mean_squared_error: (test=-1.290) r2: (test=0.376) total time=   0.0s\n",
            "[CV 2/5] END learning_rate=0.1, max_depth=20, n_estimators=10; neg_mean_squared_error: (test=-1.201) r2: (test=0.335) total time=   0.0s\n",
            "[CV 3/5] END learning_rate=0.1, max_depth=20, n_estimators=10; neg_mean_squared_error: (test=-1.179) r2: (test=0.205) total time=   0.0s\n",
            "[CV 4/5] END learning_rate=0.1, max_depth=20, n_estimators=10; neg_mean_squared_error: (test=-1.358) r2: (test=0.265) total time=   0.0s\n",
            "[CV 5/5] END learning_rate=0.1, max_depth=20, n_estimators=10; neg_mean_squared_error: (test=-1.133) r2: (test=0.347) total time=   0.0s\n",
            "[CV 1/5] END learning_rate=0.1, max_depth=20, n_estimators=50; neg_mean_squared_error: (test=-0.133) r2: (test=0.936) total time=   0.1s\n",
            "[CV 2/5] END learning_rate=0.1, max_depth=20, n_estimators=50; neg_mean_squared_error: (test=-0.114) r2: (test=0.937) total time=   0.1s\n",
            "[CV 3/5] END learning_rate=0.1, max_depth=20, n_estimators=50; neg_mean_squared_error: (test=-0.143) r2: (test=0.903) total time=   0.1s\n",
            "[CV 4/5] END learning_rate=0.1, max_depth=20, n_estimators=50; neg_mean_squared_error: (test=-0.156) r2: (test=0.916) total time=   0.1s\n",
            "[CV 5/5] END learning_rate=0.1, max_depth=20, n_estimators=50; neg_mean_squared_error: (test=-0.139) r2: (test=0.920) total time=   0.1s\n",
            "[CV 1/5] END learning_rate=0.1, max_depth=20, n_estimators=100; neg_mean_squared_error: (test=-0.143) r2: (test=0.931) total time=   0.2s\n",
            "[CV 2/5] END learning_rate=0.1, max_depth=20, n_estimators=100; neg_mean_squared_error: (test=-0.108) r2: (test=0.940) total time=   0.2s\n",
            "[CV 3/5] END learning_rate=0.1, max_depth=20, n_estimators=100; neg_mean_squared_error: (test=-0.147) r2: (test=0.901) total time=   0.2s\n",
            "[CV 4/5] END learning_rate=0.1, max_depth=20, n_estimators=100; neg_mean_squared_error: (test=-0.147) r2: (test=0.921) total time=   0.2s\n",
            "[CV 5/5] END learning_rate=0.1, max_depth=20, n_estimators=100; neg_mean_squared_error: (test=-0.137) r2: (test=0.921) total time=   0.2s\n",
            "[CV 1/5] END learning_rate=0.1, max_depth=20, n_estimators=200; neg_mean_squared_error: (test=-0.143) r2: (test=0.931) total time=   0.3s\n",
            "[CV 2/5] END learning_rate=0.1, max_depth=20, n_estimators=200; neg_mean_squared_error: (test=-0.108) r2: (test=0.940) total time=   0.3s\n",
            "[CV 3/5] END learning_rate=0.1, max_depth=20, n_estimators=200; neg_mean_squared_error: (test=-0.147) r2: (test=0.901) total time=   0.3s\n",
            "[CV 4/5] END learning_rate=0.1, max_depth=20, n_estimators=200; neg_mean_squared_error: (test=-0.147) r2: (test=0.921) total time=   0.3s\n",
            "[CV 5/5] END learning_rate=0.1, max_depth=20, n_estimators=200; neg_mean_squared_error: (test=-0.138) r2: (test=0.921) total time=   0.3s\n",
            "[CV 1/5] END learning_rate=0.01, max_depth=3, n_estimators=10; neg_mean_squared_error: (test=-7.267) r2: (test=-2.518) total time=   0.0s\n",
            "[CV 2/5] END learning_rate=0.01, max_depth=3, n_estimators=10; neg_mean_squared_error: (test=-6.194) r2: (test=-2.432) total time=   0.0s\n",
            "[CV 3/5] END learning_rate=0.01, max_depth=3, n_estimators=10; neg_mean_squared_error: (test=-6.826) r2: (test=-3.607) total time=   0.0s\n",
            "[CV 4/5] END learning_rate=0.01, max_depth=3, n_estimators=10; neg_mean_squared_error: (test=-6.654) r2: (test=-2.603) total time=   0.0s\n",
            "[CV 5/5] END learning_rate=0.01, max_depth=3, n_estimators=10; neg_mean_squared_error: (test=-6.417) r2: (test=-2.700) total time=   0.0s\n",
            "[CV 1/5] END learning_rate=0.01, max_depth=3, n_estimators=50; neg_mean_squared_error: (test=-3.539) r2: (test=-0.713) total time=   0.0s\n",
            "[CV 2/5] END learning_rate=0.01, max_depth=3, n_estimators=50; neg_mean_squared_error: (test=-3.051) r2: (test=-0.691) total time=   0.0s\n",
            "[CV 3/5] END learning_rate=0.01, max_depth=3, n_estimators=50; neg_mean_squared_error: (test=-3.295) r2: (test=-1.223) total time=   0.0s\n",
            "[CV 4/5] END learning_rate=0.01, max_depth=3, n_estimators=50; neg_mean_squared_error: (test=-3.316) r2: (test=-0.796) total time=   0.0s\n",
            "[CV 5/5] END learning_rate=0.01, max_depth=3, n_estimators=50; neg_mean_squared_error: (test=-3.124) r2: (test=-0.801) total time=   0.0s\n",
            "[CV 1/5] END learning_rate=0.01, max_depth=3, n_estimators=100; neg_mean_squared_error: (test=-1.519) r2: (test=0.265) total time=   0.0s\n",
            "[CV 2/5] END learning_rate=0.01, max_depth=3, n_estimators=100; neg_mean_squared_error: (test=-1.364) r2: (test=0.244) total time=   0.0s\n",
            "[CV 3/5] END learning_rate=0.01, max_depth=3, n_estimators=100; neg_mean_squared_error: (test=-1.400) r2: (test=0.055) total time=   0.0s\n",
            "[CV 4/5] END learning_rate=0.01, max_depth=3, n_estimators=100; neg_mean_squared_error: (test=-1.468) r2: (test=0.205) total time=   0.0s\n",
            "[CV 5/5] END learning_rate=0.01, max_depth=3, n_estimators=100; neg_mean_squared_error: (test=-1.382) r2: (test=0.203) total time=   0.0s\n",
            "[CV 1/5] END learning_rate=0.01, max_depth=3, n_estimators=200; neg_mean_squared_error: (test=-0.377) r2: (test=0.818) total time=   0.1s\n",
            "[CV 2/5] END learning_rate=0.01, max_depth=3, n_estimators=200; neg_mean_squared_error: (test=-0.420) r2: (test=0.767) total time=   0.1s\n",
            "[CV 3/5] END learning_rate=0.01, max_depth=3, n_estimators=200; neg_mean_squared_error: (test=-0.378) r2: (test=0.745) total time=   0.1s\n",
            "[CV 4/5] END learning_rate=0.01, max_depth=3, n_estimators=200; neg_mean_squared_error: (test=-0.423) r2: (test=0.771) total time=   0.1s\n",
            "[CV 5/5] END learning_rate=0.01, max_depth=3, n_estimators=200; neg_mean_squared_error: (test=-0.383) r2: (test=0.779) total time=   0.1s\n",
            "[CV 1/5] END learning_rate=0.01, max_depth=5, n_estimators=10; neg_mean_squared_error: (test=-7.231) r2: (test=-2.501) total time=   0.0s\n",
            "[CV 2/5] END learning_rate=0.01, max_depth=5, n_estimators=10; neg_mean_squared_error: (test=-6.176) r2: (test=-2.423) total time=   0.0s\n",
            "[CV 3/5] END learning_rate=0.01, max_depth=5, n_estimators=10; neg_mean_squared_error: (test=-6.780) r2: (test=-3.576) total time=   0.0s\n",
            "[CV 4/5] END learning_rate=0.01, max_depth=5, n_estimators=10; neg_mean_squared_error: (test=-6.645) r2: (test=-2.598) total time=   0.0s\n",
            "[CV 5/5] END learning_rate=0.01, max_depth=5, n_estimators=10; neg_mean_squared_error: (test=-6.398) r2: (test=-2.688) total time=   0.0s\n",
            "[CV 1/5] END learning_rate=0.01, max_depth=5, n_estimators=50; neg_mean_squared_error: (test=-3.461) r2: (test=-0.676) total time=   0.0s\n",
            "[CV 2/5] END learning_rate=0.01, max_depth=5, n_estimators=50; neg_mean_squared_error: (test=-3.028) r2: (test=-0.678) total time=   0.0s\n",
            "[CV 3/5] END learning_rate=0.01, max_depth=5, n_estimators=50; neg_mean_squared_error: (test=-3.174) r2: (test=-1.142) total time=   0.0s\n",
            "[CV 4/5] END learning_rate=0.01, max_depth=5, n_estimators=50; neg_mean_squared_error: (test=-3.299) r2: (test=-0.787) total time=   0.0s\n",
            "[CV 5/5] END learning_rate=0.01, max_depth=5, n_estimators=50; neg_mean_squared_error: (test=-3.004) r2: (test=-0.732) total time=   0.0s\n",
            "[CV 1/5] END learning_rate=0.01, max_depth=5, n_estimators=100; neg_mean_squared_error: (test=-1.384) r2: (test=0.330) total time=   0.1s\n",
            "[CV 2/5] END learning_rate=0.01, max_depth=5, n_estimators=100; neg_mean_squared_error: (test=-1.321) r2: (test=0.268) total time=   0.1s\n",
            "[CV 3/5] END learning_rate=0.01, max_depth=5, n_estimators=100; neg_mean_squared_error: (test=-1.303) r2: (test=0.121) total time=   0.1s\n",
            "[CV 4/5] END learning_rate=0.01, max_depth=5, n_estimators=100; neg_mean_squared_error: (test=-1.444) r2: (test=0.218) total time=   0.1s\n",
            "[CV 5/5] END learning_rate=0.01, max_depth=5, n_estimators=100; neg_mean_squared_error: (test=-1.270) r2: (test=0.268) total time=   0.1s\n",
            "[CV 1/5] END learning_rate=0.01, max_depth=5, n_estimators=200; neg_mean_squared_error: (test=-0.276) r2: (test=0.866) total time=   0.1s\n",
            "[CV 2/5] END learning_rate=0.01, max_depth=5, n_estimators=200; neg_mean_squared_error: (test=-0.383) r2: (test=0.788) total time=   0.1s\n",
            "[CV 3/5] END learning_rate=0.01, max_depth=5, n_estimators=200; neg_mean_squared_error: (test=-0.307) r2: (test=0.793) total time=   0.1s\n",
            "[CV 4/5] END learning_rate=0.01, max_depth=5, n_estimators=200; neg_mean_squared_error: (test=-0.404) r2: (test=0.781) total time=   0.1s\n",
            "[CV 5/5] END learning_rate=0.01, max_depth=5, n_estimators=200; neg_mean_squared_error: (test=-0.335) r2: (test=0.807) total time=   0.1s\n",
            "[CV 1/5] END learning_rate=0.01, max_depth=10, n_estimators=10; neg_mean_squared_error: (test=-7.237) r2: (test=-2.504) total time=   0.0s\n",
            "[CV 2/5] END learning_rate=0.01, max_depth=10, n_estimators=10; neg_mean_squared_error: (test=-6.172) r2: (test=-2.420) total time=   0.0s\n",
            "[CV 3/5] END learning_rate=0.01, max_depth=10, n_estimators=10; neg_mean_squared_error: (test=-6.782) r2: (test=-3.577) total time=   0.0s\n",
            "[CV 4/5] END learning_rate=0.01, max_depth=10, n_estimators=10; neg_mean_squared_error: (test=-6.639) r2: (test=-2.595) total time=   0.0s\n",
            "[CV 5/5] END learning_rate=0.01, max_depth=10, n_estimators=10; neg_mean_squared_error: (test=-6.398) r2: (test=-2.689) total time=   0.0s\n",
            "[CV 1/5] END learning_rate=0.01, max_depth=10, n_estimators=50; neg_mean_squared_error: (test=-3.477) r2: (test=-0.683) total time=   0.1s\n",
            "[CV 2/5] END learning_rate=0.01, max_depth=10, n_estimators=50; neg_mean_squared_error: (test=-3.016) r2: (test=-0.671) total time=   0.0s\n",
            "[CV 3/5] END learning_rate=0.01, max_depth=10, n_estimators=50; neg_mean_squared_error: (test=-3.165) r2: (test=-1.136) total time=   0.0s\n",
            "[CV 4/5] END learning_rate=0.01, max_depth=10, n_estimators=50; neg_mean_squared_error: (test=-3.305) r2: (test=-0.790) total time=   0.1s\n",
            "[CV 5/5] END learning_rate=0.01, max_depth=10, n_estimators=50; neg_mean_squared_error: (test=-2.985) r2: (test=-0.721) total time=   0.1s\n",
            "[CV 1/5] END learning_rate=0.01, max_depth=10, n_estimators=100; neg_mean_squared_error: (test=-1.395) r2: (test=0.325) total time=   0.1s\n",
            "[CV 2/5] END learning_rate=0.01, max_depth=10, n_estimators=100; neg_mean_squared_error: (test=-1.302) r2: (test=0.278) total time=   0.1s\n",
            "[CV 3/5] END learning_rate=0.01, max_depth=10, n_estimators=100; neg_mean_squared_error: (test=-1.275) r2: (test=0.139) total time=   0.1s\n",
            "[CV 4/5] END learning_rate=0.01, max_depth=10, n_estimators=100; neg_mean_squared_error: (test=-1.460) r2: (test=0.209) total time=   0.1s\n",
            "[CV 5/5] END learning_rate=0.01, max_depth=10, n_estimators=100; neg_mean_squared_error: (test=-1.240) r2: (test=0.285) total time=   0.1s\n",
            "[CV 1/5] END learning_rate=0.01, max_depth=10, n_estimators=200; neg_mean_squared_error: (test=-0.286) r2: (test=0.862) total time=   0.2s\n",
            "[CV 2/5] END learning_rate=0.01, max_depth=10, n_estimators=200; neg_mean_squared_error: (test=-0.342) r2: (test=0.810) total time=   0.2s\n",
            "[CV 3/5] END learning_rate=0.01, max_depth=10, n_estimators=200; neg_mean_squared_error: (test=-0.283) r2: (test=0.809) total time=   0.2s\n",
            "[CV 4/5] END learning_rate=0.01, max_depth=10, n_estimators=200; neg_mean_squared_error: (test=-0.419) r2: (test=0.773) total time=   0.2s\n",
            "[CV 5/5] END learning_rate=0.01, max_depth=10, n_estimators=200; neg_mean_squared_error: (test=-0.338) r2: (test=0.805) total time=   0.2s\n",
            "[CV 1/5] END learning_rate=0.01, max_depth=20, n_estimators=10; neg_mean_squared_error: (test=-7.237) r2: (test=-2.504) total time=   0.0s\n",
            "[CV 2/5] END learning_rate=0.01, max_depth=20, n_estimators=10; neg_mean_squared_error: (test=-6.172) r2: (test=-2.420) total time=   0.0s\n",
            "[CV 3/5] END learning_rate=0.01, max_depth=20, n_estimators=10; neg_mean_squared_error: (test=-6.782) r2: (test=-3.577) total time=   0.0s\n",
            "[CV 4/5] END learning_rate=0.01, max_depth=20, n_estimators=10; neg_mean_squared_error: (test=-6.639) r2: (test=-2.595) total time=   0.0s\n",
            "[CV 5/5] END learning_rate=0.01, max_depth=20, n_estimators=10; neg_mean_squared_error: (test=-6.398) r2: (test=-2.689) total time=   0.0s\n",
            "[CV 1/5] END learning_rate=0.01, max_depth=20, n_estimators=50; neg_mean_squared_error: (test=-3.477) r2: (test=-0.683) total time=   0.1s\n",
            "[CV 2/5] END learning_rate=0.01, max_depth=20, n_estimators=50; neg_mean_squared_error: (test=-3.016) r2: (test=-0.671) total time=   0.0s\n",
            "[CV 3/5] END learning_rate=0.01, max_depth=20, n_estimators=50; neg_mean_squared_error: (test=-3.165) r2: (test=-1.136) total time=   0.1s\n",
            "[CV 4/5] END learning_rate=0.01, max_depth=20, n_estimators=50; neg_mean_squared_error: (test=-3.305) r2: (test=-0.790) total time=   0.0s\n",
            "[CV 5/5] END learning_rate=0.01, max_depth=20, n_estimators=50; neg_mean_squared_error: (test=-2.985) r2: (test=-0.721) total time=   0.0s\n",
            "[CV 1/5] END learning_rate=0.01, max_depth=20, n_estimators=100; neg_mean_squared_error: (test=-1.395) r2: (test=0.325) total time=   0.1s\n",
            "[CV 2/5] END learning_rate=0.01, max_depth=20, n_estimators=100; neg_mean_squared_error: (test=-1.303) r2: (test=0.278) total time=   0.1s\n",
            "[CV 3/5] END learning_rate=0.01, max_depth=20, n_estimators=100; neg_mean_squared_error: (test=-1.275) r2: (test=0.139) total time=   0.1s\n",
            "[CV 4/5] END learning_rate=0.01, max_depth=20, n_estimators=100; neg_mean_squared_error: (test=-1.460) r2: (test=0.209) total time=   0.1s\n",
            "[CV 5/5] END learning_rate=0.01, max_depth=20, n_estimators=100; neg_mean_squared_error: (test=-1.240) r2: (test=0.285) total time=   0.1s\n",
            "[CV 1/5] END learning_rate=0.01, max_depth=20, n_estimators=200; neg_mean_squared_error: (test=-0.286) r2: (test=0.861) total time=   0.2s\n",
            "[CV 2/5] END learning_rate=0.01, max_depth=20, n_estimators=200; neg_mean_squared_error: (test=-0.346) r2: (test=0.809) total time=   0.2s\n",
            "[CV 3/5] END learning_rate=0.01, max_depth=20, n_estimators=200; neg_mean_squared_error: (test=-0.282) r2: (test=0.810) total time=   0.2s\n",
            "[CV 4/5] END learning_rate=0.01, max_depth=20, n_estimators=200; neg_mean_squared_error: (test=-0.420) r2: (test=0.773) total time=   0.2s\n",
            "[CV 5/5] END learning_rate=0.01, max_depth=20, n_estimators=200; neg_mean_squared_error: (test=-0.338) r2: (test=0.805) total time=   0.2s\n",
            "[CV 1/5] END learning_rate=0.001, max_depth=3, n_estimators=10; neg_mean_squared_error: (test=-8.565) r2: (test=-3.147) total time=   0.0s\n",
            "[CV 2/5] END learning_rate=0.001, max_depth=3, n_estimators=10; neg_mean_squared_error: (test=-7.309) r2: (test=-3.050) total time=   0.0s\n",
            "[CV 3/5] END learning_rate=0.001, max_depth=3, n_estimators=10; neg_mean_squared_error: (test=-8.087) r2: (test=-4.458) total time=   0.0s\n",
            "[CV 4/5] END learning_rate=0.001, max_depth=3, n_estimators=10; neg_mean_squared_error: (test=-7.828) r2: (test=-3.239) total time=   0.0s\n",
            "[CV 5/5] END learning_rate=0.001, max_depth=3, n_estimators=10; neg_mean_squared_error: (test=-7.615) r2: (test=-3.390) total time=   0.0s\n",
            "[CV 1/5] END learning_rate=0.001, max_depth=3, n_estimators=50; neg_mean_squared_error: (test=-7.964) r2: (test=-2.856) total time=   0.0s\n",
            "[CV 2/5] END learning_rate=0.001, max_depth=3, n_estimators=50; neg_mean_squared_error: (test=-6.790) r2: (test=-2.763) total time=   0.0s\n",
            "[CV 3/5] END learning_rate=0.001, max_depth=3, n_estimators=50; neg_mean_squared_error: (test=-7.504) r2: (test=-4.064) total time=   0.0s\n",
            "[CV 4/5] END learning_rate=0.001, max_depth=3, n_estimators=50; neg_mean_squared_error: (test=-7.285) r2: (test=-2.945) total time=   0.0s\n",
            "[CV 5/5] END learning_rate=0.001, max_depth=3, n_estimators=50; neg_mean_squared_error: (test=-7.060) r2: (test=-3.070) total time=   0.0s\n",
            "[CV 1/5] END learning_rate=0.001, max_depth=3, n_estimators=100; neg_mean_squared_error: (test=-7.272) r2: (test=-2.521) total time=   0.0s\n",
            "[CV 2/5] END learning_rate=0.001, max_depth=3, n_estimators=100; neg_mean_squared_error: (test=-6.198) r2: (test=-2.435) total time=   0.0s\n",
            "[CV 3/5] END learning_rate=0.001, max_depth=3, n_estimators=100; neg_mean_squared_error: (test=-6.832) r2: (test=-3.611) total time=   0.0s\n",
            "[CV 4/5] END learning_rate=0.001, max_depth=3, n_estimators=100; neg_mean_squared_error: (test=-6.660) r2: (test=-2.606) total time=   0.0s\n",
            "[CV 5/5] END learning_rate=0.001, max_depth=3, n_estimators=100; neg_mean_squared_error: (test=-6.423) r2: (test=-2.703) total time=   0.0s\n",
            "[CV 1/5] END learning_rate=0.001, max_depth=3, n_estimators=200; neg_mean_squared_error: (test=-6.053) r2: (test=-1.931) total time=   0.1s\n",
            "[CV 2/5] END learning_rate=0.001, max_depth=3, n_estimators=200; neg_mean_squared_error: (test=-5.176) r2: (test=-1.868) total time=   0.1s\n",
            "[CV 3/5] END learning_rate=0.001, max_depth=3, n_estimators=200; neg_mean_squared_error: (test=-5.678) r2: (test=-2.832) total time=   0.1s\n",
            "[CV 4/5] END learning_rate=0.001, max_depth=3, n_estimators=200; neg_mean_squared_error: (test=-5.584) r2: (test=-2.024) total time=   0.1s\n",
            "[CV 5/5] END learning_rate=0.001, max_depth=3, n_estimators=200; neg_mean_squared_error: (test=-5.339) r2: (test=-2.078) total time=   0.1s\n",
            "[CV 1/5] END learning_rate=0.001, max_depth=5, n_estimators=10; neg_mean_squared_error: (test=-8.561) r2: (test=-3.145) total time=   0.0s\n",
            "[CV 2/5] END learning_rate=0.001, max_depth=5, n_estimators=10; neg_mean_squared_error: (test=-7.304) r2: (test=-3.048) total time=   0.0s\n",
            "[CV 3/5] END learning_rate=0.001, max_depth=5, n_estimators=10; neg_mean_squared_error: (test=-8.082) r2: (test=-4.454) total time=   0.0s\n",
            "[CV 4/5] END learning_rate=0.001, max_depth=5, n_estimators=10; neg_mean_squared_error: (test=-7.826) r2: (test=-3.238) total time=   0.0s\n",
            "[CV 5/5] END learning_rate=0.001, max_depth=5, n_estimators=10; neg_mean_squared_error: (test=-7.612) r2: (test=-3.388) total time=   0.0s\n",
            "[CV 1/5] END learning_rate=0.001, max_depth=5, n_estimators=50; neg_mean_squared_error: (test=-7.944) r2: (test=-2.846) total time=   0.0s\n",
            "[CV 2/5] END learning_rate=0.001, max_depth=5, n_estimators=50; neg_mean_squared_error: (test=-6.771) r2: (test=-2.752) total time=   0.0s\n",
            "[CV 3/5] END learning_rate=0.001, max_depth=5, n_estimators=50; neg_mean_squared_error: (test=-7.476) r2: (test=-4.045) total time=   0.0s\n",
            "[CV 4/5] END learning_rate=0.001, max_depth=5, n_estimators=50; neg_mean_squared_error: (test=-7.276) r2: (test=-2.940) total time=   0.0s\n",
            "[CV 5/5] END learning_rate=0.001, max_depth=5, n_estimators=50; neg_mean_squared_error: (test=-7.048) r2: (test=-3.063) total time=   0.0s\n",
            "[CV 1/5] END learning_rate=0.001, max_depth=5, n_estimators=100; neg_mean_squared_error: (test=-7.237) r2: (test=-2.504) total time=   0.1s\n",
            "[CV 2/5] END learning_rate=0.001, max_depth=5, n_estimators=100; neg_mean_squared_error: (test=-6.180) r2: (test=-2.425) total time=   0.1s\n",
            "[CV 3/5] END learning_rate=0.001, max_depth=5, n_estimators=100; neg_mean_squared_error: (test=-6.786) r2: (test=-3.580) total time=   0.1s\n",
            "[CV 4/5] END learning_rate=0.001, max_depth=5, n_estimators=100; neg_mean_squared_error: (test=-6.650) r2: (test=-2.601) total time=   0.1s\n",
            "[CV 5/5] END learning_rate=0.001, max_depth=5, n_estimators=100; neg_mean_squared_error: (test=-6.403) r2: (test=-2.691) total time=   0.1s\n",
            "[CV 1/5] END learning_rate=0.001, max_depth=5, n_estimators=200; neg_mean_squared_error: (test=-6.016) r2: (test=-1.913) total time=   0.1s\n",
            "[CV 2/5] END learning_rate=0.001, max_depth=5, n_estimators=200; neg_mean_squared_error: (test=-5.165) r2: (test=-1.862) total time=   0.1s\n",
            "[CV 3/5] END learning_rate=0.001, max_depth=5, n_estimators=200; neg_mean_squared_error: (test=-5.589) r2: (test=-2.772) total time=   0.1s\n",
            "[CV 4/5] END learning_rate=0.001, max_depth=5, n_estimators=200; neg_mean_squared_error: (test=-5.569) r2: (test=-2.016) total time=   0.1s\n",
            "[CV 5/5] END learning_rate=0.001, max_depth=5, n_estimators=200; neg_mean_squared_error: (test=-5.286) r2: (test=-2.048) total time=   0.1s\n",
            "[CV 1/5] END learning_rate=0.001, max_depth=10, n_estimators=10; neg_mean_squared_error: (test=-8.562) r2: (test=-3.145) total time=   0.0s\n",
            "[CV 2/5] END learning_rate=0.001, max_depth=10, n_estimators=10; neg_mean_squared_error: (test=-7.304) r2: (test=-3.047) total time=   0.0s\n",
            "[CV 3/5] END learning_rate=0.001, max_depth=10, n_estimators=10; neg_mean_squared_error: (test=-8.082) r2: (test=-4.454) total time=   0.0s\n",
            "[CV 4/5] END learning_rate=0.001, max_depth=10, n_estimators=10; neg_mean_squared_error: (test=-7.826) r2: (test=-3.238) total time=   0.0s\n",
            "[CV 5/5] END learning_rate=0.001, max_depth=10, n_estimators=10; neg_mean_squared_error: (test=-7.612) r2: (test=-3.389) total time=   0.0s\n",
            "[CV 1/5] END learning_rate=0.001, max_depth=10, n_estimators=50; neg_mean_squared_error: (test=-7.947) r2: (test=-2.847) total time=   0.0s\n",
            "[CV 2/5] END learning_rate=0.001, max_depth=10, n_estimators=50; neg_mean_squared_error: (test=-6.770) r2: (test=-2.751) total time=   0.0s\n",
            "[CV 3/5] END learning_rate=0.001, max_depth=10, n_estimators=50; neg_mean_squared_error: (test=-7.477) r2: (test=-4.046) total time=   0.0s\n",
            "[CV 4/5] END learning_rate=0.001, max_depth=10, n_estimators=50; neg_mean_squared_error: (test=-7.274) r2: (test=-2.939) total time=   0.0s\n",
            "[CV 5/5] END learning_rate=0.001, max_depth=10, n_estimators=50; neg_mean_squared_error: (test=-7.048) r2: (test=-3.063) total time=   0.0s\n",
            "[CV 1/5] END learning_rate=0.001, max_depth=10, n_estimators=100; neg_mean_squared_error: (test=-7.243) r2: (test=-2.506) total time=   0.1s\n",
            "[CV 2/5] END learning_rate=0.001, max_depth=10, n_estimators=100; neg_mean_squared_error: (test=-6.177) r2: (test=-2.423) total time=   0.1s\n",
            "[CV 3/5] END learning_rate=0.001, max_depth=10, n_estimators=100; neg_mean_squared_error: (test=-6.788) r2: (test=-3.581) total time=   0.1s\n",
            "[CV 4/5] END learning_rate=0.001, max_depth=10, n_estimators=100; neg_mean_squared_error: (test=-6.645) r2: (test=-2.598) total time=   0.1s\n",
            "[CV 5/5] END learning_rate=0.001, max_depth=10, n_estimators=100; neg_mean_squared_error: (test=-6.403) r2: (test=-2.691) total time=   0.1s\n",
            "[CV 1/5] END learning_rate=0.001, max_depth=10, n_estimators=200; neg_mean_squared_error: (test=-6.027) r2: (test=-1.918) total time=   0.2s\n",
            "[CV 2/5] END learning_rate=0.001, max_depth=10, n_estimators=200; neg_mean_squared_error: (test=-5.159) r2: (test=-1.859) total time=   0.2s\n",
            "[CV 3/5] END learning_rate=0.001, max_depth=10, n_estimators=200; neg_mean_squared_error: (test=-5.586) r2: (test=-2.770) total time=   0.2s\n",
            "[CV 4/5] END learning_rate=0.001, max_depth=10, n_estimators=200; neg_mean_squared_error: (test=-5.560) r2: (test=-2.011) total time=   0.2s\n",
            "[CV 5/5] END learning_rate=0.001, max_depth=10, n_estimators=200; neg_mean_squared_error: (test=-5.283) r2: (test=-2.046) total time=   0.2s\n",
            "[CV 1/5] END learning_rate=0.001, max_depth=20, n_estimators=10; neg_mean_squared_error: (test=-8.562) r2: (test=-3.145) total time=   0.0s\n",
            "[CV 2/5] END learning_rate=0.001, max_depth=20, n_estimators=10; neg_mean_squared_error: (test=-7.304) r2: (test=-3.047) total time=   0.0s\n",
            "[CV 3/5] END learning_rate=0.001, max_depth=20, n_estimators=10; neg_mean_squared_error: (test=-8.082) r2: (test=-4.454) total time=   0.0s\n",
            "[CV 4/5] END learning_rate=0.001, max_depth=20, n_estimators=10; neg_mean_squared_error: (test=-7.826) r2: (test=-3.238) total time=   0.0s\n",
            "[CV 5/5] END learning_rate=0.001, max_depth=20, n_estimators=10; neg_mean_squared_error: (test=-7.612) r2: (test=-3.389) total time=   0.0s\n",
            "[CV 1/5] END learning_rate=0.001, max_depth=20, n_estimators=50; neg_mean_squared_error: (test=-7.947) r2: (test=-2.847) total time=   0.1s\n",
            "[CV 2/5] END learning_rate=0.001, max_depth=20, n_estimators=50; neg_mean_squared_error: (test=-6.770) r2: (test=-2.751) total time=   0.0s\n",
            "[CV 3/5] END learning_rate=0.001, max_depth=20, n_estimators=50; neg_mean_squared_error: (test=-7.477) r2: (test=-4.046) total time=   0.0s\n",
            "[CV 4/5] END learning_rate=0.001, max_depth=20, n_estimators=50; neg_mean_squared_error: (test=-7.274) r2: (test=-2.939) total time=   0.0s\n",
            "[CV 5/5] END learning_rate=0.001, max_depth=20, n_estimators=50; neg_mean_squared_error: (test=-7.048) r2: (test=-3.063) total time=   0.0s\n",
            "[CV 1/5] END learning_rate=0.001, max_depth=20, n_estimators=100; neg_mean_squared_error: (test=-7.243) r2: (test=-2.506) total time=   0.1s\n",
            "[CV 2/5] END learning_rate=0.001, max_depth=20, n_estimators=100; neg_mean_squared_error: (test=-6.177) r2: (test=-2.423) total time=   0.1s\n",
            "[CV 3/5] END learning_rate=0.001, max_depth=20, n_estimators=100; neg_mean_squared_error: (test=-6.788) r2: (test=-3.581) total time=   0.1s\n",
            "[CV 4/5] END learning_rate=0.001, max_depth=20, n_estimators=100; neg_mean_squared_error: (test=-6.645) r2: (test=-2.598) total time=   0.1s\n",
            "[CV 5/5] END learning_rate=0.001, max_depth=20, n_estimators=100; neg_mean_squared_error: (test=-6.403) r2: (test=-2.691) total time=   0.1s\n",
            "[CV 1/5] END learning_rate=0.001, max_depth=20, n_estimators=200; neg_mean_squared_error: (test=-6.027) r2: (test=-1.918) total time=   0.2s\n",
            "[CV 2/5] END learning_rate=0.001, max_depth=20, n_estimators=200; neg_mean_squared_error: (test=-5.159) r2: (test=-1.859) total time=   0.2s\n",
            "[CV 3/5] END learning_rate=0.001, max_depth=20, n_estimators=200; neg_mean_squared_error: (test=-5.586) r2: (test=-2.770) total time=   0.2s\n",
            "[CV 4/5] END learning_rate=0.001, max_depth=20, n_estimators=200; neg_mean_squared_error: (test=-5.560) r2: (test=-2.011) total time=   0.2s\n",
            "[CV 5/5] END learning_rate=0.001, max_depth=20, n_estimators=200; neg_mean_squared_error: (test=-5.283) r2: (test=-2.046) total time=   0.2s\n"
          ]
        },
        {
          "output_type": "execute_result",
          "data": {
            "text/plain": [
              "GridSearchCV(cv=5, estimator=XGBRegressor(objective='reg:squarederror'),\n",
              "             param_grid={'learning_rate': [0.5, 0.1, 0.01, 0.001],\n",
              "                         'max_depth': [3, 5, 10, 20],\n",
              "                         'n_estimators': [10, 50, 100, 200]},\n",
              "             refit='neg_mean_squared_error',\n",
              "             scoring=['r2', 'neg_mean_squared_error'], verbose=3)"
            ]
          },
          "metadata": {},
          "execution_count": 93
        }
      ]
    },
    {
      "cell_type": "code",
      "source": [
        "from sklearn.metrics import mean_squared_error, r2_score\n",
        "y_test_pred  = grid.predict(x_test)\n",
        "rmse = round(np.sqrt(mean_squared_error(y_test,y_test_pred)),2)\n",
        "r2 = round(r2_score(y_test,y_test_pred),2)\n",
        "print(f\"RMSE : {rmse} & r2 :{r2}\")"
      ],
      "metadata": {
        "colab": {
          "base_uri": "https://localhost:8080/"
        },
        "id": "hP4sMOkVWG9B",
        "outputId": "6adcb637-864a-4e45-e361-523d0b9dbdb7"
      },
      "execution_count": 94,
      "outputs": [
        {
          "output_type": "stream",
          "name": "stdout",
          "text": [
            "RMSE : 0.35 & r2 :0.93\n"
          ]
        }
      ]
    },
    {
      "cell_type": "code",
      "source": [
        "grid.best_estimator_"
      ],
      "metadata": {
        "colab": {
          "base_uri": "https://localhost:8080/"
        },
        "id": "dqCee3XuWKib",
        "outputId": "df126032-9645-4c2b-9131-b7fc8879b70c"
      },
      "execution_count": 95,
      "outputs": [
        {
          "output_type": "execute_result",
          "data": {
            "text/plain": [
              "XGBRegressor(max_depth=5, n_estimators=200, objective='reg:squarederror')"
            ]
          },
          "metadata": {},
          "execution_count": 95
        }
      ]
    },
    {
      "cell_type": "code",
      "source": [],
      "metadata": {
        "id": "qUeK9t3PWSO9"
      },
      "execution_count": null,
      "outputs": []
    }
  ]
}