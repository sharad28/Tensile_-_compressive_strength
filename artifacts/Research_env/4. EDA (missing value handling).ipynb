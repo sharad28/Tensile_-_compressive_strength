{
 "cells": [
  {
   "cell_type": "markdown",
   "id": "745059c9",
   "metadata": {},
   "source": [
    "# Missing Data Handling\n",
    "We can use seaborn to create a simple heatmap to see where we are missng data"
   ]
  },
  {
   "cell_type": "code",
   "execution_count": 19,
   "id": "ffff9a09",
   "metadata": {},
   "outputs": [
    {
     "ename": "ModuleNotFoundError",
     "evalue": "No module named 'sklearn'",
     "output_type": "error",
     "traceback": [
      "\u001b[1;31m---------------------------------------------------------------------------\u001b[0m",
      "\u001b[1;31mModuleNotFoundError\u001b[0m                       Traceback (most recent call last)",
      "\u001b[1;32m~\\AppData\\Local\\Temp/ipykernel_2092/1902537432.py\u001b[0m in \u001b[0;36m<module>\u001b[1;34m\u001b[0m\n\u001b[0;32m      4\u001b[0m \u001b[1;32mimport\u001b[0m \u001b[0mseaborn\u001b[0m \u001b[1;32mas\u001b[0m \u001b[0msns\u001b[0m\u001b[1;33m\u001b[0m\u001b[1;33m\u001b[0m\u001b[0m\n\u001b[0;32m      5\u001b[0m \u001b[1;32mimport\u001b[0m \u001b[0mos\u001b[0m\u001b[1;33m\u001b[0m\u001b[1;33m\u001b[0m\u001b[0m\n\u001b[1;32m----> 6\u001b[1;33m \u001b[1;32mfrom\u001b[0m \u001b[0msklearn\u001b[0m\u001b[1;33m.\u001b[0m\u001b[0mmodel_selection\u001b[0m \u001b[1;32mimport\u001b[0m \u001b[0mtrain_test_split\u001b[0m\u001b[1;33m\u001b[0m\u001b[1;33m\u001b[0m\u001b[0m\n\u001b[0m\u001b[0;32m      7\u001b[0m \u001b[1;33m\u001b[0m\u001b[0m\n\u001b[0;32m      8\u001b[0m \u001b[1;32mfrom\u001b[0m \u001b[0msklearn\u001b[0m\u001b[1;33m.\u001b[0m\u001b[0mimpute\u001b[0m \u001b[1;32mimport\u001b[0m \u001b[0mKNNImputer\u001b[0m\u001b[1;33m,\u001b[0m\u001b[0mSimpleImputer\u001b[0m\u001b[1;33m\u001b[0m\u001b[1;33m\u001b[0m\u001b[0m\n",
      "\u001b[1;31mModuleNotFoundError\u001b[0m: No module named 'sklearn'"
     ]
    }
   ],
   "source": [
    "import pandas as pd\n",
    "import numpy as np\n",
    "import matplotlib.pyplot as plt\n",
    "import seaborn as sns\n",
    "import os\n",
    "from sklearn.model_selection import train_test_split\n",
    "\n",
    "from sklearn.impute import KNNImputer,SimpleImputer\n",
    "from sklearn.linear_model import LogisticRegression\n",
    "\n",
    "from sklearn.metrics import accuracy_score\n",
    "%matplotlib inline\n",
    "\n",
    "\n"
   ]
  },
  {
   "cell_type": "code",
   "execution_count": 18,
   "id": "d80fb35a",
   "metadata": {},
   "outputs": [
    {
     "name": "stdout",
     "output_type": "stream",
     "text": [
      "Note: you may need to restart the kernel to use updated packages.\n"
     ]
    },
    {
     "name": "stderr",
     "output_type": "stream",
     "text": [
      "ERROR: Invalid requirement: 'skleran=0.24.0'\n",
      "Hint: = is not a valid operator. Did you mean == ?\n",
      "WARNING: You are using pip version 21.3.1; however, version 22.0.2 is available.\n",
      "You should consider upgrading via the 'C:\\Users\\sarad\\AppData\\Local\\Programs\\Python\\Python310\\python.exe -m pip install --upgrade pip' command.\n"
     ]
    }
   ],
   "source": [
    "pip install skleran=0.24.0\n"
   ]
  },
  {
   "cell_type": "code",
   "execution_count": null,
   "id": "1ec28a8a",
   "metadata": {},
   "outputs": [],
   "source": [
    "pwd()"
   ]
  },
  {
   "cell_type": "code",
   "execution_count": 10,
   "id": "ca486bc9",
   "metadata": {},
   "outputs": [],
   "source": [
    "train = pd.read_csv('D:\\\\Machine learning concrete\\\\Tensile_compressive_concrete\\\\artifacts\\\\initial_prepared_data\\\\Updated_init_data.csv').drop(columns='Unnamed: 0')"
   ]
  },
  {
   "cell_type": "code",
   "execution_count": 11,
   "id": "500bedc5",
   "metadata": {},
   "outputs": [
    {
     "data": {
      "text/html": [
       "<div>\n",
       "<style scoped>\n",
       "    .dataframe tbody tr th:only-of-type {\n",
       "        vertical-align: middle;\n",
       "    }\n",
       "\n",
       "    .dataframe tbody tr th {\n",
       "        vertical-align: top;\n",
       "    }\n",
       "\n",
       "    .dataframe thead th {\n",
       "        text-align: right;\n",
       "    }\n",
       "</style>\n",
       "<table border=\"1\" class=\"dataframe\">\n",
       "  <thead>\n",
       "    <tr style=\"text-align: right;\">\n",
       "      <th></th>\n",
       "      <th>Compressive strength of cementfce(MPa)</th>\n",
       "      <th>Tensile strength of cementfct(MPa)</th>\n",
       "      <th>Curing age (day)</th>\n",
       "      <th>Dmax of Crushed stone(mm)</th>\n",
       "      <th>Stone powder content in Sand (%)</th>\n",
       "      <th>Fineness modulus of sand</th>\n",
       "      <th>W/B</th>\n",
       "      <th>Water to cement ratio mw/mc</th>\n",
       "      <th>Water(kg/m3)</th>\n",
       "      <th>Sand ratio(%)</th>\n",
       "      <th>Slump(mm)</th>\n",
       "      <th>Compressive strengthfcu,t(MPa)</th>\n",
       "      <th>Splitting tensile strengthfst,t(MPa)</th>\n",
       "    </tr>\n",
       "  </thead>\n",
       "  <tbody>\n",
       "    <tr>\n",
       "      <th>0</th>\n",
       "      <td>46.8</td>\n",
       "      <td>8.0</td>\n",
       "      <td>3</td>\n",
       "      <td>31.5</td>\n",
       "      <td>5.0</td>\n",
       "      <td>3.34</td>\n",
       "      <td>0.56</td>\n",
       "      <td>0.56</td>\n",
       "      <td>180.0</td>\n",
       "      <td>44.0</td>\n",
       "      <td>50.0</td>\n",
       "      <td>32.5</td>\n",
       "      <td>1.18</td>\n",
       "    </tr>\n",
       "    <tr>\n",
       "      <th>1</th>\n",
       "      <td>46.8</td>\n",
       "      <td>8.0</td>\n",
       "      <td>3</td>\n",
       "      <td>31.5</td>\n",
       "      <td>9.0</td>\n",
       "      <td>3.27</td>\n",
       "      <td>0.56</td>\n",
       "      <td>0.56</td>\n",
       "      <td>180.0</td>\n",
       "      <td>44.0</td>\n",
       "      <td>70.0</td>\n",
       "      <td>28.7</td>\n",
       "      <td>1.13</td>\n",
       "    </tr>\n",
       "    <tr>\n",
       "      <th>2</th>\n",
       "      <td>46.8</td>\n",
       "      <td>8.0</td>\n",
       "      <td>3</td>\n",
       "      <td>31.5</td>\n",
       "      <td>13.0</td>\n",
       "      <td>2.77</td>\n",
       "      <td>0.56</td>\n",
       "      <td>0.56</td>\n",
       "      <td>180.0</td>\n",
       "      <td>44.0</td>\n",
       "      <td>50.0</td>\n",
       "      <td>28.5</td>\n",
       "      <td>1.56</td>\n",
       "    </tr>\n",
       "    <tr>\n",
       "      <th>3</th>\n",
       "      <td>46.8</td>\n",
       "      <td>8.0</td>\n",
       "      <td>7</td>\n",
       "      <td>31.5</td>\n",
       "      <td>5.0</td>\n",
       "      <td>3.34</td>\n",
       "      <td>0.56</td>\n",
       "      <td>0.56</td>\n",
       "      <td>180.0</td>\n",
       "      <td>44.0</td>\n",
       "      <td>50.0</td>\n",
       "      <td>33.5</td>\n",
       "      <td>1.39</td>\n",
       "    </tr>\n",
       "    <tr>\n",
       "      <th>4</th>\n",
       "      <td>46.8</td>\n",
       "      <td>8.0</td>\n",
       "      <td>7</td>\n",
       "      <td>31.5</td>\n",
       "      <td>9.0</td>\n",
       "      <td>3.27</td>\n",
       "      <td>0.56</td>\n",
       "      <td>0.56</td>\n",
       "      <td>180.0</td>\n",
       "      <td>44.0</td>\n",
       "      <td>70.0</td>\n",
       "      <td>34.9</td>\n",
       "      <td>1.38</td>\n",
       "    </tr>\n",
       "  </tbody>\n",
       "</table>\n",
       "</div>"
      ],
      "text/plain": [
       "   Compressive strength of cementfce(MPa)  Tensile strength of cementfct(MPa)  \\\n",
       "0                                    46.8                                 8.0   \n",
       "1                                    46.8                                 8.0   \n",
       "2                                    46.8                                 8.0   \n",
       "3                                    46.8                                 8.0   \n",
       "4                                    46.8                                 8.0   \n",
       "\n",
       "   Curing age (day)  Dmax of Crushed stone(mm)  \\\n",
       "0                 3                       31.5   \n",
       "1                 3                       31.5   \n",
       "2                 3                       31.5   \n",
       "3                 7                       31.5   \n",
       "4                 7                       31.5   \n",
       "\n",
       "   Stone powder content in Sand (%)  Fineness modulus of sand    W/B  \\\n",
       "0                               5.0                       3.34  0.56   \n",
       "1                               9.0                       3.27  0.56   \n",
       "2                              13.0                       2.77  0.56   \n",
       "3                               5.0                       3.34  0.56   \n",
       "4                               9.0                       3.27  0.56   \n",
       "\n",
       "   Water to cement ratio mw/mc  Water(kg/m3)  Sand ratio(%)  Slump(mm)  \\\n",
       "0                         0.56         180.0           44.0       50.0   \n",
       "1                         0.56         180.0           44.0       70.0   \n",
       "2                         0.56         180.0           44.0       50.0   \n",
       "3                         0.56         180.0           44.0       50.0   \n",
       "4                         0.56         180.0           44.0       70.0   \n",
       "\n",
       "   Compressive strengthfcu,t(MPa)  Splitting tensile strengthfst,t(MPa)  \n",
       "0                            32.5                                  1.18  \n",
       "1                            28.7                                  1.13  \n",
       "2                            28.5                                  1.56  \n",
       "3                            33.5                                  1.39  \n",
       "4                            34.9                                  1.38  "
      ]
     },
     "execution_count": 11,
     "metadata": {},
     "output_type": "execute_result"
    }
   ],
   "source": [
    "train.head()"
   ]
  },
  {
   "cell_type": "markdown",
   "id": "e6ea139c",
   "metadata": {},
   "source": [
    "## Seeing where missing data is present in dataset using seaborn"
   ]
  },
  {
   "cell_type": "code",
   "execution_count": 15,
   "id": "93c1a716",
   "metadata": {},
   "outputs": [
    {
     "data": {
      "text/plain": [
       "<AxesSubplot:>"
      ]
     },
     "execution_count": 15,
     "metadata": {},
     "output_type": "execute_result"
    },
    {
     "data": {
      "image/png": "[encoded data removed]",
      "text/plain": [
       "<Figure size 432x288 with 1 Axes>"
      ]
     },
     "metadata": {
      "needs_background": "light"
     },
     "output_type": "display_data"
    }
   ],
   "source": [
    "sns.heatmap(train.isnull(),yticklabels=False,cbar=False,cmap='viridis')"
   ]
  },
  {
   "cell_type": "code",
   "execution_count": null,
   "id": "bdb0762a",
   "metadata": {},
   "outputs": [],
   "source": []
  }
 ],
 "metadata": {
  "kernelspec": {
   "display_name": "Python 3 (ipykernel)",
   "language": "python",
   "name": "python3"
  },
  "language_info": {
   "codemirror_mode": {
    "name": "ipython",
    "version": 3
   },
   "file_extension": ".py",
   "mimetype": "text/x-python",
   "name": "python",
   "nbconvert_exporter": "python",
   "pygments_lexer": "ipython3",
   "version": "3.10.0"
  }
 },
 "nbformat": 4,
 "nbformat_minor": 5
}
