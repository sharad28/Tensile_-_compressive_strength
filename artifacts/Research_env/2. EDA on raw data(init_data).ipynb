{
 "cells": [
  {
   "cell_type": "code",
   "execution_count": 1,
   "id": "0f4e8326",
   "metadata": {},
   "outputs": [],
   "source": [
    "import numpy as np\n",
    "import pandas as pd\n",
    "import os\n",
    "import re\n"
   ]
  },
  {
   "cell_type": "code",
   "execution_count": 2,
   "id": "13e02c15",
   "metadata": {},
   "outputs": [
    {
     "name": "stdout",
     "output_type": "stream",
     "text": [
      "D:\\Machine learning concrete\\Tensile_compressive_concrete\\artifacts\\Research_env\n",
      "D:\\Machine learning concrete\\Tensile_compressive_concrete\n"
     ]
    }
   ],
   "source": [
    "directory = os.getcwd() \n",
    "print(directory)\n",
    "os.chdir('D:\\Machine learning concrete\\Tensile_compressive_concrete')\n",
    "directory = os.getcwd() \n",
    "print(directory)"
   ]
  },
  {
   "cell_type": "code",
   "execution_count": 3,
   "id": "16c3d067",
   "metadata": {},
   "outputs": [],
   "source": [
    "df = pd.read_csv(\"artifacts/initial_prepared_data/init_data.csv\")"
   ]
  },
  {
   "cell_type": "code",
   "execution_count": 4,
   "id": "389e520e",
   "metadata": {},
   "outputs": [
    {
     "data": {
      "text/html": [
       "<div>\n",
       "<style scoped>\n",
       "    .dataframe tbody tr th:only-of-type {\n",
       "        vertical-align: middle;\n",
       "    }\n",
       "\n",
       "    .dataframe tbody tr th {\n",
       "        vertical-align: top;\n",
       "    }\n",
       "\n",
       "    .dataframe thead th {\n",
       "        text-align: right;\n",
       "    }\n",
       "</style>\n",
       "<table border=\"1\" class=\"dataframe\">\n",
       "  <thead>\n",
       "    <tr style=\"text-align: right;\">\n",
       "      <th></th>\n",
       "      <th>Source</th>\n",
       "      <th>Compressive strength of cementfce(MPa)</th>\n",
       "      <th>Tensile strength of cementfct(MPa)</th>\n",
       "      <th>Curing age (day)</th>\n",
       "      <th>Dmax of Crushed stone(mm)</th>\n",
       "      <th>Stone powder content in Sand (%)</th>\n",
       "      <th>Fineness modulus of sand</th>\n",
       "      <th>W/B</th>\n",
       "      <th>Water to cement ratio mw/mc</th>\n",
       "      <th>Water(kg/m3)</th>\n",
       "      <th>Sand ratio(%)</th>\n",
       "      <th>Slump(mm)</th>\n",
       "      <th>Compressive strengthfcu,t(MPa)</th>\n",
       "      <th>Splitting tensile strengthfst,t(MPa)</th>\n",
       "    </tr>\n",
       "  </thead>\n",
       "  <tbody>\n",
       "    <tr>\n",
       "      <th>0</th>\n",
       "      <td>Zhao et al [1]</td>\n",
       "      <td>46.8</td>\n",
       "      <td>8.0</td>\n",
       "      <td>3</td>\n",
       "      <td>31.5</td>\n",
       "      <td>5</td>\n",
       "      <td>3.34</td>\n",
       "      <td>0.56</td>\n",
       "      <td>0.56</td>\n",
       "      <td>180</td>\n",
       "      <td>44</td>\n",
       "      <td>50</td>\n",
       "      <td>32.5</td>\n",
       "      <td>1.18</td>\n",
       "    </tr>\n",
       "    <tr>\n",
       "      <th>1</th>\n",
       "      <td>Zhao et al [1]</td>\n",
       "      <td>46.8</td>\n",
       "      <td>8.0</td>\n",
       "      <td>3</td>\n",
       "      <td>31.5</td>\n",
       "      <td>9</td>\n",
       "      <td>3.27</td>\n",
       "      <td>0.56</td>\n",
       "      <td>0.56</td>\n",
       "      <td>180</td>\n",
       "      <td>44</td>\n",
       "      <td>70</td>\n",
       "      <td>28.7</td>\n",
       "      <td>1.13</td>\n",
       "    </tr>\n",
       "    <tr>\n",
       "      <th>2</th>\n",
       "      <td>Zhao et al [1]</td>\n",
       "      <td>46.8</td>\n",
       "      <td>8.0</td>\n",
       "      <td>3</td>\n",
       "      <td>31.5</td>\n",
       "      <td>13</td>\n",
       "      <td>2.77</td>\n",
       "      <td>0.56</td>\n",
       "      <td>0.56</td>\n",
       "      <td>180</td>\n",
       "      <td>44</td>\n",
       "      <td>50</td>\n",
       "      <td>28.5</td>\n",
       "      <td>1.56</td>\n",
       "    </tr>\n",
       "    <tr>\n",
       "      <th>3</th>\n",
       "      <td>Zhao et al [1]</td>\n",
       "      <td>46.8</td>\n",
       "      <td>8.0</td>\n",
       "      <td>7</td>\n",
       "      <td>31.5</td>\n",
       "      <td>5</td>\n",
       "      <td>3.34</td>\n",
       "      <td>0.56</td>\n",
       "      <td>0.56</td>\n",
       "      <td>180</td>\n",
       "      <td>44</td>\n",
       "      <td>50</td>\n",
       "      <td>33.5</td>\n",
       "      <td>1.39</td>\n",
       "    </tr>\n",
       "    <tr>\n",
       "      <th>4</th>\n",
       "      <td>Zhao et al [1]</td>\n",
       "      <td>46.8</td>\n",
       "      <td>8.0</td>\n",
       "      <td>7</td>\n",
       "      <td>31.5</td>\n",
       "      <td>9</td>\n",
       "      <td>3.27</td>\n",
       "      <td>0.56</td>\n",
       "      <td>0.56</td>\n",
       "      <td>180</td>\n",
       "      <td>44</td>\n",
       "      <td>70</td>\n",
       "      <td>34.9</td>\n",
       "      <td>1.38</td>\n",
       "    </tr>\n",
       "  </tbody>\n",
       "</table>\n",
       "</div>"
      ],
      "text/plain": [
       "           Source Compressive strength of cementfce(MPa)  \\\n",
       "0  Zhao et al [1]                                   46.8   \n",
       "1  Zhao et al [1]                                   46.8   \n",
       "2  Zhao et al [1]                                   46.8   \n",
       "3  Zhao et al [1]                                   46.8   \n",
       "4  Zhao et al [1]                                   46.8   \n",
       "\n",
       "  Tensile strength of cementfct(MPa)  Curing age (day)  \\\n",
       "0                                8.0                 3   \n",
       "1                                8.0                 3   \n",
       "2                                8.0                 3   \n",
       "3                                8.0                 7   \n",
       "4                                8.0                 7   \n",
       "\n",
       "  Dmax of Crushed stone(mm) Stone powder content in Sand (%)  \\\n",
       "0                      31.5                                5   \n",
       "1                      31.5                                9   \n",
       "2                      31.5                               13   \n",
       "3                      31.5                                5   \n",
       "4                      31.5                                9   \n",
       "\n",
       "  Fineness modulus of sand    W/B Water to cement ratio mw/mc Water(kg/m3)  \\\n",
       "0                      3.34  0.56                        0.56          180   \n",
       "1                      3.27  0.56                        0.56          180   \n",
       "2                      2.77  0.56                        0.56          180   \n",
       "3                      3.34  0.56                        0.56          180   \n",
       "4                      3.27  0.56                        0.56          180   \n",
       "\n",
       "  Sand ratio(%) Slump(mm) Compressive strengthfcu,t(MPa)  \\\n",
       "0            44        50                           32.5   \n",
       "1            44        70                           28.7   \n",
       "2            44        50                           28.5   \n",
       "3            44        50                           33.5   \n",
       "4            44        70                           34.9   \n",
       "\n",
       "  Splitting tensile strengthfst,t(MPa)  \n",
       "0                                 1.18  \n",
       "1                                 1.13  \n",
       "2                                 1.56  \n",
       "3                                 1.39  \n",
       "4                                 1.38  "
      ]
     },
     "execution_count": 4,
     "metadata": {},
     "output_type": "execute_result"
    }
   ],
   "source": [
    "df.head()"
   ]
  },
  {
   "cell_type": "code",
   "execution_count": 5,
   "id": "8525a63d",
   "metadata": {},
   "outputs": [
    {
     "name": "stdout",
     "output_type": "stream",
     "text": [
      "--------------------------------------------------------------------------------\n",
      "Number of Null value in Source are 0.0 % \n",
      "--------------------------------------------------------------------------------\n",
      "Number of Null value in Compressive strength of cementfce(MPa) are 35.2 % \n",
      "--------------------------------------------------------------------------------\n",
      "Number of Null value in Tensile strength of cementfct(MPa) are 38.5 % \n",
      "--------------------------------------------------------------------------------\n",
      "Number of Null value in Curing age (day) are 0.0 % \n",
      "--------------------------------------------------------------------------------\n",
      "Number of Null value in Dmax of Crushed stone(mm) are 8.7 % \n",
      "--------------------------------------------------------------------------------\n",
      "Number of Null value in Stone powder content in Sand (%) are 5.6 % \n",
      "--------------------------------------------------------------------------------\n",
      "Number of Null value in Fineness modulus of sand  are 16.1 % \n",
      "--------------------------------------------------------------------------------\n",
      "Number of Null value in W/B are 0.6 % \n",
      "--------------------------------------------------------------------------------\n",
      "Number of Null value in Water to cement ratio mw/mc are 1.4 % \n",
      "--------------------------------------------------------------------------------\n",
      "Number of Null value in Water(kg/m3) are 1.8 % \n",
      "--------------------------------------------------------------------------------\n",
      "Number of Null value in Sand ratio(%) are 14.8 % \n",
      "--------------------------------------------------------------------------------\n",
      "Number of Null value in Slump(mm) are 10.5 % \n",
      "--------------------------------------------------------------------------------\n",
      "Number of Null value in Compressive strengthfcu,t(MPa) are 0.0 % \n",
      "--------------------------------------------------------------------------------\n",
      "Number of Null value in Splitting tensile strengthfst,t(MPa) are 0.0 % \n",
      "--------------------------------------------------------------------------------\n"
     ]
    }
   ],
   "source": [
    "# Calculating percentage of missing values in data set\n",
    "## replacing \"-\" with np.nan i.e., null for all columns\n",
    "print(\"--\"*40)\n",
    "for i in df.columns:\n",
    "    df[i]=df[i].replace('-',np.nan)\n",
    "    percent = (df[i]).isnull().sum()/len(df[i])*100    \n",
    "    print(f\"Number of Null value in {i} are {percent.round(1)} % \")\n",
    "    print(\"--\"*40)\n"
   ]
  },
  {
   "cell_type": "code",
   "execution_count": 6,
   "id": "c9db24db",
   "metadata": {},
   "outputs": [],
   "source": [
    "def nw_val(string):\n",
    "    regg=r'-?\\d+\\.?\\d*'\n",
    "    lst = [float(s) for s in re.findall(regg,string)]\n",
    "    avg = sum(lst)/len(lst)\n",
    "    return avg"
   ]
  },
  {
   "cell_type": "code",
   "execution_count": 7,
   "id": "ce66240c",
   "metadata": {},
   "outputs": [],
   "source": [
    "# x = df[df['Stone powder content in Sand (%)'].str.contains(\"~\")==True].index\n",
    "# x[0]"
   ]
  },
  {
   "cell_type": "code",
   "execution_count": 8,
   "id": "c2f7afe0",
   "metadata": {},
   "outputs": [],
   "source": [
    "# (df['Stone powder content in Sand (%)'].iloc[x[0]])"
   ]
  },
  {
   "cell_type": "code",
   "execution_count": 9,
   "id": "0fe2a6dd",
   "metadata": {},
   "outputs": [],
   "source": [
    "# df.at[x[0],'Stone powder content in Sand (%)'] = (nw_val(df['Stone powder content in Sand (%)'].iloc[x[0]]))"
   ]
  },
  {
   "cell_type": "code",
   "execution_count": 10,
   "id": "486b73b3",
   "metadata": {},
   "outputs": [],
   "source": [
    "df = df.apply(pd.to_numeric, errors='ignore')\n",
    "num_col = df.describe().columns"
   ]
  },
  {
   "cell_type": "code",
   "execution_count": 11,
   "id": "4f4deec1",
   "metadata": {},
   "outputs": [
    {
     "name": "stdout",
     "output_type": "stream",
     "text": [
      "['Source', 'Stone powder content in Sand (%)', 'Fineness modulus of sand ', 'Water(kg/m3)', 'Slump(mm)', 'Compressive strengthfcu,t(MPa)', 'Splitting tensile strengthfst,t(MPa)']\n"
     ]
    }
   ],
   "source": [
    "df = df.apply(pd.to_numeric, errors='ignore')\n",
    "num_col = df.describe().columns\n",
    "\n",
    "\n",
    "\n",
    "other_feature = []\n",
    "for feature in df.columns:\n",
    "    if feature not in num_col:\n",
    "        other_feature.append(feature)\n",
    "print(other_feature)\n",
    "\n",
    "\n",
    "for i in other_feature:\n",
    "    df[i]=df[i].replace(regex=['※'], value='')\n",
    "    df[i]=df[i].replace(regex=[\"#\"], value='')\n",
    "    df[i]=df[i].replace(regex=['\\*'], value='')\n"
   ]
  },
  {
   "cell_type": "code",
   "execution_count": 12,
   "id": "2d55b211",
   "metadata": {},
   "outputs": [],
   "source": [
    "####There are some vales with range \n",
    "####Those values are replaced by average of it\n",
    "for i in other_feature:\n",
    "    x = df[df[i].str.contains(\"~\")==True].index\n",
    "    for j in x:\n",
    "#         print(df[i].iloc[j])\n",
    "        df.at[j,i]=nw_val(df[i].iloc[j])\n",
    "#         print(df[i].iloc[j])"
   ]
  },
  {
   "cell_type": "code",
   "execution_count": 13,
   "id": "cc6ae3d3",
   "metadata": {},
   "outputs": [
    {
     "name": "stdout",
     "output_type": "stream",
     "text": [
      "['Source', 'Slump(mm)']\n"
     ]
    }
   ],
   "source": [
    "df = df.apply(pd.to_numeric, errors='ignore')\n",
    "num_col = df.describe().columns\n",
    "\n",
    "\n",
    "\n",
    "other_feature = []\n",
    "for feature in df.columns:\n",
    "    if feature not in num_col:\n",
    "        other_feature.append(feature)\n",
    "print(other_feature)\n"
   ]
  },
  {
   "cell_type": "code",
   "execution_count": 14,
   "id": "d6df35aa",
   "metadata": {},
   "outputs": [
    {
     "data": {
      "text/plain": [
       "array(['50', '70', '110', '160', '45', '30', '60', '22', '16', '28', '11',\n",
       "       '17', '12', '20', '13', '35', '18', '85', '108', '75', '80', '135',\n",
       "       '100', '150', '170', '175', '19', '15', '83', '115', '125', '90',\n",
       "       '95', '25', nan, '36', '40', '43', '205', '200', '140', '240',\n",
       "       '225', '220', '180', '86', '88', '87', '171', '177', '182', '176',\n",
       "       '179', '173', '55', '185', '105', '41', '42', '33', '210', '215',\n",
       "       '202', '208', '190', '203', '130', '260', '195', '230', '120',\n",
       "       '72', '57', '58', '155', '61', '51', '52', '56', '53', '<10', '44',\n",
       "       '49', '46', '54', '47', '48', '145'], dtype=object)"
      ]
     },
     "execution_count": 14,
     "metadata": {},
     "output_type": "execute_result"
    }
   ],
   "source": [
    "df['Slump(mm)'].unique()"
   ]
  },
  {
   "cell_type": "code",
   "execution_count": 15,
   "id": "7f7ccde8",
   "metadata": {},
   "outputs": [],
   "source": [
    "df[\"Slump(mm)\"] = df[\"Slump(mm)\"].replace(\"<10\",5)"
   ]
  },
  {
   "cell_type": "code",
   "execution_count": 16,
   "id": "fb6ed8f6",
   "metadata": {},
   "outputs": [
    {
     "name": "stdout",
     "output_type": "stream",
     "text": [
      "['Source']\n"
     ]
    }
   ],
   "source": [
    "df = df.apply(pd.to_numeric, errors='ignore')\n",
    "num_col = df.describe().columns\n",
    "\n",
    "\n",
    "\n",
    "other_feature = []\n",
    "for feature in df.columns:\n",
    "    if feature not in num_col:\n",
    "        other_feature.append(feature)\n",
    "print(other_feature)"
   ]
  },
  {
   "cell_type": "code",
   "execution_count": 17,
   "id": "f2d4b3ba",
   "metadata": {},
   "outputs": [],
   "source": [
    "df = df.drop(columns='Source')\n"
   ]
  },
  {
   "cell_type": "code",
   "execution_count": 18,
   "id": "91e35aef",
   "metadata": {},
   "outputs": [
    {
     "name": "stdout",
     "output_type": "stream",
     "text": [
      "D:\\Machine learning concrete\\Tensile_compressive_concrete\n",
      "D:\\Machine learning concrete\\Tensile_compressive_concrete\\artifacts\\initial_prepared_data\n"
     ]
    }
   ],
   "source": [
    "directory = os.getcwd() \n",
    "print(directory)\n",
    "os.chdir('D:\\\\Machine learning concrete\\\\Tensile_compressive_concrete\\\\artifacts\\\\initial_prepared_data')\n",
    "directory = os.getcwd() \n",
    "print(directory)"
   ]
  },
  {
   "cell_type": "code",
   "execution_count": 19,
   "id": "9e504c06",
   "metadata": {},
   "outputs": [],
   "source": [
    "df.to_csv(\"Updated_init_data.csv\")"
   ]
  },
  {
   "cell_type": "code",
   "execution_count": 20,
   "id": "eef4dc1a",
   "metadata": {},
   "outputs": [],
   "source": [
    "# df[df['Stone powder content in Sand (%)'].str.contains(\"~\")==True].index"
   ]
  },
  {
   "cell_type": "code",
   "execution_count": 21,
   "id": "699f1334",
   "metadata": {},
   "outputs": [],
   "source": [
    "# df['Fineness modulus of sand '].unique()"
   ]
  },
  {
   "cell_type": "code",
   "execution_count": 22,
   "id": "19429c13",
   "metadata": {},
   "outputs": [],
   "source": [
    "# mask = df['Stone powder content in Sand (%)'].str.contains(\"~\")==True\n",
    "# print(mask.unique())\n",
    "# column_name = 'Stone powder content in Sand (%)'\n",
    "\n",
    "# print(df.loc[mask,column_name])\n"
   ]
  },
  {
   "cell_type": "code",
   "execution_count": 23,
   "id": "e2c0c18b",
   "metadata": {},
   "outputs": [],
   "source": [
    "# (df['Stone powder content in Sand (%)'].str.contains(\"~\")==True).sum()"
   ]
  },
  {
   "cell_type": "code",
   "execution_count": 24,
   "id": "659a27ae",
   "metadata": {},
   "outputs": [],
   "source": [
    "# a = df['Stone powder content in Sand (%)'].unique()\n",
    "\n",
    "# sum([float(s) for s in re.findall(r'-?\\d+\\.?\\d*','11.2~13.0')])/len([float(s) for s in re.findall(r'-?\\d+\\.?\\d*','11.2~13.0')])"
   ]
  }
 ],
 "metadata": {
  "kernelspec": {
   "display_name": "Python 3 (ipykernel)",
   "language": "python",
   "name": "python3"
  },
  "language_info": {
   "codemirror_mode": {
    "name": "ipython",
    "version": 3
   },
   "file_extension": ".py",
   "mimetype": "text/x-python",
   "name": "python",
   "nbconvert_exporter": "python",
   "pygments_lexer": "ipython3",
   "version": "3.10.0"
  }
 },
 "nbformat": 4,
 "nbformat_minor": 5
}
